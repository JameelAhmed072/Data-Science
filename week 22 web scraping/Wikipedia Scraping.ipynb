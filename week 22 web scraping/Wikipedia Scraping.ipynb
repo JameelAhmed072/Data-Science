{
 "cells": [
  {
   "cell_type": "code",
   "execution_count": 1,
   "id": "307321e4",
   "metadata": {},
   "outputs": [],
   "source": [
    "import requests\n",
    "from bs4 import BeautifulSoup\n",
    "import pandas as pd"
   ]
  },
  {
   "cell_type": "code",
   "execution_count": 2,
   "id": "378b4bc1",
   "metadata": {},
   "outputs": [],
   "source": [
    "base_site = 'https://en.wikipedia.org/wiki/List_of_countries_and_dependencies_by_population'"
   ]
  },
  {
   "cell_type": "code",
   "execution_count": 3,
   "id": "d67afdeb",
   "metadata": {},
   "outputs": [],
   "source": [
    "response = requests.get(base_site)"
   ]
  },
  {
   "cell_type": "code",
   "execution_count": 4,
   "id": "31a8dc72",
   "metadata": {},
   "outputs": [
    {
     "data": {
      "text/plain": [
       "<Response [200]>"
      ]
     },
     "execution_count": 4,
     "metadata": {},
     "output_type": "execute_result"
    }
   ],
   "source": [
    "response"
   ]
  },
  {
   "cell_type": "code",
   "execution_count": 5,
   "id": "750760d1",
   "metadata": {},
   "outputs": [],
   "source": [
    "html = response.content"
   ]
  },
  {
   "cell_type": "code",
   "execution_count": 6,
   "id": "586ab985",
   "metadata": {},
   "outputs": [],
   "source": [
    "# html"
   ]
  },
  {
   "cell_type": "code",
   "execution_count": 7,
   "id": "2f9c492e",
   "metadata": {},
   "outputs": [],
   "source": [
    "soup = BeautifulSoup(html,'html.parser')"
   ]
  },
  {
   "cell_type": "code",
   "execution_count": 8,
   "id": "836f7bc5",
   "metadata": {},
   "outputs": [],
   "source": [
    "# soup"
   ]
  },
  {
   "cell_type": "code",
   "execution_count": 9,
   "id": "29a4a649",
   "metadata": {},
   "outputs": [],
   "source": [
    "table = soup.find(class_ = \"wikitable\")"
   ]
  },
  {
   "cell_type": "code",
   "execution_count": 21,
   "id": "e9e83058",
   "metadata": {},
   "outputs": [],
   "source": [
    "# table"
   ]
  },
  {
   "cell_type": "code",
   "execution_count": 22,
   "id": "094510ff",
   "metadata": {},
   "outputs": [],
   "source": [
    "table_rows = table.find_all('tr')"
   ]
  },
  {
   "cell_type": "code",
   "execution_count": 24,
   "id": "90daf1fc",
   "metadata": {},
   "outputs": [],
   "source": [
    "# table_rows"
   ]
  },
  {
   "cell_type": "code",
   "execution_count": 12,
   "id": "1dbe327e",
   "metadata": {},
   "outputs": [],
   "source": [
    "table_rows = table_rows[3:]"
   ]
  },
  {
   "cell_type": "code",
   "execution_count": 13,
   "id": "8945fdfb",
   "metadata": {},
   "outputs": [],
   "source": [
    "# table_rows"
   ]
  },
  {
   "cell_type": "markdown",
   "id": "7bf8dab9",
   "metadata": {},
   "source": [
    "# Scraping Ranks\n",
    "for top 3 countries"
   ]
  },
  {
   "cell_type": "code",
   "execution_count": 14,
   "id": "ac3e0b6a",
   "metadata": {},
   "outputs": [],
   "source": [
    "for i in table_rows[:3]:\n",
    "    rank = i.find('th')\n",
    "#     print(rank.text)\n",
    "    rank = rank.text\n",
    "    rank = rank.strip()\n",
    "#     print(rank)\n",
    "\n",
    "    "
   ]
  },
  {
   "cell_type": "code",
   "execution_count": null,
   "id": "ffccb754",
   "metadata": {},
   "outputs": [],
   "source": [
    "for i in table_rows[:3]:\n",
    "    rank = i.find('th')\n",
    "#     print(rank.text)\n",
    "    rank = rank.text\n",
    "    rank = rank.strip()\n",
    "#     print(rank)\n",
    "\n",
    "    non_headers = i.find_all('td')\n",
    "#     print(non_headers[0].text)\n",
    "    name = non_headers[0].text.strip()\n",
    "#     print(name)"
   ]
  },
  {
   "cell_type": "markdown",
   "id": "7c6b5121",
   "metadata": {},
   "source": [
    "# Rank Non Header"
   ]
  },
  {
   "cell_type": "code",
   "execution_count": 15,
   "id": "1c0ce378",
   "metadata": {},
   "outputs": [],
   "source": [
    "whole_table = []\n",
    "for i in table_rows[:3]:\n",
    "    rank = i.find('th')\n",
    "#     print(rank.text)\n",
    "    rank = rank.text\n",
    "    rank = rank.strip()\n",
    "#     print(rank)\n",
    "\n",
    "    non_headers = i.find_all('td')\n",
    "#     print(non_headers[0].text)\n",
    "    name = non_headers[0].text.strip()\n",
    "#     print(name)\n",
    "    \n",
    "    population = non_headers[1].text.strip()\n",
    "    percentage = non_headers[2].text.strip()\n",
    "    \n",
    "    date = non_headers[3].text.strip()\n",
    "    source = non_headers[4].text.strip()[:-3]\n",
    "    \n",
    "    whole_table.append([rank,name,population,percentage,date,source])\n",
    "    \n",
    "#     print(source)\n",
    "    "
   ]
  },
  {
   "cell_type": "code",
   "execution_count": 16,
   "id": "1998c7f1",
   "metadata": {},
   "outputs": [
    {
     "data": {
      "text/plain": [
       "[['1', 'China', '1,411,750,000', '17.6%', '31 Dec 2022', 'Official estimate'],\n",
       " ['2', 'India', '1,375,586,000', '17.2%', '1 Mar 2022', 'Official projection'],\n",
       " ['3',\n",
       "  'United States',\n",
       "  '334,410,487',\n",
       "  '4.17%',\n",
       "  '21 Feb 2023',\n",
       "  'National population clock']]"
      ]
     },
     "execution_count": 16,
     "metadata": {},
     "output_type": "execute_result"
    }
   ],
   "source": [
    "whole_table"
   ]
  },
  {
   "cell_type": "code",
   "execution_count": 17,
   "id": "bd769727",
   "metadata": {},
   "outputs": [
    {
     "name": "stdout",
     "output_type": "stream",
     "text": [
      "['1', 'China', '1,411,750,000', '17.6%', '31 Dec 2022', 'Official estimate']\n",
      "['2', 'India', '1,375,586,000', '17.2%', '1 Mar 2022', 'Official projection']\n",
      "['3', 'United States', '334,410,487', '4.17%', '21 Feb 2023', 'National population clock']\n"
     ]
    }
   ],
   "source": [
    "for i in whole_table:\n",
    "    print(i)"
   ]
  },
  {
   "cell_type": "code",
   "execution_count": 18,
   "id": "97f26539",
   "metadata": {},
   "outputs": [],
   "source": [
    "df = pd.DataFrame(data = whole_table,columns = ['Rank','Name','Population','Percentage','Date',\"Source\"])"
   ]
  },
  {
   "cell_type": "code",
   "execution_count": 19,
   "id": "9af0f922",
   "metadata": {},
   "outputs": [
    {
     "data": {
      "text/html": [
       "<div>\n",
       "<style scoped>\n",
       "    .dataframe tbody tr th:only-of-type {\n",
       "        vertical-align: middle;\n",
       "    }\n",
       "\n",
       "    .dataframe tbody tr th {\n",
       "        vertical-align: top;\n",
       "    }\n",
       "\n",
       "    .dataframe thead th {\n",
       "        text-align: right;\n",
       "    }\n",
       "</style>\n",
       "<table border=\"1\" class=\"dataframe\">\n",
       "  <thead>\n",
       "    <tr style=\"text-align: right;\">\n",
       "      <th></th>\n",
       "      <th>Rank</th>\n",
       "      <th>Name</th>\n",
       "      <th>Population</th>\n",
       "      <th>Percentage</th>\n",
       "      <th>Date</th>\n",
       "      <th>Source</th>\n",
       "    </tr>\n",
       "  </thead>\n",
       "  <tbody>\n",
       "    <tr>\n",
       "      <th>0</th>\n",
       "      <td>1</td>\n",
       "      <td>China</td>\n",
       "      <td>1,411,750,000</td>\n",
       "      <td>17.6%</td>\n",
       "      <td>31 Dec 2022</td>\n",
       "      <td>Official estimate</td>\n",
       "    </tr>\n",
       "    <tr>\n",
       "      <th>1</th>\n",
       "      <td>2</td>\n",
       "      <td>India</td>\n",
       "      <td>1,375,586,000</td>\n",
       "      <td>17.2%</td>\n",
       "      <td>1 Mar 2022</td>\n",
       "      <td>Official projection</td>\n",
       "    </tr>\n",
       "    <tr>\n",
       "      <th>2</th>\n",
       "      <td>3</td>\n",
       "      <td>United States</td>\n",
       "      <td>334,410,487</td>\n",
       "      <td>4.17%</td>\n",
       "      <td>21 Feb 2023</td>\n",
       "      <td>National population clock</td>\n",
       "    </tr>\n",
       "  </tbody>\n",
       "</table>\n",
       "</div>"
      ],
      "text/plain": [
       "  Rank           Name     Population Percentage         Date  \\\n",
       "0    1          China  1,411,750,000      17.6%  31 Dec 2022   \n",
       "1    2          India  1,375,586,000      17.2%   1 Mar 2022   \n",
       "2    3  United States    334,410,487      4.17%  21 Feb 2023   \n",
       "\n",
       "                      Source  \n",
       "0          Official estimate  \n",
       "1        Official projection  \n",
       "2  National population clock  "
      ]
     },
     "execution_count": 19,
     "metadata": {},
     "output_type": "execute_result"
    }
   ],
   "source": [
    "df"
   ]
  },
  {
   "cell_type": "code",
   "execution_count": null,
   "id": "bf54c914",
   "metadata": {},
   "outputs": [],
   "source": []
  }
 ],
 "metadata": {
  "kernelspec": {
   "display_name": "Python 3 (ipykernel)",
   "language": "python",
   "name": "python3"
  },
  "language_info": {
   "codemirror_mode": {
    "name": "ipython",
    "version": 3
   },
   "file_extension": ".py",
   "mimetype": "text/x-python",
   "name": "python",
   "nbconvert_exporter": "python",
   "pygments_lexer": "ipython3",
   "version": "3.11.2"
  }
 },
 "nbformat": 4,
 "nbformat_minor": 5
}

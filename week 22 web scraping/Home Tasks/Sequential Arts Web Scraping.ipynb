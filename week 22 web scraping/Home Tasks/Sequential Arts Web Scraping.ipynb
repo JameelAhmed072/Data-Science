{
 "cells": [
  {
   "cell_type": "code",
   "execution_count": 1,
   "id": "e9732af2",
   "metadata": {},
   "outputs": [],
   "source": [
    "import requests\n",
    "from bs4 import BeautifulSoup\n",
    "import pandas as pd"
   ]
  },
  {
   "cell_type": "code",
   "execution_count": 2,
   "id": "6d36948f",
   "metadata": {},
   "outputs": [],
   "source": [
    "base_site = 'https://books.toscrape.com/catalogue/category/books/sequential-art_5/index.html'"
   ]
  },
  {
   "cell_type": "code",
   "execution_count": 3,
   "id": "67389067",
   "metadata": {},
   "outputs": [],
   "source": [
    "response = requests.get(base_site)"
   ]
  },
  {
   "cell_type": "code",
   "execution_count": 4,
   "id": "47cdd779",
   "metadata": {},
   "outputs": [
    {
     "data": {
      "text/plain": [
       "<Response [200]>"
      ]
     },
     "execution_count": 4,
     "metadata": {},
     "output_type": "execute_result"
    }
   ],
   "source": [
    "response"
   ]
  },
  {
   "cell_type": "code",
   "execution_count": 5,
   "id": "c04336d6",
   "metadata": {},
   "outputs": [],
   "source": [
    "html = response.content"
   ]
  },
  {
   "cell_type": "code",
   "execution_count": 6,
   "id": "c483c8c8",
   "metadata": {},
   "outputs": [],
   "source": [
    "# html"
   ]
  },
  {
   "cell_type": "code",
   "execution_count": 7,
   "id": "fbbd0bba",
   "metadata": {},
   "outputs": [],
   "source": [
    "soup = BeautifulSoup(html,'html.parser')"
   ]
  },
  {
   "cell_type": "code",
   "execution_count": 8,
   "id": "81076221",
   "metadata": {},
   "outputs": [],
   "source": [
    "# soup"
   ]
  },
  {
   "cell_type": "code",
   "execution_count": 9,
   "id": "e909bc7b",
   "metadata": {},
   "outputs": [
    {
     "data": {
      "text/plain": [
       "True"
      ]
     },
     "execution_count": 9,
     "metadata": {},
     "output_type": "execute_result"
    }
   ],
   "source": [
    "bool(soup.find(class_ = 'next'))"
   ]
  },
  {
   "cell_type": "code",
   "execution_count": 10,
   "id": "f84ee010",
   "metadata": {},
   "outputs": [],
   "source": [
    "next_button = True\n",
    "page_num = 1"
   ]
  },
  {
   "cell_type": "markdown",
   "id": "8e0049d6",
   "metadata": {},
   "source": [
    "# Scraping Titles\n"
   ]
  },
  {
   "cell_type": "code",
   "execution_count": 29,
   "id": "91d12cb7",
   "metadata": {},
   "outputs": [
    {
     "data": {
      "text/plain": [
       "<h3><a href=\"../../../scott-pilgrims-precious-little-life-scott-pilgrim-1_987/index.html\" title=\"Scott Pilgrim's Precious Little Life (Scott Pilgrim #1)\">Scott Pilgrim's Precious Little ...</a></h3>"
      ]
     },
     "execution_count": 29,
     "metadata": {},
     "output_type": "execute_result"
    }
   ],
   "source": [
    "soup.find('h3')#.find('a').get('title')"
   ]
  },
  {
   "cell_type": "code",
   "execution_count": 12,
   "id": "ca19287a",
   "metadata": {},
   "outputs": [],
   "source": [
    "title_list = []\n",
    "for i in soup.find_all('h3'):\n",
    "    title_list.append(i.find('a').get('title'))"
   ]
  },
  {
   "cell_type": "code",
   "execution_count": 13,
   "id": "aab5a3a6",
   "metadata": {},
   "outputs": [],
   "source": [
    "# title_list"
   ]
  },
  {
   "cell_type": "markdown",
   "id": "c7b7db80",
   "metadata": {},
   "source": [
    "# Scraping Rating"
   ]
  },
  {
   "cell_type": "code",
   "execution_count": 14,
   "id": "71b32317",
   "metadata": {},
   "outputs": [
    {
     "data": {
      "text/plain": [
       "'Five'"
      ]
     },
     "execution_count": 14,
     "metadata": {},
     "output_type": "execute_result"
    }
   ],
   "source": [
    "soup.find('p').get('class')[1]"
   ]
  },
  {
   "cell_type": "code",
   "execution_count": 15,
   "id": "daae4cd5",
   "metadata": {},
   "outputs": [],
   "source": [
    "Rating_list = []\n",
    "tag = soup.find_all('article')\n",
    "for i in tag:\n",
    "    Rating_list.append(i.find('p').get('class')[1])"
   ]
  },
  {
   "cell_type": "code",
   "execution_count": 16,
   "id": "99811ffc",
   "metadata": {},
   "outputs": [],
   "source": [
    "# Rating_list"
   ]
  },
  {
   "cell_type": "markdown",
   "id": "0c86745a",
   "metadata": {},
   "source": [
    "# Scraping Price "
   ]
  },
  {
   "cell_type": "code",
   "execution_count": 17,
   "id": "b9e80b41",
   "metadata": {},
   "outputs": [
    {
     "data": {
      "text/plain": [
       "'£52.29'"
      ]
     },
     "execution_count": 17,
     "metadata": {},
     "output_type": "execute_result"
    }
   ],
   "source": [
    "soup.find(class_ = 'price_color').text"
   ]
  },
  {
   "cell_type": "code",
   "execution_count": 18,
   "id": "8558690b",
   "metadata": {},
   "outputs": [],
   "source": [
    "price_list = []\n",
    "price = soup.find_all(class_ = 'price_color')\n",
    "for i in price:\n",
    "    price_list.append(i.text)"
   ]
  },
  {
   "cell_type": "code",
   "execution_count": 19,
   "id": "9696ca02",
   "metadata": {},
   "outputs": [],
   "source": [
    "# price_list"
   ]
  },
  {
   "cell_type": "markdown",
   "id": "46c86193",
   "metadata": {},
   "source": [
    "# Scraping Availabilty"
   ]
  },
  {
   "cell_type": "code",
   "execution_count": 20,
   "id": "fb740f2b",
   "metadata": {},
   "outputs": [
    {
     "data": {
      "text/plain": [
       "<p class=\"instock availability\">\n",
       "<i class=\"icon-ok\"></i>\n",
       "    \n",
       "        In stock\n",
       "    \n",
       "</p>"
      ]
     },
     "execution_count": 20,
     "metadata": {},
     "output_type": "execute_result"
    }
   ],
   "source": [
    "soup.find(class_ = 'instock availability')"
   ]
  },
  {
   "cell_type": "code",
   "execution_count": 21,
   "id": "a7a22190",
   "metadata": {},
   "outputs": [],
   "source": [
    "stocks = []\n",
    "stock = soup.find_all(class_ = 'instock availability')\n",
    "for i in stock:\n",
    "    stocks.append(i.text.strip())"
   ]
  },
  {
   "cell_type": "code",
   "execution_count": 22,
   "id": "179c759c",
   "metadata": {},
   "outputs": [],
   "source": [
    "# stocks"
   ]
  },
  {
   "cell_type": "code",
   "execution_count": null,
   "id": "9a989de1",
   "metadata": {},
   "outputs": [],
   "source": []
  },
  {
   "cell_type": "markdown",
   "id": "3031e521",
   "metadata": {},
   "source": [
    "# Scraping Paginated Pages"
   ]
  },
  {
   "cell_type": "code",
   "execution_count": 23,
   "id": "86bee88e",
   "metadata": {},
   "outputs": [],
   "source": [
    "# page_num = 1\n",
    "# next_button = True\n",
    "# title_rat_available_stock = []\n",
    "# while next_button:\n",
    "#     base_site = 'https://books.toscrape.com/catalogue/category/books/sequential-art_5/index.html'    \n",
    "#     response = requests.get(base_site)    \n",
    "#     html = response.content\n",
    "#     soup = BeautifulSoup(html,'html.parser')\n",
    "#     next_button = soup.find(class_ = 'next')\n",
    "    \n",
    "#     products = soup.find_all(class_ = 'product_pod')\n",
    "#     for i in products:\n",
    "#         rating = i.find('p').get('class')[1]\n",
    "#         title = i.find('h3').find('a').get('title')\n",
    "#         price = i.find(class_ = 'price_color').text\n",
    "#         stock = i.find(class_ = 'instock availability').text.strip()\n",
    "#         title_rat_available_stock.append([title,rating,stock,price])\n",
    "                \n",
    "            \n",
    "         \n",
    "    "
   ]
  },
  {
   "cell_type": "code",
   "execution_count": 24,
   "id": "cb443837",
   "metadata": {},
   "outputs": [],
   "source": [
    "# page_num = 1\n",
    "# next_button = True\n",
    "# title_rat_avail_stock = []\n",
    "# while next_button:\n",
    "    \n",
    "#     base_site = \"https://books.toscrape.com/catalogue/category/books/sequential-art_5/index.html\"\n",
    "#     response = requests.get(base_site)\n",
    "#     html = response.content\n",
    "#     soup = BeautifulSoup(html,\"html.parser\")\n",
    "#     next_button = soup.find(class_=\"next\")\n",
    "#     prod = soup.find_all(class_=\"product_pod\")\n",
    " \n",
    "#     for i in prod:\n",
    "#         rating = i.find(\"p\").get(\"class\")[1]\n",
    "#         title = i.find(\"h3\").find(\"a\").get(\"title\")\n",
    "#         price = i.find(class_=\"price_color\").text\n",
    "#         stock = i.find(class_=\"instock availability\").text.strip()\n",
    "#         title_rat_avail_stock.append([title,rating,stock,price])\n",
    " \n",
    "#     page_num+=1"
   ]
  },
  {
   "cell_type": "code",
   "execution_count": 25,
   "id": "59dec698",
   "metadata": {},
   "outputs": [],
   "source": [
    "# df = pd.DataFrame(data=title_rat_avail_stock,columns=['Title','Rating','Stock','price']\n",
    "# df.head(20)"
   ]
  },
  {
   "cell_type": "code",
   "execution_count": null,
   "id": "8330c2e2",
   "metadata": {},
   "outputs": [],
   "source": []
  },
  {
   "cell_type": "code",
   "execution_count": null,
   "id": "d726d18f",
   "metadata": {},
   "outputs": [],
   "source": []
  },
  {
   "cell_type": "code",
   "execution_count": 26,
   "id": "e467964f",
   "metadata": {},
   "outputs": [],
   "source": [
    "# title_rat_available_stock"
   ]
  },
  {
   "cell_type": "code",
   "execution_count": 27,
   "id": "d7e6f2bf",
   "metadata": {},
   "outputs": [],
   "source": [
    "# data = {'Title':title,\"Rating\":rating,'Stock':stock,'Price':price}"
   ]
  },
  {
   "cell_type": "code",
   "execution_count": 28,
   "id": "5768643d",
   "metadata": {},
   "outputs": [],
   "source": [
    "# df = pd.DataFrame(data)"
   ]
  },
  {
   "cell_type": "code",
   "execution_count": null,
   "id": "9bbc76a1",
   "metadata": {},
   "outputs": [],
   "source": []
  }
 ],
 "metadata": {
  "kernelspec": {
   "display_name": "Python 3 (ipykernel)",
   "language": "python",
   "name": "python3"
  },
  "language_info": {
   "codemirror_mode": {
    "name": "ipython",
    "version": 3
   },
   "file_extension": ".py",
   "mimetype": "text/x-python",
   "name": "python",
   "nbconvert_exporter": "python",
   "pygments_lexer": "ipython3",
   "version": "3.11.2"
  }
 },
 "nbformat": 4,
 "nbformat_minor": 5
}

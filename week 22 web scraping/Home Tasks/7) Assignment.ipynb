{
 "cells": [
  {
   "cell_type": "markdown",
   "id": "abbf4893",
   "metadata": {},
   "source": [
    "# books to scrape"
   ]
  },
  {
   "cell_type": "markdown",
   "id": "578cb20b",
   "metadata": {},
   "source": [
    "scrape all pages of genre **Sequential Art**"
   ]
  },
  {
   "cell_type": "code",
   "execution_count": null,
   "id": "059fede7",
   "metadata": {},
   "outputs": [],
   "source": []
  }
 ],
 "metadata": {
  "kernelspec": {
   "display_name": "Python 3 (ipykernel)",
   "language": "python",
   "name": "python3"
  },
  "language_info": {
   "codemirror_mode": {
    "name": "ipython",
    "version": 3
   },
   "file_extension": ".py",
   "mimetype": "text/x-python",
   "name": "python",
   "nbconvert_exporter": "python",
   "pygments_lexer": "ipython3",
   "version": "3.9.13"
  }
 },
 "nbformat": 4,
 "nbformat_minor": 5
}

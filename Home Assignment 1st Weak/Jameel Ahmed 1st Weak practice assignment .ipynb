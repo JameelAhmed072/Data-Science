{
 "cells": [
  {
   "cell_type": "markdown",
   "id": "046c7b81",
   "metadata": {},
   "source": [
    "# Question 1"
   ]
  },
  {
   "cell_type": "code",
   "execution_count": 1,
   "id": "eb3abae2",
   "metadata": {},
   "outputs": [
    {
     "name": "stdout",
     "output_type": "stream",
     "text": [
      "Robert Wadlow \n"
     ]
    }
   ],
   "source": [
    "print(\"Robert Wadlow \")"
   ]
  },
  {
   "cell_type": "code",
   "execution_count": 2,
   "id": "8f49ba0d",
   "metadata": {},
   "outputs": [
    {
     "name": "stdout",
     "output_type": "stream",
     "text": [
      "<class 'str'>\n"
     ]
    }
   ],
   "source": [
    "print(type(\"Robert Wadlow \"))"
   ]
  },
  {
   "cell_type": "code",
   "execution_count": 3,
   "id": "b88c853b",
   "metadata": {},
   "outputs": [
    {
     "name": "stdout",
     "output_type": "stream",
     "text": [
      "22\n"
     ]
    }
   ],
   "source": [
    "print(22)"
   ]
  },
  {
   "cell_type": "code",
   "execution_count": 4,
   "id": "25ace508",
   "metadata": {},
   "outputs": [
    {
     "name": "stdout",
     "output_type": "stream",
     "text": [
      "<class 'int'>\n"
     ]
    }
   ],
   "source": [
    "print(type(22))"
   ]
  },
  {
   "cell_type": "code",
   "execution_count": 5,
   "id": "77f25021",
   "metadata": {},
   "outputs": [
    {
     "name": "stdout",
     "output_type": "stream",
     "text": [
      "8.11\n"
     ]
    }
   ],
   "source": [
    "print(8.11)"
   ]
  },
  {
   "cell_type": "code",
   "execution_count": 6,
   "id": "4dd12148",
   "metadata": {},
   "outputs": [
    {
     "name": "stdout",
     "output_type": "stream",
     "text": [
      "<class 'float'>\n"
     ]
    }
   ],
   "source": [
    "print(type(8.11))"
   ]
  },
  {
   "cell_type": "markdown",
   "id": "a6a66290",
   "metadata": {},
   "source": [
    "# Arthmetic Operations"
   ]
  },
  {
   "cell_type": "code",
   "execution_count": 7,
   "id": "7ea8d142",
   "metadata": {},
   "outputs": [
    {
     "name": "stdout",
     "output_type": "stream",
     "text": [
      "590\n"
     ]
    }
   ],
   "source": [
    "print(320+270)"
   ]
  },
  {
   "cell_type": "code",
   "execution_count": 8,
   "id": "f680283a",
   "metadata": {},
   "outputs": [
    {
     "name": "stdout",
     "output_type": "stream",
     "text": [
      "1415\n"
     ]
    }
   ],
   "source": [
    "print(5000-3585)"
   ]
  },
  {
   "cell_type": "code",
   "execution_count": 9,
   "id": "6392fab8",
   "metadata": {},
   "outputs": [
    {
     "name": "stdout",
     "output_type": "stream",
     "text": [
      "47912\n"
     ]
    }
   ],
   "source": [
    "print(226* 212)"
   ]
  },
  {
   "cell_type": "code",
   "execution_count": 10,
   "id": "3af1f566",
   "metadata": {},
   "outputs": [
    {
     "name": "stdout",
     "output_type": "stream",
     "text": [
      "226.0\n"
     ]
    }
   ],
   "source": [
    "print(5876/26)"
   ]
  },
  {
   "cell_type": "code",
   "execution_count": 11,
   "id": "c0309d36",
   "metadata": {},
   "outputs": [
    {
     "name": "stdout",
     "output_type": "stream",
     "text": [
      "32768\n"
     ]
    }
   ],
   "source": [
    "print(32 ** 3)"
   ]
  },
  {
   "cell_type": "code",
   "execution_count": 12,
   "id": "c6f197b5",
   "metadata": {},
   "outputs": [
    {
     "name": "stdout",
     "output_type": "stream",
     "text": [
      "2\n"
     ]
    }
   ],
   "source": [
    "print(582%5)"
   ]
  },
  {
   "cell_type": "markdown",
   "id": "a953ece6",
   "metadata": {},
   "source": [
    "# PEMDAS"
   ]
  },
  {
   "cell_type": "code",
   "execution_count": 15,
   "id": "2b7cede9",
   "metadata": {},
   "outputs": [
    {
     "name": "stdout",
     "output_type": "stream",
     "text": [
      "415\n"
     ]
    }
   ],
   "source": [
    "print(10*2+(15+29)*9-1)\n",
    "    * 10*2 +44 * 9 -1\n",
    "    * 20 + 396 - 1\n",
    "    * 416 -1\n",
    "    * 415"
   ]
  },
  {
   "cell_type": "markdown",
   "id": "e6fad612",
   "metadata": {},
   "source": [
    "# Variables"
   ]
  },
  {
   "cell_type": "code",
   "execution_count": 25,
   "id": "47583236",
   "metadata": {},
   "outputs": [],
   "source": [
    "circketer_1 = \"Baber\"\n",
    "circketer_2 = \"Kohli\"\n",
    "average = 56.86\n",
    "hundreds = 13"
   ]
  },
  {
   "cell_type": "code",
   "execution_count": 20,
   "id": "3f71d99b",
   "metadata": {},
   "outputs": [
    {
     "data": {
      "text/plain": [
       "'Baber'"
      ]
     },
     "execution_count": 20,
     "metadata": {},
     "output_type": "execute_result"
    }
   ],
   "source": [
    "circketer_1\n"
   ]
  },
  {
   "cell_type": "code",
   "execution_count": 21,
   "id": "c75e7ad7",
   "metadata": {},
   "outputs": [
    {
     "data": {
      "text/plain": [
       "'Kohli'"
      ]
     },
     "execution_count": 21,
     "metadata": {},
     "output_type": "execute_result"
    }
   ],
   "source": [
    "circketer_2"
   ]
  },
  {
   "cell_type": "code",
   "execution_count": 22,
   "id": "d0ab158c",
   "metadata": {},
   "outputs": [
    {
     "data": {
      "text/plain": [
       "56.86"
      ]
     },
     "execution_count": 22,
     "metadata": {},
     "output_type": "execute_result"
    }
   ],
   "source": [
    "average"
   ]
  },
  {
   "cell_type": "code",
   "execution_count": 26,
   "id": "511bfca4",
   "metadata": {},
   "outputs": [
    {
     "data": {
      "text/plain": [
       "13"
      ]
     },
     "execution_count": 26,
     "metadata": {},
     "output_type": "execute_result"
    }
   ],
   "source": [
    "hundreds"
   ]
  },
  {
   "cell_type": "code",
   "execution_count": 28,
   "id": "2438aaa8",
   "metadata": {},
   "outputs": [
    {
     "name": "stdout",
     "output_type": "stream",
     "text": [
      " Name :  Baber \n",
      " Average :  56.86 \n",
      " Hundreds :  13\n"
     ]
    }
   ],
   "source": [
    "print(\" Name : \",circketer_1,'\\n', 'Average : ',average , '\\n' , 'Hundreds : ',hundreds)"
   ]
  },
  {
   "cell_type": "code",
   "execution_count": null,
   "id": "53771d0a",
   "metadata": {},
   "outputs": [],
   "source": []
  }
 ],
 "metadata": {
  "kernelspec": {
   "display_name": "Python 3 (ipykernel)",
   "language": "python",
   "name": "python3"
  },
  "language_info": {
   "codemirror_mode": {
    "name": "ipython",
    "version": 3
   },
   "file_extension": ".py",
   "mimetype": "text/x-python",
   "name": "python",
   "nbconvert_exporter": "python",
   "pygments_lexer": "ipython3",
   "version": "3.10.4"
  }
 },
 "nbformat": 4,
 "nbformat_minor": 5
}

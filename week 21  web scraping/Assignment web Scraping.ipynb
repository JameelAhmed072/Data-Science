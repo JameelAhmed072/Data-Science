{
 "cells": [
  {
   "cell_type": "code",
   "execution_count": 1,
   "id": "17c879f0",
   "metadata": {},
   "outputs": [],
   "source": [
    "import requests\n",
    "from bs4 import BeautifulSoup\n",
    "import pandas as pd\n",
    "import matplotlib.pyplot as plt\n",
    "import seaborn as sns"
   ]
  },
  {
   "cell_type": "code",
   "execution_count": 2,
   "id": "7726020e",
   "metadata": {},
   "outputs": [],
   "source": [
    "base_site = 'https://books.toscrape.com/'"
   ]
  },
  {
   "cell_type": "code",
   "execution_count": 3,
   "id": "c02c16f2",
   "metadata": {},
   "outputs": [],
   "source": [
    "response = requests.get(base_site)"
   ]
  },
  {
   "cell_type": "code",
   "execution_count": 4,
   "id": "ddbc5b39",
   "metadata": {},
   "outputs": [
    {
     "data": {
      "text/plain": [
       "<Response [200]>"
      ]
     },
     "execution_count": 4,
     "metadata": {},
     "output_type": "execute_result"
    }
   ],
   "source": [
    "response"
   ]
  },
  {
   "cell_type": "code",
   "execution_count": 5,
   "id": "612707f8",
   "metadata": {},
   "outputs": [],
   "source": [
    "html = response.content"
   ]
  },
  {
   "cell_type": "code",
   "execution_count": 6,
   "id": "a45bff62",
   "metadata": {},
   "outputs": [],
   "source": [
    "# html"
   ]
  },
  {
   "cell_type": "code",
   "execution_count": 7,
   "id": "30ccdfcd",
   "metadata": {},
   "outputs": [],
   "source": [
    "soup  = BeautifulSoup(html, 'html.parser')"
   ]
  },
  {
   "cell_type": "code",
   "execution_count": 8,
   "id": "8adf2b96",
   "metadata": {},
   "outputs": [],
   "source": [
    "# soup"
   ]
  },
  {
   "cell_type": "markdown",
   "id": "9e3c04f3",
   "metadata": {},
   "source": [
    "# Extracting Books name"
   ]
  },
  {
   "cell_type": "code",
   "execution_count": 9,
   "id": "22166292",
   "metadata": {},
   "outputs": [],
   "source": [
    "Book_names = []\n",
    "for i in soup.find_all('h3'):\n",
    "    Book_names.append(i.text)"
   ]
  },
  {
   "cell_type": "code",
   "execution_count": 10,
   "id": "39121dd1",
   "metadata": {},
   "outputs": [],
   "source": [
    "# Book_names"
   ]
  },
  {
   "cell_type": "markdown",
   "id": "f0596a61",
   "metadata": {},
   "source": [
    "# Extracting Rating"
   ]
  },
  {
   "cell_type": "code",
   "execution_count": 11,
   "id": "0fba90fd",
   "metadata": {},
   "outputs": [],
   "source": [
    "rat = soup.find_all(class_ = 'star-rating')"
   ]
  },
  {
   "cell_type": "code",
   "execution_count": 42,
   "id": "cd5562c7",
   "metadata": {},
   "outputs": [],
   "source": [
    "# rat"
   ]
  },
  {
   "cell_type": "code",
   "execution_count": 45,
   "id": "3ba7d133",
   "metadata": {},
   "outputs": [],
   "source": [
    "rating = []\n",
    "for i in rat:\n",
    "    rating.append(str(i))"
   ]
  },
  {
   "cell_type": "code",
   "execution_count": 46,
   "id": "1f27d6c7",
   "metadata": {},
   "outputs": [
    {
     "data": {
      "text/plain": [
       "['<p class=\"star-rating Three\">\\n<i class=\"icon-star\"></i>\\n<i class=\"icon-star\"></i>\\n<i class=\"icon-star\"></i>\\n<i class=\"icon-star\"></i>\\n<i class=\"icon-star\"></i>\\n</p>',\n",
       " '<p class=\"star-rating One\">\\n<i class=\"icon-star\"></i>\\n<i class=\"icon-star\"></i>\\n<i class=\"icon-star\"></i>\\n<i class=\"icon-star\"></i>\\n<i class=\"icon-star\"></i>\\n</p>',\n",
       " '<p class=\"star-rating One\">\\n<i class=\"icon-star\"></i>\\n<i class=\"icon-star\"></i>\\n<i class=\"icon-star\"></i>\\n<i class=\"icon-star\"></i>\\n<i class=\"icon-star\"></i>\\n</p>',\n",
       " '<p class=\"star-rating Four\">\\n<i class=\"icon-star\"></i>\\n<i class=\"icon-star\"></i>\\n<i class=\"icon-star\"></i>\\n<i class=\"icon-star\"></i>\\n<i class=\"icon-star\"></i>\\n</p>',\n",
       " '<p class=\"star-rating Five\">\\n<i class=\"icon-star\"></i>\\n<i class=\"icon-star\"></i>\\n<i class=\"icon-star\"></i>\\n<i class=\"icon-star\"></i>\\n<i class=\"icon-star\"></i>\\n</p>',\n",
       " '<p class=\"star-rating One\">\\n<i class=\"icon-star\"></i>\\n<i class=\"icon-star\"></i>\\n<i class=\"icon-star\"></i>\\n<i class=\"icon-star\"></i>\\n<i class=\"icon-star\"></i>\\n</p>',\n",
       " '<p class=\"star-rating Four\">\\n<i class=\"icon-star\"></i>\\n<i class=\"icon-star\"></i>\\n<i class=\"icon-star\"></i>\\n<i class=\"icon-star\"></i>\\n<i class=\"icon-star\"></i>\\n</p>',\n",
       " '<p class=\"star-rating Three\">\\n<i class=\"icon-star\"></i>\\n<i class=\"icon-star\"></i>\\n<i class=\"icon-star\"></i>\\n<i class=\"icon-star\"></i>\\n<i class=\"icon-star\"></i>\\n</p>',\n",
       " '<p class=\"star-rating Four\">\\n<i class=\"icon-star\"></i>\\n<i class=\"icon-star\"></i>\\n<i class=\"icon-star\"></i>\\n<i class=\"icon-star\"></i>\\n<i class=\"icon-star\"></i>\\n</p>',\n",
       " '<p class=\"star-rating One\">\\n<i class=\"icon-star\"></i>\\n<i class=\"icon-star\"></i>\\n<i class=\"icon-star\"></i>\\n<i class=\"icon-star\"></i>\\n<i class=\"icon-star\"></i>\\n</p>',\n",
       " '<p class=\"star-rating Two\">\\n<i class=\"icon-star\"></i>\\n<i class=\"icon-star\"></i>\\n<i class=\"icon-star\"></i>\\n<i class=\"icon-star\"></i>\\n<i class=\"icon-star\"></i>\\n</p>',\n",
       " '<p class=\"star-rating Four\">\\n<i class=\"icon-star\"></i>\\n<i class=\"icon-star\"></i>\\n<i class=\"icon-star\"></i>\\n<i class=\"icon-star\"></i>\\n<i class=\"icon-star\"></i>\\n</p>',\n",
       " '<p class=\"star-rating Five\">\\n<i class=\"icon-star\"></i>\\n<i class=\"icon-star\"></i>\\n<i class=\"icon-star\"></i>\\n<i class=\"icon-star\"></i>\\n<i class=\"icon-star\"></i>\\n</p>',\n",
       " '<p class=\"star-rating Five\">\\n<i class=\"icon-star\"></i>\\n<i class=\"icon-star\"></i>\\n<i class=\"icon-star\"></i>\\n<i class=\"icon-star\"></i>\\n<i class=\"icon-star\"></i>\\n</p>',\n",
       " '<p class=\"star-rating Five\">\\n<i class=\"icon-star\"></i>\\n<i class=\"icon-star\"></i>\\n<i class=\"icon-star\"></i>\\n<i class=\"icon-star\"></i>\\n<i class=\"icon-star\"></i>\\n</p>',\n",
       " '<p class=\"star-rating Three\">\\n<i class=\"icon-star\"></i>\\n<i class=\"icon-star\"></i>\\n<i class=\"icon-star\"></i>\\n<i class=\"icon-star\"></i>\\n<i class=\"icon-star\"></i>\\n</p>',\n",
       " '<p class=\"star-rating One\">\\n<i class=\"icon-star\"></i>\\n<i class=\"icon-star\"></i>\\n<i class=\"icon-star\"></i>\\n<i class=\"icon-star\"></i>\\n<i class=\"icon-star\"></i>\\n</p>',\n",
       " '<p class=\"star-rating One\">\\n<i class=\"icon-star\"></i>\\n<i class=\"icon-star\"></i>\\n<i class=\"icon-star\"></i>\\n<i class=\"icon-star\"></i>\\n<i class=\"icon-star\"></i>\\n</p>',\n",
       " '<p class=\"star-rating Two\">\\n<i class=\"icon-star\"></i>\\n<i class=\"icon-star\"></i>\\n<i class=\"icon-star\"></i>\\n<i class=\"icon-star\"></i>\\n<i class=\"icon-star\"></i>\\n</p>',\n",
       " '<p class=\"star-rating Two\">\\n<i class=\"icon-star\"></i>\\n<i class=\"icon-star\"></i>\\n<i class=\"icon-star\"></i>\\n<i class=\"icon-star\"></i>\\n<i class=\"icon-star\"></i>\\n</p>']"
      ]
     },
     "execution_count": 46,
     "metadata": {},
     "output_type": "execute_result"
    }
   ],
   "source": [
    "rating"
   ]
  },
  {
   "cell_type": "code",
   "execution_count": 39,
   "id": "329e286e",
   "metadata": {},
   "outputs": [],
   "source": [
    "ratings = []\n",
    "for i in rating:\n",
    "    ratings.append(i.split('\"')[1].split(\" \")[1])"
   ]
  },
  {
   "cell_type": "code",
   "execution_count": 37,
   "id": "7718bfa3",
   "metadata": {},
   "outputs": [
    {
     "data": {
      "text/plain": [
       "[['<p class=',\n",
       "  'star-rating Three',\n",
       "  '>\\n<i class=',\n",
       "  'icon-star',\n",
       "  '></i>\\n<i class=',\n",
       "  'icon-star',\n",
       "  '></i>\\n<i class=',\n",
       "  'icon-star',\n",
       "  '></i>\\n<i class=',\n",
       "  'icon-star',\n",
       "  '></i>\\n<i class=',\n",
       "  'icon-star',\n",
       "  '></i>\\n</p>'],\n",
       " ['<p class=',\n",
       "  'star-rating One',\n",
       "  '>\\n<i class=',\n",
       "  'icon-star',\n",
       "  '></i>\\n<i class=',\n",
       "  'icon-star',\n",
       "  '></i>\\n<i class=',\n",
       "  'icon-star',\n",
       "  '></i>\\n<i class=',\n",
       "  'icon-star',\n",
       "  '></i>\\n<i class=',\n",
       "  'icon-star',\n",
       "  '></i>\\n</p>'],\n",
       " ['<p class=',\n",
       "  'star-rating One',\n",
       "  '>\\n<i class=',\n",
       "  'icon-star',\n",
       "  '></i>\\n<i class=',\n",
       "  'icon-star',\n",
       "  '></i>\\n<i class=',\n",
       "  'icon-star',\n",
       "  '></i>\\n<i class=',\n",
       "  'icon-star',\n",
       "  '></i>\\n<i class=',\n",
       "  'icon-star',\n",
       "  '></i>\\n</p>'],\n",
       " ['<p class=',\n",
       "  'star-rating Four',\n",
       "  '>\\n<i class=',\n",
       "  'icon-star',\n",
       "  '></i>\\n<i class=',\n",
       "  'icon-star',\n",
       "  '></i>\\n<i class=',\n",
       "  'icon-star',\n",
       "  '></i>\\n<i class=',\n",
       "  'icon-star',\n",
       "  '></i>\\n<i class=',\n",
       "  'icon-star',\n",
       "  '></i>\\n</p>'],\n",
       " ['<p class=',\n",
       "  'star-rating Five',\n",
       "  '>\\n<i class=',\n",
       "  'icon-star',\n",
       "  '></i>\\n<i class=',\n",
       "  'icon-star',\n",
       "  '></i>\\n<i class=',\n",
       "  'icon-star',\n",
       "  '></i>\\n<i class=',\n",
       "  'icon-star',\n",
       "  '></i>\\n<i class=',\n",
       "  'icon-star',\n",
       "  '></i>\\n</p>'],\n",
       " ['<p class=',\n",
       "  'star-rating One',\n",
       "  '>\\n<i class=',\n",
       "  'icon-star',\n",
       "  '></i>\\n<i class=',\n",
       "  'icon-star',\n",
       "  '></i>\\n<i class=',\n",
       "  'icon-star',\n",
       "  '></i>\\n<i class=',\n",
       "  'icon-star',\n",
       "  '></i>\\n<i class=',\n",
       "  'icon-star',\n",
       "  '></i>\\n</p>'],\n",
       " ['<p class=',\n",
       "  'star-rating Four',\n",
       "  '>\\n<i class=',\n",
       "  'icon-star',\n",
       "  '></i>\\n<i class=',\n",
       "  'icon-star',\n",
       "  '></i>\\n<i class=',\n",
       "  'icon-star',\n",
       "  '></i>\\n<i class=',\n",
       "  'icon-star',\n",
       "  '></i>\\n<i class=',\n",
       "  'icon-star',\n",
       "  '></i>\\n</p>'],\n",
       " ['<p class=',\n",
       "  'star-rating Three',\n",
       "  '>\\n<i class=',\n",
       "  'icon-star',\n",
       "  '></i>\\n<i class=',\n",
       "  'icon-star',\n",
       "  '></i>\\n<i class=',\n",
       "  'icon-star',\n",
       "  '></i>\\n<i class=',\n",
       "  'icon-star',\n",
       "  '></i>\\n<i class=',\n",
       "  'icon-star',\n",
       "  '></i>\\n</p>'],\n",
       " ['<p class=',\n",
       "  'star-rating Four',\n",
       "  '>\\n<i class=',\n",
       "  'icon-star',\n",
       "  '></i>\\n<i class=',\n",
       "  'icon-star',\n",
       "  '></i>\\n<i class=',\n",
       "  'icon-star',\n",
       "  '></i>\\n<i class=',\n",
       "  'icon-star',\n",
       "  '></i>\\n<i class=',\n",
       "  'icon-star',\n",
       "  '></i>\\n</p>'],\n",
       " ['<p class=',\n",
       "  'star-rating One',\n",
       "  '>\\n<i class=',\n",
       "  'icon-star',\n",
       "  '></i>\\n<i class=',\n",
       "  'icon-star',\n",
       "  '></i>\\n<i class=',\n",
       "  'icon-star',\n",
       "  '></i>\\n<i class=',\n",
       "  'icon-star',\n",
       "  '></i>\\n<i class=',\n",
       "  'icon-star',\n",
       "  '></i>\\n</p>'],\n",
       " ['<p class=',\n",
       "  'star-rating Two',\n",
       "  '>\\n<i class=',\n",
       "  'icon-star',\n",
       "  '></i>\\n<i class=',\n",
       "  'icon-star',\n",
       "  '></i>\\n<i class=',\n",
       "  'icon-star',\n",
       "  '></i>\\n<i class=',\n",
       "  'icon-star',\n",
       "  '></i>\\n<i class=',\n",
       "  'icon-star',\n",
       "  '></i>\\n</p>'],\n",
       " ['<p class=',\n",
       "  'star-rating Four',\n",
       "  '>\\n<i class=',\n",
       "  'icon-star',\n",
       "  '></i>\\n<i class=',\n",
       "  'icon-star',\n",
       "  '></i>\\n<i class=',\n",
       "  'icon-star',\n",
       "  '></i>\\n<i class=',\n",
       "  'icon-star',\n",
       "  '></i>\\n<i class=',\n",
       "  'icon-star',\n",
       "  '></i>\\n</p>'],\n",
       " ['<p class=',\n",
       "  'star-rating Five',\n",
       "  '>\\n<i class=',\n",
       "  'icon-star',\n",
       "  '></i>\\n<i class=',\n",
       "  'icon-star',\n",
       "  '></i>\\n<i class=',\n",
       "  'icon-star',\n",
       "  '></i>\\n<i class=',\n",
       "  'icon-star',\n",
       "  '></i>\\n<i class=',\n",
       "  'icon-star',\n",
       "  '></i>\\n</p>'],\n",
       " ['<p class=',\n",
       "  'star-rating Five',\n",
       "  '>\\n<i class=',\n",
       "  'icon-star',\n",
       "  '></i>\\n<i class=',\n",
       "  'icon-star',\n",
       "  '></i>\\n<i class=',\n",
       "  'icon-star',\n",
       "  '></i>\\n<i class=',\n",
       "  'icon-star',\n",
       "  '></i>\\n<i class=',\n",
       "  'icon-star',\n",
       "  '></i>\\n</p>'],\n",
       " ['<p class=',\n",
       "  'star-rating Five',\n",
       "  '>\\n<i class=',\n",
       "  'icon-star',\n",
       "  '></i>\\n<i class=',\n",
       "  'icon-star',\n",
       "  '></i>\\n<i class=',\n",
       "  'icon-star',\n",
       "  '></i>\\n<i class=',\n",
       "  'icon-star',\n",
       "  '></i>\\n<i class=',\n",
       "  'icon-star',\n",
       "  '></i>\\n</p>'],\n",
       " ['<p class=',\n",
       "  'star-rating Three',\n",
       "  '>\\n<i class=',\n",
       "  'icon-star',\n",
       "  '></i>\\n<i class=',\n",
       "  'icon-star',\n",
       "  '></i>\\n<i class=',\n",
       "  'icon-star',\n",
       "  '></i>\\n<i class=',\n",
       "  'icon-star',\n",
       "  '></i>\\n<i class=',\n",
       "  'icon-star',\n",
       "  '></i>\\n</p>'],\n",
       " ['<p class=',\n",
       "  'star-rating One',\n",
       "  '>\\n<i class=',\n",
       "  'icon-star',\n",
       "  '></i>\\n<i class=',\n",
       "  'icon-star',\n",
       "  '></i>\\n<i class=',\n",
       "  'icon-star',\n",
       "  '></i>\\n<i class=',\n",
       "  'icon-star',\n",
       "  '></i>\\n<i class=',\n",
       "  'icon-star',\n",
       "  '></i>\\n</p>'],\n",
       " ['<p class=',\n",
       "  'star-rating One',\n",
       "  '>\\n<i class=',\n",
       "  'icon-star',\n",
       "  '></i>\\n<i class=',\n",
       "  'icon-star',\n",
       "  '></i>\\n<i class=',\n",
       "  'icon-star',\n",
       "  '></i>\\n<i class=',\n",
       "  'icon-star',\n",
       "  '></i>\\n<i class=',\n",
       "  'icon-star',\n",
       "  '></i>\\n</p>'],\n",
       " ['<p class=',\n",
       "  'star-rating Two',\n",
       "  '>\\n<i class=',\n",
       "  'icon-star',\n",
       "  '></i>\\n<i class=',\n",
       "  'icon-star',\n",
       "  '></i>\\n<i class=',\n",
       "  'icon-star',\n",
       "  '></i>\\n<i class=',\n",
       "  'icon-star',\n",
       "  '></i>\\n<i class=',\n",
       "  'icon-star',\n",
       "  '></i>\\n</p>'],\n",
       " ['<p class=',\n",
       "  'star-rating Two',\n",
       "  '>\\n<i class=',\n",
       "  'icon-star',\n",
       "  '></i>\\n<i class=',\n",
       "  'icon-star',\n",
       "  '></i>\\n<i class=',\n",
       "  'icon-star',\n",
       "  '></i>\\n<i class=',\n",
       "  'icon-star',\n",
       "  '></i>\\n<i class=',\n",
       "  'icon-star',\n",
       "  '></i>\\n</p>']]"
      ]
     },
     "execution_count": 37,
     "metadata": {},
     "output_type": "execute_result"
    }
   ],
   "source": [
    "# ratings"
   ]
  },
  {
   "cell_type": "markdown",
   "id": "028920fc",
   "metadata": {},
   "source": [
    "# Extracting Price"
   ]
  },
  {
   "cell_type": "code",
   "execution_count": 17,
   "id": "1171c0c1",
   "metadata": {},
   "outputs": [],
   "source": [
    "price = []\n",
    "for i in soup.find_all(class_='price_color'):\n",
    "    price.append(i.text)"
   ]
  },
  {
   "cell_type": "code",
   "execution_count": 18,
   "id": "8658d922",
   "metadata": {},
   "outputs": [],
   "source": [
    "# price"
   ]
  },
  {
   "cell_type": "markdown",
   "id": "fcab46f5",
   "metadata": {},
   "source": [
    "# Extracting Stocks"
   ]
  },
  {
   "cell_type": "code",
   "execution_count": 19,
   "id": "3451a017",
   "metadata": {},
   "outputs": [],
   "source": [
    "stocks= []\n",
    "for i in soup.find_all(class_ = 'instock availability'):\n",
    "    stocks.append(i.text.strip())"
   ]
  },
  {
   "cell_type": "code",
   "execution_count": 20,
   "id": "0728c6aa",
   "metadata": {},
   "outputs": [],
   "source": [
    "# stocks"
   ]
  },
  {
   "cell_type": "markdown",
   "id": "82ef0c0a",
   "metadata": {},
   "source": [
    "# Make dataframe for it"
   ]
  },
  {
   "cell_type": "code",
   "execution_count": 21,
   "id": "d6702dab",
   "metadata": {},
   "outputs": [],
   "source": [
    "data = {'Books':Book_names,'Rating':ratings,'Price':price,'Stocks':stocks}"
   ]
  },
  {
   "cell_type": "code",
   "execution_count": 22,
   "id": "41c65d86",
   "metadata": {},
   "outputs": [],
   "source": [
    "df = pd.DataFrame(data)"
   ]
  },
  {
   "cell_type": "code",
   "execution_count": 23,
   "id": "3009e2ef",
   "metadata": {},
   "outputs": [
    {
     "data": {
      "text/html": [
       "<div>\n",
       "<style scoped>\n",
       "    .dataframe tbody tr th:only-of-type {\n",
       "        vertical-align: middle;\n",
       "    }\n",
       "\n",
       "    .dataframe tbody tr th {\n",
       "        vertical-align: top;\n",
       "    }\n",
       "\n",
       "    .dataframe thead th {\n",
       "        text-align: right;\n",
       "    }\n",
       "</style>\n",
       "<table border=\"1\" class=\"dataframe\">\n",
       "  <thead>\n",
       "    <tr style=\"text-align: right;\">\n",
       "      <th></th>\n",
       "      <th>Books</th>\n",
       "      <th>Rating</th>\n",
       "      <th>Price</th>\n",
       "      <th>Stocks</th>\n",
       "    </tr>\n",
       "  </thead>\n",
       "  <tbody>\n",
       "    <tr>\n",
       "      <th>0</th>\n",
       "      <td>A Light in the ...</td>\n",
       "      <td>Three</td>\n",
       "      <td>£51.77</td>\n",
       "      <td>In stock</td>\n",
       "    </tr>\n",
       "    <tr>\n",
       "      <th>1</th>\n",
       "      <td>Tipping the Velvet</td>\n",
       "      <td>One</td>\n",
       "      <td>£53.74</td>\n",
       "      <td>In stock</td>\n",
       "    </tr>\n",
       "    <tr>\n",
       "      <th>2</th>\n",
       "      <td>Soumission</td>\n",
       "      <td>One</td>\n",
       "      <td>£50.10</td>\n",
       "      <td>In stock</td>\n",
       "    </tr>\n",
       "    <tr>\n",
       "      <th>3</th>\n",
       "      <td>Sharp Objects</td>\n",
       "      <td>Four</td>\n",
       "      <td>£47.82</td>\n",
       "      <td>In stock</td>\n",
       "    </tr>\n",
       "    <tr>\n",
       "      <th>4</th>\n",
       "      <td>Sapiens: A Brief History ...</td>\n",
       "      <td>Five</td>\n",
       "      <td>£54.23</td>\n",
       "      <td>In stock</td>\n",
       "    </tr>\n",
       "    <tr>\n",
       "      <th>5</th>\n",
       "      <td>The Requiem Red</td>\n",
       "      <td>One</td>\n",
       "      <td>£22.65</td>\n",
       "      <td>In stock</td>\n",
       "    </tr>\n",
       "    <tr>\n",
       "      <th>6</th>\n",
       "      <td>The Dirty Little Secrets ...</td>\n",
       "      <td>Four</td>\n",
       "      <td>£33.34</td>\n",
       "      <td>In stock</td>\n",
       "    </tr>\n",
       "    <tr>\n",
       "      <th>7</th>\n",
       "      <td>The Coming Woman: A ...</td>\n",
       "      <td>Three</td>\n",
       "      <td>£17.93</td>\n",
       "      <td>In stock</td>\n",
       "    </tr>\n",
       "    <tr>\n",
       "      <th>8</th>\n",
       "      <td>The Boys in the ...</td>\n",
       "      <td>Four</td>\n",
       "      <td>£22.60</td>\n",
       "      <td>In stock</td>\n",
       "    </tr>\n",
       "    <tr>\n",
       "      <th>9</th>\n",
       "      <td>The Black Maria</td>\n",
       "      <td>One</td>\n",
       "      <td>£52.15</td>\n",
       "      <td>In stock</td>\n",
       "    </tr>\n",
       "    <tr>\n",
       "      <th>10</th>\n",
       "      <td>Starving Hearts (Triangular Trade ...</td>\n",
       "      <td>Two</td>\n",
       "      <td>£13.99</td>\n",
       "      <td>In stock</td>\n",
       "    </tr>\n",
       "    <tr>\n",
       "      <th>11</th>\n",
       "      <td>Shakespeare's Sonnets</td>\n",
       "      <td>Four</td>\n",
       "      <td>£20.66</td>\n",
       "      <td>In stock</td>\n",
       "    </tr>\n",
       "    <tr>\n",
       "      <th>12</th>\n",
       "      <td>Set Me Free</td>\n",
       "      <td>Five</td>\n",
       "      <td>£17.46</td>\n",
       "      <td>In stock</td>\n",
       "    </tr>\n",
       "    <tr>\n",
       "      <th>13</th>\n",
       "      <td>Scott Pilgrim's Precious Little ...</td>\n",
       "      <td>Five</td>\n",
       "      <td>£52.29</td>\n",
       "      <td>In stock</td>\n",
       "    </tr>\n",
       "    <tr>\n",
       "      <th>14</th>\n",
       "      <td>Rip it Up and ...</td>\n",
       "      <td>Five</td>\n",
       "      <td>£35.02</td>\n",
       "      <td>In stock</td>\n",
       "    </tr>\n",
       "    <tr>\n",
       "      <th>15</th>\n",
       "      <td>Our Band Could Be ...</td>\n",
       "      <td>Three</td>\n",
       "      <td>£57.25</td>\n",
       "      <td>In stock</td>\n",
       "    </tr>\n",
       "    <tr>\n",
       "      <th>16</th>\n",
       "      <td>Olio</td>\n",
       "      <td>One</td>\n",
       "      <td>£23.88</td>\n",
       "      <td>In stock</td>\n",
       "    </tr>\n",
       "    <tr>\n",
       "      <th>17</th>\n",
       "      <td>Mesaerion: The Best Science ...</td>\n",
       "      <td>One</td>\n",
       "      <td>£37.59</td>\n",
       "      <td>In stock</td>\n",
       "    </tr>\n",
       "    <tr>\n",
       "      <th>18</th>\n",
       "      <td>Libertarianism for Beginners</td>\n",
       "      <td>Two</td>\n",
       "      <td>£51.33</td>\n",
       "      <td>In stock</td>\n",
       "    </tr>\n",
       "    <tr>\n",
       "      <th>19</th>\n",
       "      <td>It's Only the Himalayas</td>\n",
       "      <td>Two</td>\n",
       "      <td>£45.17</td>\n",
       "      <td>In stock</td>\n",
       "    </tr>\n",
       "  </tbody>\n",
       "</table>\n",
       "</div>"
      ],
      "text/plain": [
       "                                    Books Rating   Price    Stocks\n",
       "0                      A Light in the ...  Three  £51.77  In stock\n",
       "1                      Tipping the Velvet    One  £53.74  In stock\n",
       "2                              Soumission    One  £50.10  In stock\n",
       "3                           Sharp Objects   Four  £47.82  In stock\n",
       "4            Sapiens: A Brief History ...   Five  £54.23  In stock\n",
       "5                         The Requiem Red    One  £22.65  In stock\n",
       "6            The Dirty Little Secrets ...   Four  £33.34  In stock\n",
       "7                 The Coming Woman: A ...  Three  £17.93  In stock\n",
       "8                     The Boys in the ...   Four  £22.60  In stock\n",
       "9                         The Black Maria    One  £52.15  In stock\n",
       "10  Starving Hearts (Triangular Trade ...    Two  £13.99  In stock\n",
       "11                  Shakespeare's Sonnets   Four  £20.66  In stock\n",
       "12                            Set Me Free   Five  £17.46  In stock\n",
       "13    Scott Pilgrim's Precious Little ...   Five  £52.29  In stock\n",
       "14                      Rip it Up and ...   Five  £35.02  In stock\n",
       "15                  Our Band Could Be ...  Three  £57.25  In stock\n",
       "16                                   Olio    One  £23.88  In stock\n",
       "17        Mesaerion: The Best Science ...    One  £37.59  In stock\n",
       "18           Libertarianism for Beginners    Two  £51.33  In stock\n",
       "19                It's Only the Himalayas    Two  £45.17  In stock"
      ]
     },
     "execution_count": 23,
     "metadata": {},
     "output_type": "execute_result"
    }
   ],
   "source": [
    "df"
   ]
  },
  {
   "cell_type": "markdown",
   "id": "1b3aee61",
   "metadata": {},
   "source": [
    "# Generating Bar Chart"
   ]
  },
  {
   "cell_type": "code",
   "execution_count": 24,
   "id": "003c5419",
   "metadata": {},
   "outputs": [],
   "source": [
    "df['Price'] = df['Price'].str.strip('£').astype(float)"
   ]
  },
  {
   "cell_type": "code",
   "execution_count": 25,
   "id": "45cb7477",
   "metadata": {},
   "outputs": [],
   "source": [
    "# df['Price']"
   ]
  },
  {
   "cell_type": "code",
   "execution_count": 26,
   "id": "56be611c",
   "metadata": {},
   "outputs": [
    {
     "data": {
      "image/png": "[encoded data removed]",
      "text/plain": [
       "<Figure size 640x480 with 1 Axes>"
      ]
     },
     "metadata": {},
     "output_type": "display_data"
    }
   ],
   "source": [
    "sns.set_theme()\n",
    "plt.title('Books Price')\n",
    "g = sns.barplot(data = df, x = 'Books',y = 'Price')\n",
    "plt.xticks(rotation = 90)\n",
    "plt.show()"
   ]
  },
  {
   "cell_type": "code",
   "execution_count": null,
   "id": "912c7eed",
   "metadata": {},
   "outputs": [],
   "source": []
  }
 ],
 "metadata": {
  "kernelspec": {
   "display_name": "Python 3 (ipykernel)",
   "language": "python",
   "name": "python3"
  },
  "language_info": {
   "codemirror_mode": {
    "name": "ipython",
    "version": 3
   },
   "file_extension": ".py",
   "mimetype": "text/x-python",
   "name": "python",
   "nbconvert_exporter": "python",
   "pygments_lexer": "ipython3",
   "version": "3.11.2"
  }
 },
 "nbformat": 4,
 "nbformat_minor": 5
}

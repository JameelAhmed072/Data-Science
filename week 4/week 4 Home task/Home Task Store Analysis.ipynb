{
 "cells": [
  {
   "cell_type": "markdown",
   "id": "e6165ce6",
   "metadata": {},
   "source": [
    "Copyright © TechmaZone  2022."
   ]
  },
  {
   "cell_type": "markdown",
   "id": "d4323b0b",
   "metadata": {},
   "source": [
    "dataste used : msft.csv"
   ]
  },
  {
   "cell_type": "markdown",
   "id": "59449c10",
   "metadata": {},
   "source": [
    "# Microsoft Store Data"
   ]
  },
  {
   "cell_type": "markdown",
   "id": "3190f8b5",
   "metadata": {},
   "source": [
    "## Excercises"
   ]
  },
  {
   "cell_type": "markdown",
   "id": "10ac52bf",
   "metadata": {},
   "source": [
    "Q: Find total no of apps in the dataset."
   ]
  },
  {
   "cell_type": "markdown",
   "id": "95d4f7ca",
   "metadata": {},
   "source": [
    "Q: Find names of free and paid apps in the dataset."
   ]
  },
  {
   "cell_type": "markdown",
   "id": "5a816353",
   "metadata": {},
   "source": [
    "Q: Average user rating of both paid and free apps."
   ]
  },
  {
   "cell_type": "markdown",
   "id": "55033111",
   "metadata": {},
   "source": [
    "Q: Find names Best 'News and Weather' apps.\n",
    "(Criteria is rating should be >= 4)"
   ]
  },
  {
   "cell_type": "markdown",
   "id": "49a5fc8f",
   "metadata": {},
   "source": [
    "Q: Find rating average of those apps who are free and their category is Music and Books"
   ]
  },
  {
   "cell_type": "markdown",
   "id": "1ce998f7",
   "metadata": {},
   "source": [
    "Q: Find Names of those apps who are paid but category is Lifestyle or Books"
   ]
  },
  {
   "cell_type": "markdown",
   "id": "735bf9a1",
   "metadata": {},
   "source": [
    "#### Bonus:"
   ]
  },
  {
   "cell_type": "markdown",
   "id": "9d105f88",
   "metadata": {},
   "source": [
    "Play with data yourself and find as much 'USEFUL' INSIGHTS as you can"
   ]
  },
  {
   "cell_type": "code",
   "execution_count": null,
   "id": "b33f4ef8",
   "metadata": {},
   "outputs": [],
   "source": []
  }
 ],
 "metadata": {
  "kernelspec": {
   "display_name": "Python 3 (ipykernel)",
   "language": "python",
   "name": "python3"
  },
  "language_info": {
   "codemirror_mode": {
    "name": "ipython",
    "version": 3
   },
   "file_extension": ".py",
   "mimetype": "text/x-python",
   "name": "python",
   "nbconvert_exporter": "python",
   "pygments_lexer": "ipython3",
   "version": "3.9.12"
  }
 },
 "nbformat": 4,
 "nbformat_minor": 5
}

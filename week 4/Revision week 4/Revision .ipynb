{
 "cells": [
  {
   "cell_type": "code",
   "execution_count": 6,
   "id": "74abc259",
   "metadata": {},
   "outputs": [],
   "source": [
    "open_file = open(\"data.csv\" , encoding = \"utf-8\")"
   ]
  },
  {
   "cell_type": "code",
   "execution_count": 7,
   "id": "44b3eed1",
   "metadata": {},
   "outputs": [
    {
     "data": {
      "text/plain": [
       "<_csv.reader at 0x1b35ba117c0>"
      ]
     },
     "execution_count": 7,
     "metadata": {},
     "output_type": "execute_result"
    }
   ],
   "source": [
    "import csv\n",
    "\n",
    "read_file = csv.reader(open_file)\n",
    "read_file"
   ]
  },
  {
   "cell_type": "code",
   "execution_count": 8,
   "id": "3784b2b2",
   "metadata": {},
   "outputs": [],
   "source": [
    "dataset = list(read_file)"
   ]
  },
  {
   "cell_type": "code",
   "execution_count": 9,
   "id": "8435a45c",
   "metadata": {},
   "outputs": [
    {
     "data": {
      "text/plain": [
       "['roll no', 'Name', 'Chemistry', 'Physics', 'Math']"
      ]
     },
     "execution_count": 9,
     "metadata": {},
     "output_type": "execute_result"
    }
   ],
   "source": [
    "dataset[0]"
   ]
  },
  {
   "cell_type": "code",
   "execution_count": 13,
   "id": "e74a5f18",
   "metadata": {},
   "outputs": [],
   "source": [
    "chem_marks = []\n",
    "\n",
    "for i in dataset[1:]:\n",
    "    \n",
    "    chem = int(i[2])\n",
    "    \n",
    "    chem_marks.append(chem)"
   ]
  },
  {
   "cell_type": "code",
   "execution_count": 14,
   "id": "7db7c898",
   "metadata": {},
   "outputs": [
    {
     "data": {
      "text/plain": [
       "[50,\n",
       " 45,\n",
       " 46,\n",
       " 47,\n",
       " 48,\n",
       " 49,\n",
       " 50,\n",
       " 51,\n",
       " 52,\n",
       " 53,\n",
       " 54,\n",
       " 55,\n",
       " 56,\n",
       " 57,\n",
       " 58,\n",
       " 59,\n",
       " 60,\n",
       " 61,\n",
       " 62,\n",
       " 63]"
      ]
     },
     "execution_count": 14,
     "metadata": {},
     "output_type": "execute_result"
    }
   ],
   "source": [
    "chem_marks"
   ]
  },
  {
   "cell_type": "code",
   "execution_count": 15,
   "id": "a72c4a6a",
   "metadata": {},
   "outputs": [
    {
     "data": {
      "text/plain": [
       "1076"
      ]
     },
     "execution_count": 15,
     "metadata": {},
     "output_type": "execute_result"
    }
   ],
   "source": [
    "sum(chem_marks)"
   ]
  },
  {
   "cell_type": "code",
   "execution_count": 16,
   "id": "2c8a4c73",
   "metadata": {},
   "outputs": [],
   "source": [
    "total_sum_of_chem = 0\n",
    "\n",
    "for i in dataset[1:]:\n",
    "    \n",
    "    chem = int(i[2])\n",
    "    \n",
    "    total_sum_of_chem += chem\n",
    "    \n",
    "    \n"
   ]
  },
  {
   "cell_type": "code",
   "execution_count": 17,
   "id": "a84cb23c",
   "metadata": {},
   "outputs": [
    {
     "data": {
      "text/plain": [
       "1076"
      ]
     },
     "execution_count": 17,
     "metadata": {},
     "output_type": "execute_result"
    }
   ],
   "source": [
    "total_sum_of_chem"
   ]
  },
  {
   "cell_type": "markdown",
   "id": "da5e3b57",
   "metadata": {},
   "source": [
    "### Percentage"
   ]
  },
  {
   "cell_type": "code",
   "execution_count": 28,
   "id": "d8920a9d",
   "metadata": {},
   "outputs": [],
   "source": [
    "dataset[0].append(\"Percentage\")"
   ]
  },
  {
   "cell_type": "code",
   "execution_count": 29,
   "id": "68aa1a93",
   "metadata": {},
   "outputs": [
    {
     "data": {
      "text/plain": [
       "['roll no', 'Name', 'Chemistry', 'Physics', 'Math', 'Percentage']"
      ]
     },
     "execution_count": 29,
     "metadata": {},
     "output_type": "execute_result"
    }
   ],
   "source": [
    "dataset[0]"
   ]
  },
  {
   "cell_type": "code",
   "execution_count": 34,
   "id": "4b604b46",
   "metadata": {},
   "outputs": [],
   "source": [
    "for i in dataset[1:]:\n",
    "    \n",
    "    chem = int(i[2])\n",
    "    phy = int(i[3])\n",
    "    math = int(i[4])\n",
    "    \n",
    "    #print(chem,phy,math)\n",
    "    \n",
    "    sumation = chem + phy + math\n",
    "    \n",
    "    percentage = (sumation/300) * 100\n",
    "    \n",
    "    round_percentage = round(percentage , 2)\n",
    "    \n",
    "    #print(round_percentage)\n",
    "    \n",
    "    i.append(round_percentage)"
   ]
  },
  {
   "cell_type": "code",
   "execution_count": 24,
   "id": "9fc08ed1",
   "metadata": {},
   "outputs": [
    {
     "data": {
      "text/plain": [
       "2.89"
      ]
     },
     "execution_count": 24,
     "metadata": {},
     "output_type": "execute_result"
    }
   ],
   "source": [
    "round(2.888 , 2)"
   ]
  },
  {
   "cell_type": "code",
   "execution_count": 30,
   "id": "4e672764",
   "metadata": {},
   "outputs": [
    {
     "name": "stdout",
     "output_type": "stream",
     "text": [
      "['101', 'Aliza', '50', '23', '87']\n",
      "['102', 'Fareed', '45', '24', '88']\n",
      "['103', 'Basit', '46', '25', '89']\n",
      "['104', 'Abdullah', '47', '26', '90']\n",
      "['105', 'Ali', '48', '27', '67']\n",
      "['106', 'Mubashir', '49', '28', '68']\n",
      "['107', 'Waleed', '50', '29', '69']\n",
      "['108', 'Mansoor', '51', '30', '70']\n",
      "['109', 'Zain', '52', '31', '71']\n",
      "['110', 'Mohsin', '53', '67', '72']\n",
      "['111', 'Shahmeer', '54', '68', '73']\n",
      "['112', 'Rao', '55', '69', '74']\n",
      "['113', 'Aurangzeb', '56', '70', '75']\n",
      "['114', 'Zeeshan', '57', '71', '76']\n",
      "['115', 'Humza', '58', '72', '77']\n",
      "['116', 'Hamza', '59', '73', '78']\n",
      "['117', 'Khalid', '60', '74', '79']\n",
      "['118', 'Behroz', '61', '75', '80']\n",
      "['119', 'Justin', '62', '76', '81']\n",
      "['120', 'Danial', '63', '77', '82']\n"
     ]
    }
   ],
   "source": [
    "for i in dataset[1:]:\n",
    "    print(i)"
   ]
  },
  {
   "cell_type": "code",
   "execution_count": 31,
   "id": "f9822d43",
   "metadata": {},
   "outputs": [],
   "source": [
    "abdul = ['104', 'Abdullah', '47', '26', '90']"
   ]
  },
  {
   "cell_type": "code",
   "execution_count": 32,
   "id": "68101222",
   "metadata": {},
   "outputs": [],
   "source": [
    "abdul.append(\"100\")"
   ]
  },
  {
   "cell_type": "code",
   "execution_count": 33,
   "id": "57ab4bcb",
   "metadata": {},
   "outputs": [
    {
     "data": {
      "text/plain": [
       "['104', 'Abdullah', '47', '26', '90', '100']"
      ]
     },
     "execution_count": 33,
     "metadata": {},
     "output_type": "execute_result"
    }
   ],
   "source": [
    "abdul"
   ]
  },
  {
   "cell_type": "code",
   "execution_count": 35,
   "id": "a3063e48",
   "metadata": {},
   "outputs": [
    {
     "data": {
      "text/plain": [
       "[['roll no', 'Name', 'Chemistry', 'Physics', 'Math', 'Percentage'],\n",
       " ['101', 'Aliza', '50', '23', '87', 53.33],\n",
       " ['102', 'Fareed', '45', '24', '88', 52.33],\n",
       " ['103', 'Basit', '46', '25', '89', 53.33],\n",
       " ['104', 'Abdullah', '47', '26', '90', 54.33],\n",
       " ['105', 'Ali', '48', '27', '67', 47.33],\n",
       " ['106', 'Mubashir', '49', '28', '68', 48.33],\n",
       " ['107', 'Waleed', '50', '29', '69', 49.33],\n",
       " ['108', 'Mansoor', '51', '30', '70', 50.33],\n",
       " ['109', 'Zain', '52', '31', '71', 51.33],\n",
       " ['110', 'Mohsin', '53', '67', '72', 64.0],\n",
       " ['111', 'Shahmeer', '54', '68', '73', 65.0],\n",
       " ['112', 'Rao', '55', '69', '74', 66.0],\n",
       " ['113', 'Aurangzeb', '56', '70', '75', 67.0],\n",
       " ['114', 'Zeeshan', '57', '71', '76', 68.0],\n",
       " ['115', 'Humza', '58', '72', '77', 69.0],\n",
       " ['116', 'Hamza', '59', '73', '78', 70.0],\n",
       " ['117', 'Khalid', '60', '74', '79', 71.0],\n",
       " ['118', 'Behroz', '61', '75', '80', 72.0],\n",
       " ['119', 'Justin', '62', '76', '81', 73.0],\n",
       " ['120', 'Danial', '63', '77', '82', 74.0]]"
      ]
     },
     "execution_count": 35,
     "metadata": {},
     "output_type": "execute_result"
    }
   ],
   "source": [
    "dataset"
   ]
  },
  {
   "cell_type": "code",
   "execution_count": null,
   "id": "9f7a4a33",
   "metadata": {},
   "outputs": [],
   "source": []
  }
 ],
 "metadata": {
  "kernelspec": {
   "display_name": "Python 3 (ipykernel)",
   "language": "python",
   "name": "python3"
  },
  "language_info": {
   "codemirror_mode": {
    "name": "ipython",
    "version": 3
   },
   "file_extension": ".py",
   "mimetype": "text/x-python",
   "name": "python",
   "nbconvert_exporter": "python",
   "pygments_lexer": "ipython3",
   "version": "3.9.12"
  }
 },
 "nbformat": 4,
 "nbformat_minor": 5
}

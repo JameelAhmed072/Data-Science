{
 "cells": [
  {
   "cell_type": "code",
   "execution_count": 1,
   "id": "11c1ad7a",
   "metadata": {},
   "outputs": [],
   "source": [
    "# relevant packages & modules\n",
    "from selenium import webdriver\n",
    "from selenium.webdriver.common.keys import Keys\n",
    "from selenium.webdriver.common.by import By\n",
    "from selenium.webdriver.chrome.options import Options\n",
    "import time"
   ]
  },
  {
   "cell_type": "code",
   "execution_count": 2,
   "id": "fac4ade2",
   "metadata": {},
   "outputs": [
    {
     "name": "stderr",
     "output_type": "stream",
     "text": [
      "C:\\Users\\techm\\AppData\\Local\\Temp\\ipykernel_5740\\424105802.py:4: DeprecationWarning: executable_path has been deprecated, please pass in a Service object\n",
      "  driver = webdriver.Chrome(\"C:\\webdrivers\\chromedriver.exe\")\n"
     ]
    }
   ],
   "source": [
    "# relevant website\n",
    "website = \"https://www.daraz.pk\"\n",
    "# initialize chrome\n",
    "driver = webdriver.Chrome(\"C:\\webdrivers\\chromedriver.exe\")\n",
    "# open website\n",
    "driver.get(website)\n",
    "# maximize window\n",
    "driver.maximize_window()"
   ]
  },
  {
   "cell_type": "markdown",
   "id": "2fdee645",
   "metadata": {},
   "source": [
    "### Searching Desired Object"
   ]
  },
  {
   "cell_type": "code",
   "execution_count": 3,
   "id": "70255d43",
   "metadata": {},
   "outputs": [],
   "source": [
    "search = driver.find_element(By.XPATH , '//*[@id=\"q\"]')\n",
    "\n",
    "search.click()\n",
    "time.sleep(2)\n",
    "\n",
    "search.send_keys('furniture')\n",
    "\n",
    "search.send_keys(Keys.ENTER)"
   ]
  },
  {
   "cell_type": "markdown",
   "id": "91e59675",
   "metadata": {},
   "source": [
    "## Scrapping Prices"
   ]
  },
  {
   "cell_type": "code",
   "execution_count": 8,
   "id": "0cdcc891",
   "metadata": {},
   "outputs": [],
   "source": [
    "xpath_prices = '//*[@id=\"root\"]/div/div[2]/div/div/div[1]/div[2]/div/div/div/div[2]/div[3]/span'\n",
    "\n",
    "prices = driver.find_elements(By.XPATH , xpath_prices)"
   ]
  },
  {
   "cell_type": "code",
   "execution_count": 9,
   "id": "990936ff",
   "metadata": {},
   "outputs": [
    {
     "data": {
      "text/plain": [
       "40"
      ]
     },
     "execution_count": 9,
     "metadata": {},
     "output_type": "execute_result"
    }
   ],
   "source": [
    "len(prices)"
   ]
  },
  {
   "cell_type": "code",
   "execution_count": 11,
   "id": "eb72830e",
   "metadata": {
    "collapsed": true
   },
   "outputs": [
    {
     "name": "stdout",
     "output_type": "stream",
     "text": [
      "Rs. 34,999\n",
      "Rs. 65,000\n",
      "Rs. 2,999\n",
      "Rs. 17,300\n",
      "Rs. 12,490\n",
      "Rs. 601\n",
      "Rs. 17,300\n",
      "Rs. 621\n",
      "Rs. 750\n",
      "Rs. 11,499\n",
      "Rs. 703\n",
      "Rs. 689\n",
      "Rs. 917\n",
      "Rs. 22,999\n",
      "Rs. 12,499\n",
      "Rs. 12,500\n",
      "Rs. 20,950\n",
      "Rs. 2,950\n",
      "Rs. 419\n",
      "Rs. 19,999\n",
      "Rs. 12,200\n",
      "Rs. 3,600\n",
      "Rs. 817\n",
      "Rs. 29,000\n",
      "Rs. 14,999\n",
      "Rs. 18,000\n",
      "Rs. 5,975\n",
      "Rs. 17,350\n",
      "Rs. 29,000\n",
      "Rs. 7,599\n",
      "Rs. 14,099\n",
      "Rs. 5,890\n",
      "Rs. 14,399\n",
      "Rs. 4,599\n",
      "Rs. 6,500\n",
      "Rs. 1,033\n",
      "Rs. 17,300\n",
      "Rs. 17,300\n",
      "Rs. 849\n",
      "Rs. 18,499\n"
     ]
    }
   ],
   "source": [
    "prices_list = []\n",
    "\n",
    "for p in prices:\n",
    "    print(p.text)\n",
    "    prices_list.append(p.text)"
   ]
  },
  {
   "cell_type": "markdown",
   "id": "01207d0d",
   "metadata": {},
   "source": [
    "## Scrapping Names"
   ]
  },
  {
   "cell_type": "code",
   "execution_count": 12,
   "id": "563833e7",
   "metadata": {},
   "outputs": [],
   "source": [
    "xpath_names = '//*[@id=\"root\"]/div/div[2]/div/div/div[1]/div[2]/div/div/div/div[2]/div[2]'\n",
    "names = driver.find_elements(By.XPATH , xpath_names)"
   ]
  },
  {
   "cell_type": "code",
   "execution_count": 13,
   "id": "72964c19",
   "metadata": {},
   "outputs": [
    {
     "data": {
      "text/plain": [
       "40"
      ]
     },
     "execution_count": 13,
     "metadata": {},
     "output_type": "execute_result"
    }
   ],
   "source": [
    "len(names)"
   ]
  },
  {
   "cell_type": "code",
   "execution_count": 15,
   "id": "9ebf6809",
   "metadata": {
    "collapsed": true
   },
   "outputs": [
    {
     "name": "stdout",
     "output_type": "stream",
     "text": [
      "Bedroom Chairs with Table imported valvet fabric with contrast make in diamond supreme foam 12 years warranty by eFurniturePK\n",
      "\n",
      "Bliss 5 Seater (3+1+1) Modern Chesterfield Sofa Set Velvet Furnished with Free Cushions by eFurniturePK\n",
      "\n",
      "Wood sofa seat cover 5 seater\n",
      "\n",
      "Sofa CumBed 3 Seater Grey Jute & Valvet Custumize Special offer\n",
      "\n",
      "4 Seater Puffy Set Sofa Malai velvet 5 years guarantee. Sale all customize colors\n",
      "\n",
      "Retro Bookmark Hollow-Out Design Vintage Panda Bookmark Diary Accessories\n",
      "\n",
      "Sofa CumBed 3 Seater Brown Valvet & Jute Custumize Colours Special offer\n",
      "\n",
      "Zipper Bookmark Eco-friendly Creative Zipper Bookmark Office Supplies\n",
      "\n",
      "Multani single Bed sheet\n",
      "\n",
      "2 Seater Sethi Sofa Ottoman comfortable puffy best quality all color\n",
      "\n",
      "Glitter Ruler Creative Wide Application Oil Sand Ruler\n",
      "\n",
      "HomeInn Table Number Holder Rust-proof Table Centerpiece Place Card Holder\n",
      "\n",
      "Journal Book Fade-resistant Cartoon Animal Fluffy Notebook\n",
      "\n",
      "Galaxy Gloria Sofa Cum Bed Imported Velvet Fabric, Diamond Supreme Foam 12 Years warranty with Arms Compact Living Spaces, Dorms, Guest Rooms, Apartments, Offices,\n",
      "\n",
      "Sofa 4 Seater Puffy Sets Green Valvid SPECIAL OFFER 13500\n",
      "\n",
      "Multipurpose Fold-A Table: Space Saving Table - Adjustable Table- Dining Table - Office Table\n",
      "\n",
      "Galaxy Sofa Cum Bed Imported Jute Fabric Grey Colour Armless Compact Living Spaces, Dorms, Guest Rooms, Apartments, Offices,\n",
      "\n",
      "Bestway Air Inflatable Relaxing Chair 75052\n",
      "\n",
      "Cotton Quilted Sofa Covers (Skin)\n",
      "\n",
      "Combed Sofa 3 Seater Stylish Modren With Tafteen Custumize Colour\n",
      "\n",
      "Custumize Sofa 4 Seater Puffy Sets Fabric Blue Valvid (Size 2 unit single seat 22x22 inches and 1 unit large 2 seater 44x22 complete set height 17 {{ SPEIAL OFFER** }]\n",
      "\n",
      "One Seater Puffy Sofa sethi best Price gud for Bedroom launch and drawing Room best material 5 years\n",
      "\n",
      "Pencil Storage Bag Sturdy Pencil Case Pen Pouch Stationery Gift\n",
      "\n",
      "stylish poshish double bed made with metal farme, furniture factory\n",
      "\n",
      "Galaxy 4 Seater Puffy Sets Fabric Blue Valvid (Size 2 unit single seat 22x22 inches and 1 unit large 2 seater 44x22 complete set height 17 inches)\n",
      "\n",
      "Customizable Wooden Sofa Set\n",
      "\n",
      "Folding Bed - Blue & Red(Folding Charpoy),(Folding Charpai)\n",
      "\n",
      "Costumize AKZ Collection 3 Seater Sofa Cum Bed Imported Jute Fabric Colour Armless Compact Living Spaces, Dorms, Guest Rooms, Apartments, Offices,\n",
      "\n",
      "Stylish plush valvet bed, Furniture Factory\n",
      "\n",
      "Air sofa Intex inflatable sofa bed furniture air sofa bed Intex air mattress\n",
      "\n",
      "Multiple Settee Deewan 2 Seated | Velvet Fabric Tufted Seats\n",
      "\n",
      "Fixed Bed - Grey(Iron Charpai)\n",
      "\n",
      "New Modern Metal Frame Table With Stools, Dining Table, Centre Table, Coffee Table With Stools, Dining Set, Space Saving Table\n",
      "\n",
      "Comfortable Puffy Sofa Seat -\n",
      "\n",
      "Sofa 2 Seater Puffy Sets Black Valvid Custumize {{ Special Sale }}\n",
      "\n",
      "Metal Weightlifter Tumbler Kinetic Balance Decompression Home Office Desk Decor\n",
      "\n",
      "Sofa CumBed 3 Seater Blue Jute & Valvet Costumize {{ Special Offer }}\n",
      "\n",
      "Sofa Cumbed 3 Seater Black Jute & Valvet Costumize (( Special Offer }}\n",
      "\n",
      "Sofa Cover in Micro Mash Stuff in Turkish Style ( Standard Size )\n",
      "\n",
      "Turkish Style Sofa Come bed Customize Sofa Come bed\n",
      "\n"
     ]
    }
   ],
   "source": [
    "names_list = []\n",
    "\n",
    "for name in names:\n",
    "    print(name.text)\n",
    "    print()\n",
    "    names_list.append(name.text)"
   ]
  },
  {
   "cell_type": "markdown",
   "id": "71183a34",
   "metadata": {},
   "source": [
    "## Scrapping Reviews"
   ]
  },
  {
   "cell_type": "markdown",
   "id": "8c7acff0",
   "metadata": {},
   "source": [
    "### Wrong:"
   ]
  },
  {
   "cell_type": "code",
   "execution_count": 16,
   "id": "fe4d9715",
   "metadata": {},
   "outputs": [],
   "source": [
    "xpath_reviews = '//*[@id=\"root\"]/div/div[2]/div/div/div/div[2]/div/div/div/div[2]/div[5]/div/span[6]'\n",
    "reviews = driver.find_elements(By.XPATH , xpath_reviews)"
   ]
  },
  {
   "cell_type": "code",
   "execution_count": 18,
   "id": "186b0a2a",
   "metadata": {},
   "outputs": [
    {
     "data": {
      "text/plain": [
       "37"
      ]
     },
     "execution_count": 18,
     "metadata": {},
     "output_type": "execute_result"
    }
   ],
   "source": [
    "len(reviews)"
   ]
  },
  {
   "cell_type": "code",
   "execution_count": 17,
   "id": "140b2db8",
   "metadata": {
    "collapsed": true
   },
   "outputs": [
    {
     "name": "stdout",
     "output_type": "stream",
     "text": [
      "(122)\n",
      "(38)\n",
      "(1)\n",
      "(59)\n",
      "(1)\n",
      "(3)\n",
      "(14)\n",
      "(1)\n",
      "(1)\n",
      "(3)\n",
      "(38)\n",
      "(32)\n",
      "(80)\n",
      "(295)\n",
      "(6)\n",
      "(5)\n",
      "(31)\n",
      "(61)\n",
      "(6)\n",
      "(1)\n",
      "(16)\n",
      "(75)\n",
      "(18)\n",
      "(187)\n",
      "(30)\n",
      "(39)\n",
      "(14)\n",
      "(8)\n",
      "(35)\n",
      "(8)\n",
      "(8)\n",
      "(9)\n",
      "(2)\n",
      "(34)\n",
      "(21)\n",
      "(3)\n",
      "(39)\n"
     ]
    }
   ],
   "source": [
    "for i in reviews:\n",
    "    print(i.text)"
   ]
  },
  {
   "cell_type": "markdown",
   "id": "ee81e591",
   "metadata": {},
   "source": [
    "### Right :"
   ]
  },
  {
   "cell_type": "code",
   "execution_count": 22,
   "id": "daa5752d",
   "metadata": {
    "collapsed": true
   },
   "outputs": [
    {
     "ename": "NoSuchElementException",
     "evalue": "Message: no such element: Unable to locate element: {\"method\":\"css selector\",\"selector\":\".rating__review--ygkUy\"}\n  (Session info: chrome=110.0.5481.178)\nStacktrace:\nBacktrace:\n\t(No symbol) [0x006B37D3]\n\t(No symbol) [0x00648B81]\n\t(No symbol) [0x0054B36D]\n\t(No symbol) [0x0057D382]\n\t(No symbol) [0x0057D4BB]\n\t(No symbol) [0x00572C41]\n\t(No symbol) [0x0059B464]\n\t(No symbol) [0x00572B96]\n\t(No symbol) [0x0059B774]\n\t(No symbol) [0x005B1215]\n\t(No symbol) [0x0059B216]\n\t(No symbol) [0x00570D97]\n\t(No symbol) [0x0057253D]\n\tGetHandleVerifier [0x0092ABF2+2510930]\n\tGetHandleVerifier [0x00958EC1+2700065]\n\tGetHandleVerifier [0x0095C86C+2714828]\n\tGetHandleVerifier [0x00763480+645344]\n\t(No symbol) [0x00650FD2]\n\t(No symbol) [0x00656C68]\n\t(No symbol) [0x00656D4B]\n\t(No symbol) [0x00660D6B]\n\tBaseThreadInitThunk [0x76017D69+25]\n\tRtlInitializeExceptionChain [0x77C0BB9B+107]\n\tRtlClearBits [0x77C0BB1F+191]\n",
     "output_type": "error",
     "traceback": [
      "\u001b[1;31m---------------------------------------------------------------------------\u001b[0m",
      "\u001b[1;31mNoSuchElementException\u001b[0m                    Traceback (most recent call last)",
      "\u001b[1;32m~\\AppData\\Local\\Temp\\ipykernel_5740\\884294344.py\u001b[0m in \u001b[0;36m<module>\u001b[1;34m\u001b[0m\n\u001b[0;32m      6\u001b[0m \u001b[1;32mfor\u001b[0m \u001b[0mi\u001b[0m \u001b[1;32min\u001b[0m \u001b[0mno_of_reviews\u001b[0m\u001b[1;33m:\u001b[0m\u001b[1;33m\u001b[0m\u001b[1;33m\u001b[0m\u001b[0m\n\u001b[0;32m      7\u001b[0m \u001b[1;33m\u001b[0m\u001b[0m\n\u001b[1;32m----> 8\u001b[1;33m     \u001b[0mn_o_r\u001b[0m \u001b[1;33m=\u001b[0m \u001b[0mi\u001b[0m\u001b[1;33m.\u001b[0m\u001b[0mfind_element\u001b[0m\u001b[1;33m(\u001b[0m\u001b[0mBy\u001b[0m\u001b[1;33m.\u001b[0m\u001b[0mCLASS_NAME\u001b[0m \u001b[1;33m,\u001b[0m \u001b[1;34m'rating__review--ygkUy'\u001b[0m\u001b[1;33m)\u001b[0m\u001b[1;33m\u001b[0m\u001b[1;33m\u001b[0m\u001b[0m\n\u001b[0m\u001b[0;32m      9\u001b[0m     \u001b[0mprint\u001b[0m\u001b[1;33m(\u001b[0m\u001b[0mn_o_r\u001b[0m\u001b[1;33m.\u001b[0m\u001b[0mtext\u001b[0m\u001b[1;33m)\u001b[0m\u001b[1;33m\u001b[0m\u001b[1;33m\u001b[0m\u001b[0m\n",
      "\u001b[1;32m~\\anaconda3\\lib\\site-packages\\selenium\\webdriver\\remote\\webelement.py\u001b[0m in \u001b[0;36mfind_element\u001b[1;34m(self, by, value)\u001b[0m\n\u001b[0;32m    423\u001b[0m             \u001b[0mvalue\u001b[0m \u001b[1;33m=\u001b[0m \u001b[1;34mf'[name=\"{value}\"]'\u001b[0m\u001b[1;33m\u001b[0m\u001b[1;33m\u001b[0m\u001b[0m\n\u001b[0;32m    424\u001b[0m \u001b[1;33m\u001b[0m\u001b[0m\n\u001b[1;32m--> 425\u001b[1;33m         \u001b[1;32mreturn\u001b[0m \u001b[0mself\u001b[0m\u001b[1;33m.\u001b[0m\u001b[0m_execute\u001b[0m\u001b[1;33m(\u001b[0m\u001b[0mCommand\u001b[0m\u001b[1;33m.\u001b[0m\u001b[0mFIND_CHILD_ELEMENT\u001b[0m\u001b[1;33m,\u001b[0m \u001b[1;33m{\u001b[0m\u001b[1;34m\"using\"\u001b[0m\u001b[1;33m:\u001b[0m \u001b[0mby\u001b[0m\u001b[1;33m,\u001b[0m \u001b[1;34m\"value\"\u001b[0m\u001b[1;33m:\u001b[0m \u001b[0mvalue\u001b[0m\u001b[1;33m}\u001b[0m\u001b[1;33m)\u001b[0m\u001b[1;33m[\u001b[0m\u001b[1;34m\"value\"\u001b[0m\u001b[1;33m]\u001b[0m\u001b[1;33m\u001b[0m\u001b[1;33m\u001b[0m\u001b[0m\n\u001b[0m\u001b[0;32m    426\u001b[0m \u001b[1;33m\u001b[0m\u001b[0m\n\u001b[0;32m    427\u001b[0m     \u001b[1;32mdef\u001b[0m \u001b[0mfind_elements\u001b[0m\u001b[1;33m(\u001b[0m\u001b[0mself\u001b[0m\u001b[1;33m,\u001b[0m \u001b[0mby\u001b[0m\u001b[1;33m=\u001b[0m\u001b[0mBy\u001b[0m\u001b[1;33m.\u001b[0m\u001b[0mID\u001b[0m\u001b[1;33m,\u001b[0m \u001b[0mvalue\u001b[0m\u001b[1;33m=\u001b[0m\u001b[1;32mNone\u001b[0m\u001b[1;33m)\u001b[0m \u001b[1;33m->\u001b[0m \u001b[0mlist\u001b[0m\u001b[1;33m[\u001b[0m\u001b[0mWebElement\u001b[0m\u001b[1;33m]\u001b[0m\u001b[1;33m:\u001b[0m\u001b[1;33m\u001b[0m\u001b[1;33m\u001b[0m\u001b[0m\n",
      "\u001b[1;32m~\\anaconda3\\lib\\site-packages\\selenium\\webdriver\\remote\\webelement.py\u001b[0m in \u001b[0;36m_execute\u001b[1;34m(self, command, params)\u001b[0m\n\u001b[0;32m    401\u001b[0m             \u001b[0mparams\u001b[0m \u001b[1;33m=\u001b[0m \u001b[1;33m{\u001b[0m\u001b[1;33m}\u001b[0m\u001b[1;33m\u001b[0m\u001b[1;33m\u001b[0m\u001b[0m\n\u001b[0;32m    402\u001b[0m         \u001b[0mparams\u001b[0m\u001b[1;33m[\u001b[0m\u001b[1;34m\"id\"\u001b[0m\u001b[1;33m]\u001b[0m \u001b[1;33m=\u001b[0m \u001b[0mself\u001b[0m\u001b[1;33m.\u001b[0m\u001b[0m_id\u001b[0m\u001b[1;33m\u001b[0m\u001b[1;33m\u001b[0m\u001b[0m\n\u001b[1;32m--> 403\u001b[1;33m         \u001b[1;32mreturn\u001b[0m \u001b[0mself\u001b[0m\u001b[1;33m.\u001b[0m\u001b[0m_parent\u001b[0m\u001b[1;33m.\u001b[0m\u001b[0mexecute\u001b[0m\u001b[1;33m(\u001b[0m\u001b[0mcommand\u001b[0m\u001b[1;33m,\u001b[0m \u001b[0mparams\u001b[0m\u001b[1;33m)\u001b[0m\u001b[1;33m\u001b[0m\u001b[1;33m\u001b[0m\u001b[0m\n\u001b[0m\u001b[0;32m    404\u001b[0m \u001b[1;33m\u001b[0m\u001b[0m\n\u001b[0;32m    405\u001b[0m     \u001b[1;32mdef\u001b[0m \u001b[0mfind_element\u001b[0m\u001b[1;33m(\u001b[0m\u001b[0mself\u001b[0m\u001b[1;33m,\u001b[0m \u001b[0mby\u001b[0m\u001b[1;33m=\u001b[0m\u001b[0mBy\u001b[0m\u001b[1;33m.\u001b[0m\u001b[0mID\u001b[0m\u001b[1;33m,\u001b[0m \u001b[0mvalue\u001b[0m\u001b[1;33m=\u001b[0m\u001b[1;32mNone\u001b[0m\u001b[1;33m)\u001b[0m \u001b[1;33m->\u001b[0m \u001b[0mWebElement\u001b[0m\u001b[1;33m:\u001b[0m\u001b[1;33m\u001b[0m\u001b[1;33m\u001b[0m\u001b[0m\n",
      "\u001b[1;32m~\\anaconda3\\lib\\site-packages\\selenium\\webdriver\\remote\\webdriver.py\u001b[0m in \u001b[0;36mexecute\u001b[1;34m(self, driver_command, params)\u001b[0m\n\u001b[0;32m    438\u001b[0m         \u001b[0mresponse\u001b[0m \u001b[1;33m=\u001b[0m \u001b[0mself\u001b[0m\u001b[1;33m.\u001b[0m\u001b[0mcommand_executor\u001b[0m\u001b[1;33m.\u001b[0m\u001b[0mexecute\u001b[0m\u001b[1;33m(\u001b[0m\u001b[0mdriver_command\u001b[0m\u001b[1;33m,\u001b[0m \u001b[0mparams\u001b[0m\u001b[1;33m)\u001b[0m\u001b[1;33m\u001b[0m\u001b[1;33m\u001b[0m\u001b[0m\n\u001b[0;32m    439\u001b[0m         \u001b[1;32mif\u001b[0m \u001b[0mresponse\u001b[0m\u001b[1;33m:\u001b[0m\u001b[1;33m\u001b[0m\u001b[1;33m\u001b[0m\u001b[0m\n\u001b[1;32m--> 440\u001b[1;33m             \u001b[0mself\u001b[0m\u001b[1;33m.\u001b[0m\u001b[0merror_handler\u001b[0m\u001b[1;33m.\u001b[0m\u001b[0mcheck_response\u001b[0m\u001b[1;33m(\u001b[0m\u001b[0mresponse\u001b[0m\u001b[1;33m)\u001b[0m\u001b[1;33m\u001b[0m\u001b[1;33m\u001b[0m\u001b[0m\n\u001b[0m\u001b[0;32m    441\u001b[0m             \u001b[0mresponse\u001b[0m\u001b[1;33m[\u001b[0m\u001b[1;34m\"value\"\u001b[0m\u001b[1;33m]\u001b[0m \u001b[1;33m=\u001b[0m \u001b[0mself\u001b[0m\u001b[1;33m.\u001b[0m\u001b[0m_unwrap_value\u001b[0m\u001b[1;33m(\u001b[0m\u001b[0mresponse\u001b[0m\u001b[1;33m.\u001b[0m\u001b[0mget\u001b[0m\u001b[1;33m(\u001b[0m\u001b[1;34m\"value\"\u001b[0m\u001b[1;33m,\u001b[0m \u001b[1;32mNone\u001b[0m\u001b[1;33m)\u001b[0m\u001b[1;33m)\u001b[0m\u001b[1;33m\u001b[0m\u001b[1;33m\u001b[0m\u001b[0m\n\u001b[0;32m    442\u001b[0m             \u001b[1;32mreturn\u001b[0m \u001b[0mresponse\u001b[0m\u001b[1;33m\u001b[0m\u001b[1;33m\u001b[0m\u001b[0m\n",
      "\u001b[1;32m~\\anaconda3\\lib\\site-packages\\selenium\\webdriver\\remote\\errorhandler.py\u001b[0m in \u001b[0;36mcheck_response\u001b[1;34m(self, response)\u001b[0m\n\u001b[0;32m    243\u001b[0m                 \u001b[0malert_text\u001b[0m \u001b[1;33m=\u001b[0m \u001b[0mvalue\u001b[0m\u001b[1;33m[\u001b[0m\u001b[1;34m\"alert\"\u001b[0m\u001b[1;33m]\u001b[0m\u001b[1;33m.\u001b[0m\u001b[0mget\u001b[0m\u001b[1;33m(\u001b[0m\u001b[1;34m\"text\"\u001b[0m\u001b[1;33m)\u001b[0m\u001b[1;33m\u001b[0m\u001b[1;33m\u001b[0m\u001b[0m\n\u001b[0;32m    244\u001b[0m             \u001b[1;32mraise\u001b[0m \u001b[0mexception_class\u001b[0m\u001b[1;33m(\u001b[0m\u001b[0mmessage\u001b[0m\u001b[1;33m,\u001b[0m \u001b[0mscreen\u001b[0m\u001b[1;33m,\u001b[0m \u001b[0mstacktrace\u001b[0m\u001b[1;33m,\u001b[0m \u001b[0malert_text\u001b[0m\u001b[1;33m)\u001b[0m  \u001b[1;31m# type: ignore[call-arg]  # mypy is not smart enough here\u001b[0m\u001b[1;33m\u001b[0m\u001b[1;33m\u001b[0m\u001b[0m\n\u001b[1;32m--> 245\u001b[1;33m         \u001b[1;32mraise\u001b[0m \u001b[0mexception_class\u001b[0m\u001b[1;33m(\u001b[0m\u001b[0mmessage\u001b[0m\u001b[1;33m,\u001b[0m \u001b[0mscreen\u001b[0m\u001b[1;33m,\u001b[0m \u001b[0mstacktrace\u001b[0m\u001b[1;33m)\u001b[0m\u001b[1;33m\u001b[0m\u001b[1;33m\u001b[0m\u001b[0m\n\u001b[0m",
      "\u001b[1;31mNoSuchElementException\u001b[0m: Message: no such element: Unable to locate element: {\"method\":\"css selector\",\"selector\":\".rating__review--ygkUy\"}\n  (Session info: chrome=110.0.5481.178)\nStacktrace:\nBacktrace:\n\t(No symbol) [0x006B37D3]\n\t(No symbol) [0x00648B81]\n\t(No symbol) [0x0054B36D]\n\t(No symbol) [0x0057D382]\n\t(No symbol) [0x0057D4BB]\n\t(No symbol) [0x00572C41]\n\t(No symbol) [0x0059B464]\n\t(No symbol) [0x00572B96]\n\t(No symbol) [0x0059B774]\n\t(No symbol) [0x005B1215]\n\t(No symbol) [0x0059B216]\n\t(No symbol) [0x00570D97]\n\t(No symbol) [0x0057253D]\n\tGetHandleVerifier [0x0092ABF2+2510930]\n\tGetHandleVerifier [0x00958EC1+2700065]\n\tGetHandleVerifier [0x0095C86C+2714828]\n\tGetHandleVerifier [0x00763480+645344]\n\t(No symbol) [0x00650FD2]\n\t(No symbol) [0x00656C68]\n\t(No symbol) [0x00656D4B]\n\t(No symbol) [0x00660D6B]\n\tBaseThreadInitThunk [0x76017D69+25]\n\tRtlInitializeExceptionChain [0x77C0BB9B+107]\n\tRtlClearBits [0x77C0BB1F+191]\n"
     ]
    }
   ],
   "source": [
    "product_box = 'box--pRqdD'\n",
    "no_of_reviews = driver.find_elements(By.CLASS_NAME , product_box)\n",
    "\n",
    "for i in no_of_reviews:\n",
    "    \n",
    "    n_o_r = i.find_element(By.CLASS_NAME , 'rating__review--ygkUy')\n",
    "    print(n_o_r.text)"
   ]
  },
  {
   "cell_type": "code",
   "execution_count": 23,
   "id": "d8894a01",
   "metadata": {},
   "outputs": [],
   "source": [
    "product_box = 'box--pRqdD'\n",
    "no_of_reviews = driver.find_elements(By.CLASS_NAME , product_box)\n",
    "\n",
    "no_of_reviews_list = []\n",
    "\n",
    "for i in no_of_reviews:\n",
    "    \n",
    "    try:\n",
    "        n_o_r = i.find_element(By.CLASS_NAME , 'rating__review--ygkUy')\n",
    "        no_of_reviews_list.append(n_o_r.text)\n",
    "        \n",
    "    except:\n",
    "        no_of_reviews_list.append(\"Not Available\")"
   ]
  },
  {
   "cell_type": "code",
   "execution_count": 24,
   "id": "aa36e29f",
   "metadata": {},
   "outputs": [
    {
     "data": {
      "text/plain": [
       "40"
      ]
     },
     "execution_count": 24,
     "metadata": {},
     "output_type": "execute_result"
    }
   ],
   "source": [
    "len(no_of_reviews_list)"
   ]
  },
  {
   "cell_type": "code",
   "execution_count": 26,
   "id": "52530fde",
   "metadata": {
    "collapsed": true
   },
   "outputs": [
    {
     "data": {
      "text/plain": [
       "['Not Available',\n",
       " 'Not Available',\n",
       " 'Not Available',\n",
       " '(122)',\n",
       " '(38)',\n",
       " '(1)',\n",
       " '(59)',\n",
       " '(1)',\n",
       " '(3)',\n",
       " '(14)',\n",
       " '(1)',\n",
       " '(1)',\n",
       " '(3)',\n",
       " '(38)',\n",
       " '(32)',\n",
       " '(80)',\n",
       " '(295)',\n",
       " '(6)',\n",
       " '(5)',\n",
       " '(31)',\n",
       " '(61)',\n",
       " '(6)',\n",
       " '(1)',\n",
       " '(16)',\n",
       " '(75)',\n",
       " '(18)',\n",
       " '(187)',\n",
       " '(30)',\n",
       " '(39)',\n",
       " '(14)',\n",
       " '(8)',\n",
       " '(35)',\n",
       " '(8)',\n",
       " '(8)',\n",
       " '(9)',\n",
       " '(2)',\n",
       " '(34)',\n",
       " '(21)',\n",
       " '(3)',\n",
       " '(39)']"
      ]
     },
     "execution_count": 26,
     "metadata": {},
     "output_type": "execute_result"
    }
   ],
   "source": [
    "no_of_reviews_list"
   ]
  },
  {
   "cell_type": "markdown",
   "id": "8302a7bf",
   "metadata": {},
   "source": [
    "## Shipping Status"
   ]
  },
  {
   "cell_type": "code",
   "execution_count": 27,
   "id": "b472ae55",
   "metadata": {},
   "outputs": [],
   "source": [
    "free_shipping_xpath = '//*[@id=\"root\"]/div/div[2]/div/div/div[1]/div[2]/div/div/div/div[2]/div[5]/span'\n",
    "free_shipping = driver.find_elements(By.XPATH , free_shipping_xpath)\n",
    "\n"
   ]
  },
  {
   "cell_type": "code",
   "execution_count": 29,
   "id": "3aaadcdd",
   "metadata": {},
   "outputs": [
    {
     "data": {
      "text/plain": [
       "40"
      ]
     },
     "execution_count": 29,
     "metadata": {},
     "output_type": "execute_result"
    }
   ],
   "source": [
    "len(free_shipping)"
   ]
  },
  {
   "cell_type": "code",
   "execution_count": 30,
   "id": "1a95fb03",
   "metadata": {},
   "outputs": [],
   "source": [
    "free_shipping_list = []\n",
    "\n",
    "for i in free_shipping:\n",
    "    \n",
    "    if i.text == \"Free Shipping\":\n",
    "        free_shipping_list.append(\"Free\")\n",
    "        \n",
    "    else:\n",
    "        free_shipping_list.append(\"Paid\")\n",
    "        \n",
    "\n",
    "        "
   ]
  },
  {
   "cell_type": "code",
   "execution_count": 31,
   "id": "5c44d850",
   "metadata": {},
   "outputs": [
    {
     "data": {
      "text/plain": [
       "['Paid',\n",
       " 'Paid',\n",
       " 'Paid',\n",
       " 'Paid',\n",
       " 'Paid',\n",
       " 'Free',\n",
       " 'Paid',\n",
       " 'Paid',\n",
       " 'Paid',\n",
       " 'Paid',\n",
       " 'Free',\n",
       " 'Free',\n",
       " 'Free',\n",
       " 'Paid',\n",
       " 'Paid',\n",
       " 'Paid',\n",
       " 'Free',\n",
       " 'Paid',\n",
       " 'Paid',\n",
       " 'Paid',\n",
       " 'Paid',\n",
       " 'Paid',\n",
       " 'Free',\n",
       " 'Paid',\n",
       " 'Paid',\n",
       " 'Paid',\n",
       " 'Paid',\n",
       " 'Paid',\n",
       " 'Paid',\n",
       " 'Paid',\n",
       " 'Free',\n",
       " 'Paid',\n",
       " 'Paid',\n",
       " 'Paid',\n",
       " 'Free',\n",
       " 'Free',\n",
       " 'Paid',\n",
       " 'Paid',\n",
       " 'Paid',\n",
       " 'Paid']"
      ]
     },
     "execution_count": 31,
     "metadata": {},
     "output_type": "execute_result"
    }
   ],
   "source": [
    "free_shipping_list"
   ]
  },
  {
   "cell_type": "code",
   "execution_count": null,
   "id": "b36c2234",
   "metadata": {},
   "outputs": [],
   "source": []
  }
 ],
 "metadata": {
  "kernelspec": {
   "display_name": "Python 3 (ipykernel)",
   "language": "python",
   "name": "python3"
  },
  "language_info": {
   "codemirror_mode": {
    "name": "ipython",
    "version": 3
   },
   "file_extension": ".py",
   "mimetype": "text/x-python",
   "name": "python",
   "nbconvert_exporter": "python",
   "pygments_lexer": "ipython3",
   "version": "3.11.2"
  }
 },
 "nbformat": 4,
 "nbformat_minor": 5
}

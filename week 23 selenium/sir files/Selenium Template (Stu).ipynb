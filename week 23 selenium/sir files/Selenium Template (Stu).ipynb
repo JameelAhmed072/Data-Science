{
 "cells": [
  {
   "cell_type": "markdown",
   "metadata": {},
   "source": [
    "### Part 1 - Set Up"
   ]
  },
  {
   "cell_type": "code",
   "execution_count": 1,
   "metadata": {},
   "outputs": [],
   "source": [
    "# relevant packages & modules\n",
    "from selenium import webdriver\n",
    "from selenium.webdriver.common.keys import Keys\n",
    "from selenium.webdriver.common.by import By\n",
    "from selenium.webdriver.chrome.options import Options\n",
    "import time"
   ]
  },
  {
   "cell_type": "code",
   "execution_count": 5,
   "metadata": {},
   "outputs": [],
   "source": [
    "# relevant website\n",
    "website = \"https://www.daraz.pk/catalog/?q=watch&_keyori=ss&from=input&spm=a2a0e.home.search.go.35e3493775HQzW\""
   ]
  },
  {
   "cell_type": "code",
   "execution_count": 6,
   "metadata": {},
   "outputs": [
    {
     "name": "stderr",
     "output_type": "stream",
     "text": [
      "C:\\Users\\techm\\AppData\\Local\\Temp\\ipykernel_1848\\1280338395.py:2: DeprecationWarning: executable_path has been deprecated, please pass in a Service object\n",
      "  driver = webdriver.Chrome(\"C:\\webdrivers\\chromedriver.exe\")\n"
     ]
    }
   ],
   "source": [
    "# initialize chrome\n",
    "driver = webdriver.Chrome(\"C:\\webdrivers\\chromedriver.exe\")\n",
    "# open website\n",
    "driver.get(website)\n",
    "# maximize window\n",
    "driver.maximize_window()"
   ]
  },
  {
   "cell_type": "markdown",
   "metadata": {},
   "source": [
    "### Part 2 - Locators "
   ]
  },
  {
   "cell_type": "markdown",
   "metadata": {},
   "source": [
    "##### Xpath - Locator "
   ]
  },
  {
   "cell_type": "markdown",
   "metadata": {},
   "source": [
    "##### Watch Prices"
   ]
  },
  {
   "cell_type": "code",
   "execution_count": 8,
   "metadata": {},
   "outputs": [],
   "source": [
    "price = driver.find_element('xpath' , '//span[@class=\"currency--GVKjl\"]')"
   ]
  },
  {
   "cell_type": "code",
   "execution_count": 9,
   "metadata": {},
   "outputs": [
    {
     "data": {
      "text/plain": [
       "'Rs. 1,250'"
      ]
     },
     "execution_count": 9,
     "metadata": {},
     "output_type": "execute_result"
    }
   ],
   "source": [
    "price.text"
   ]
  },
  {
   "cell_type": "code",
   "execution_count": 13,
   "metadata": {},
   "outputs": [
    {
     "data": {
      "text/plain": [
       "40"
      ]
     },
     "execution_count": 13,
     "metadata": {},
     "output_type": "execute_result"
    }
   ],
   "source": [
    "prices = driver.find_elements('xpath' , '//span[@class=\"currency--GVKjl\"]')\n",
    "len(prices)"
   ]
  },
  {
   "cell_type": "code",
   "execution_count": 12,
   "metadata": {
    "scrolled": true
   },
   "outputs": [
    {
     "name": "stdout",
     "output_type": "stream",
     "text": [
      "Rs. 1,250\n",
      "Rs. 1,042\n",
      "Rs. 469\n",
      "Rs. 799\n",
      "Rs. 469\n",
      "Rs. 1,599\n",
      "Rs. 2,000\n",
      "Rs. 599\n",
      "Rs. 649\n",
      "Rs. 799\n",
      "Rs. 350\n",
      "Rs. 570\n",
      "Rs. 898\n",
      "Rs. 399\n",
      "Rs. 2,000\n",
      "Rs. 549\n",
      "Rs. 265\n",
      "Rs. 972\n",
      "Rs. 1,317\n",
      "Rs. 549\n",
      "Rs. 849\n",
      "Rs. 979\n",
      "Rs. 1,502\n",
      "Rs. 279\n",
      "Rs. 299\n",
      "Rs. 1,499\n",
      "Rs. 399\n",
      "Rs. 499\n",
      "Rs. 549\n",
      "Rs. 299\n",
      "Rs. 2,950\n",
      "Rs. 199\n",
      "Rs. 2,999\n",
      "Rs. 499\n",
      "Rs. 818\n",
      "Rs. 320\n",
      "Rs. 379\n",
      "Rs. 279\n",
      "Rs. 195\n",
      "Rs. 295\n"
     ]
    }
   ],
   "source": [
    "for price in prices:\n",
    "    print(price.text)"
   ]
  },
  {
   "cell_type": "markdown",
   "metadata": {},
   "source": [
    "##### Class Name - Locator"
   ]
  },
  {
   "cell_type": "markdown",
   "metadata": {},
   "source": [
    "##### Watch Name"
   ]
  },
  {
   "cell_type": "code",
   "execution_count": 16,
   "metadata": {},
   "outputs": [
    {
     "data": {
      "text/plain": [
       "40"
      ]
     },
     "execution_count": 16,
     "metadata": {},
     "output_type": "execute_result"
    }
   ],
   "source": [
    "names = driver.find_elements(By.CLASS_NAME , 'title--wFj93')\n",
    "len(names)"
   ]
  },
  {
   "cell_type": "code",
   "execution_count": 18,
   "metadata": {
    "collapsed": true
   },
   "outputs": [
    {
     "name": "stdout",
     "output_type": "stream",
     "text": [
      "Fashion Mens Watches Stainless Steel Quartz Wristwatch Calendar Clock Men Business Casual Mesh Belt Watch\n",
      "\n",
      "Women Quartz Wristwatches Montre Femme Leather Winding Bracelet Watch Ladies Watches Women Arrival Dress Clock P40\n",
      "\n",
      "Business Watch Gold Stainless Steel Straps Round Shape diel Watches-Wrist Watches-Hand Watch Stylish-Branded-Watch For Boy & Man\n",
      "\n",
      "Steel Body Analog Stylish Watch For Men\n",
      "\n",
      "Business Watch Gold Stainless Steel Straps Round Shape diel Watches-Wrist Watches-Hand Watch Stylish-Branded-Watch For Boy & Man\n",
      "\n",
      "Couple Watch With Necklace\n",
      "\n",
      "man watch design dial\n",
      "\n",
      "Waterproof Watch Casual Watch Series Leather Belt Sport Quartz Watches Men\n",
      "\n",
      "Beautifull stylish Watch for boys Black And gold chain watch for man stainless steel watch\n",
      "\n",
      "New Style Fashion Date Classic Luxury Rubber Straps Watch for Men\n",
      "\n",
      "LG Classic watch Simple Luminous Watches |Brand Quartz Watc\n",
      "\n",
      "OLAIVS classic watch for men\n",
      "\n",
      "Latest Luxury Casual & Fashion Watch For Men | Soft Rubber Chain Watch For Men\n",
      "\n",
      "Latest Style Fashionable Watch with Leather Strap\n",
      "\n",
      "BAISHENG FOR MENS STAINLESS STEEL CHAIN\n",
      "\n",
      "Stylish Men Leather Watch Casual Quartz Leather Strap Watch for Boys\n",
      "\n",
      "Stylish Analog Wrist Watch for Men with Leather Strap - Blue\n",
      "\n",
      "Simple Women Fashion Watches Ulzzang Brand Square Female Quartz Wristwatches Drop Shipping Sport Clock Relogio Feminino\n",
      "\n",
      "Feminino Relogio Women Watches Crystal Full Steel Ladies Wristwatch Quartz Woman reloj hombre montre femme zegarek damski saati\n",
      "\n",
      "Soft Leather Men's Stylish Watch for Men Watch Casual Quartz Leather Strap Watch for Boys Watch\n",
      "\n",
      "Business & casual Fashion Quartz men Watches, Boys Watch with soft Rubber Strap\n",
      "\n",
      "Korean Fashion Daisy Canvas Lover's Watch 2020 Summer Men Women Sweet Flower Bangle Trendy Girlfriend Wristwatch\n",
      "\n",
      "Men Iced Out Watches Date Quartz Wrist Watches With Micropave CZ Watch For Women Men Jewelry High Quality\n",
      "\n",
      "WaterProof luxury ladies magnetic watch For Girls\n",
      "\n",
      "Brown Leather Luxury Watch Stainless Steel Casual for Man SMART Quartz Watches for Boys and Men New Fashion Wrist watch\n",
      "\n",
      "Couple Watch Men Women Watches Top Brand Luxury Casual Quartz Leather Watch Lovers Wristwatch Men's Women's Clock For husband wife cute watches - 01030\n",
      "\n",
      "Pearl Bracelet Watch For Ladies And Girls - Golden\n",
      "\n",
      "Military Men's Digital Sports Watch For Men Waterproof with LED Back light Watch for Men\n",
      "\n",
      "Classic Luxury Watch for Men / Boys - Stylish Stainless Steel Analog Quartz Mens Watches\n",
      "\n",
      "Analog Watches For Girls Luxury Stylish Girls Analog Handmade Braided Bracelet Watch Thread Knitted Weaved Strap Women Dress Casual Watches Relogio Feminino Female Ladies Wrist Watch Best For Personal Use Or Gift Birthday Party\n",
      "\n",
      "Hublot design golden and brown strips combination\n",
      "\n",
      "Digital Watch Electronic Watch Led Watch Band Watches\n",
      "\n",
      "Branded golden dial men’s wrist watch with day and date golden bracelet & case\n",
      "\n",
      "Rubber Strap Analog Watch For Men\n",
      "\n",
      "Luxury Women Watch Fashion Ladies Quartz Wristwatch Elegant Female Bracelet Watches\n",
      "\n",
      "Digital sports watch for Men Boys,Military Sports watch,Digital Waterproof Led watch.\n",
      "\n",
      "Brown Leather Skeleton Watches for Men-TW002\n",
      "\n",
      "HS Collections Purple COLOR Magnetic Wrist Watch for Girls HS799\n",
      "\n",
      "Smart Watch Latest LED Watch for boys & girls Waterproof Sport M4 Touch Led Digital Watches All colours || Men Sports M4 Touch Led Bracelet Digital Watch Band M3 watches for men led watches & Touch watch\n",
      "\n",
      "Led Simple Stylish Fashion Watch Waterproof LED Digital Date Silicone Strap Wrist Watch For Men & Women - High Quality Led Watch For Girls & Boys - Black with Free M3 led Band d\n",
      "\n"
     ]
    }
   ],
   "source": [
    "for name in names:\n",
    "    print(name.text)\n",
    "    print()"
   ]
  },
  {
   "cell_type": "markdown",
   "metadata": {},
   "source": [
    "##### ID - Locator"
   ]
  },
  {
   "cell_type": "markdown",
   "metadata": {},
   "source": [
    "##### Search Bar"
   ]
  },
  {
   "cell_type": "code",
   "execution_count": 24,
   "metadata": {},
   "outputs": [],
   "source": [
    "search = driver.find_element('id' , 'q')\n",
    "\n",
    "# click\n",
    "search.click()\n",
    "time.sleep(2)\n",
    "\n",
    "#selecting\n",
    "search.send_keys(Keys.CONTROL + 'a')\n",
    "# erasing\n",
    "search.send_keys(Keys.DELETE)\n",
    "\n",
    "search.send_keys(\"books\")"
   ]
  },
  {
   "cell_type": "markdown",
   "metadata": {},
   "source": [
    "### Name Locator"
   ]
  },
  {
   "cell_type": "markdown",
   "metadata": {},
   "source": [
    "##### Entering On Search Bar"
   ]
  },
  {
   "cell_type": "code",
   "execution_count": 26,
   "metadata": {},
   "outputs": [],
   "source": [
    "search = driver.find_element('name' , 'q')\n",
    "\n",
    "#click\n",
    "search.click()\n",
    "time.sleep(2)\n",
    "\n",
    "# entering\n",
    "\n",
    "search.send_keys(Keys.ENTER)"
   ]
  },
  {
   "cell_type": "markdown",
   "metadata": {},
   "source": [
    "## Going Back"
   ]
  },
  {
   "cell_type": "code",
   "execution_count": 27,
   "metadata": {},
   "outputs": [],
   "source": [
    "driver.back()"
   ]
  },
  {
   "cell_type": "markdown",
   "metadata": {},
   "source": [
    "##### LinkText - Locator"
   ]
  },
  {
   "cell_type": "code",
   "execution_count": 30,
   "metadata": {},
   "outputs": [],
   "source": [
    "contact = driver.find_element(By.LINK_TEXT , \"About Us\")"
   ]
  },
  {
   "cell_type": "code",
   "execution_count": 32,
   "metadata": {},
   "outputs": [
    {
     "data": {
      "text/plain": [
       "<selenium.webdriver.remote.webelement.WebElement (session=\"968d9644cc8a7330e84b662b37b180d2\", element=\"8b7968c3-55cd-44db-83ee-559c1a061563\")>"
      ]
     },
     "execution_count": 32,
     "metadata": {},
     "output_type": "execute_result"
    }
   ],
   "source": [
    "contact"
   ]
  },
  {
   "cell_type": "code",
   "execution_count": 33,
   "metadata": {},
   "outputs": [],
   "source": [
    "contact.click()"
   ]
  },
  {
   "cell_type": "markdown",
   "metadata": {},
   "source": [
    "### Part 3 - Different ways to use Locators "
   ]
  },
  {
   "cell_type": "code",
   "execution_count": 34,
   "metadata": {},
   "outputs": [],
   "source": [
    "# 1st way\n",
    "\n",
    "prices_1 = driver.find_elements('xpath' , '//span[@class=\"currency--GVKjl\"]')\n",
    "\n",
    "# 2nd way\n",
    "\n",
    "prices_2 = driver.find_elements(By.XPATH , '//span[@class=\"currency--GVKjl\"]')"
   ]
  },
  {
   "cell_type": "code",
   "execution_count": 35,
   "metadata": {},
   "outputs": [
    {
     "data": {
      "text/plain": [
       "True"
      ]
     },
     "execution_count": 35,
     "metadata": {},
     "output_type": "execute_result"
    }
   ],
   "source": [
    "prices_1 == prices_2"
   ]
  },
  {
   "cell_type": "code",
   "execution_count": null,
   "metadata": {},
   "outputs": [],
   "source": []
  }
 ],
 "metadata": {
  "kernelspec": {
   "display_name": "Python 3 (ipykernel)",
   "language": "python",
   "name": "python3"
  },
  "language_info": {
   "codemirror_mode": {
    "name": "ipython",
    "version": 3
   },
   "file_extension": ".py",
   "mimetype": "text/x-python",
   "name": "python",
   "nbconvert_exporter": "python",
   "pygments_lexer": "ipython3",
   "version": "3.11.2"
  }
 },
 "nbformat": 4,
 "nbformat_minor": 4
}

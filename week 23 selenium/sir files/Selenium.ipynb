{
 "cells": [
  {
   "cell_type": "markdown",
   "id": "272d168a",
   "metadata": {},
   "source": [
    "# Selenium vs. Beautiful Soup"
   ]
  },
  {
   "cell_type": "markdown",
   "id": "8ff2f356",
   "metadata": {},
   "source": [
    "The main difference between Selenium and Beautiful Soup is that Selenium is ideal for complex projects while Beautiful Soup is best for smaller projects."
   ]
  },
  {
   "cell_type": "markdown",
   "id": "fd317301",
   "metadata": {},
   "source": [
    "## Scraping Speed\n",
    "\n",
    "Selenium waits for client-side technologies like JavaScript to load first, essentially waiting for the full page to load. Beautiful Soup is just scraping the page source, which enables faster scraping."
   ]
  },
  {
   "cell_type": "markdown",
   "id": "5e3fbb39",
   "metadata": {},
   "source": [
    "## Ease of Use\n",
    "\n",
    "Selenium is running as a headless browser. It can function as a comprehensive web automation toolkit that simulates mouse clicks and fills out forms."
   ]
  },
  {
   "cell_type": "markdown",
   "id": "45f554c4",
   "metadata": {},
   "source": [
    "## Scraping Flexibility\n",
    "\n",
    "Selenium supports interacting with dynamic pages and content."
   ]
  },
  {
   "cell_type": "code",
   "execution_count": 1,
   "id": "e3237676",
   "metadata": {},
   "outputs": [],
   "source": [
    "import requests\n",
    "from bs4 import BeautifulSoup"
   ]
  },
  {
   "cell_type": "code",
   "execution_count": 5,
   "id": "ddce25a5",
   "metadata": {},
   "outputs": [
    {
     "data": {
      "text/plain": [
       "<Response [200]>"
      ]
     },
     "execution_count": 5,
     "metadata": {},
     "output_type": "execute_result"
    }
   ],
   "source": [
    "base_site = \"https://daraz.pk/\"\n",
    "response = requests.get(base_site)\n",
    "response"
   ]
  },
  {
   "cell_type": "code",
   "execution_count": null,
   "id": "930a02b1",
   "metadata": {},
   "outputs": [],
   "source": []
  }
 ],
 "metadata": {
  "kernelspec": {
   "display_name": "Python 3 (ipykernel)",
   "language": "python",
   "name": "python3"
  },
  "language_info": {
   "codemirror_mode": {
    "name": "ipython",
    "version": 3
   },
   "file_extension": ".py",
   "mimetype": "text/x-python",
   "name": "python",
   "nbconvert_exporter": "python",
   "pygments_lexer": "ipython3",
   "version": "3.11.2"
  }
 },
 "nbformat": 4,
 "nbformat_minor": 5
}

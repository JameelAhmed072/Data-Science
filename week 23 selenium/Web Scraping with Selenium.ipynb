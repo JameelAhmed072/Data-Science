{
 "cells": [
  {
   "cell_type": "code",
   "execution_count": 1,
   "id": "7d712e81",
   "metadata": {},
   "outputs": [],
   "source": [
    "# relevant packages & modules\n",
    "from selenium import webdriver\n",
    "from selenium.webdriver.common.keys import Keys\n",
    "from selenium.webdriver.common.by import By\n",
    "from selenium.webdriver.chrome.options import Options\n",
    "import time"
   ]
  },
  {
   "cell_type": "code",
   "execution_count": 2,
   "id": "44c0e452",
   "metadata": {},
   "outputs": [
    {
     "name": "stderr",
     "output_type": "stream",
     "text": [
      "C:\\Users\\jamee\\AppData\\Local\\Temp\\ipykernel_28056\\2270165625.py:5: DeprecationWarning: executable_path has been deprecated, please pass in a Service object\n",
      "  driver = webdriver.Chrome(\"C:\\webdrivers\\chromedriver.exe\")\n"
     ]
    }
   ],
   "source": [
    "website = \"https://www.daraz.pk\"\n",
    "\n",
    "\n",
    "# initilize chrome\n",
    "driver = webdriver.Chrome(\"C:\\webdrivers\\chromedriver.exe\")\n",
    "# open website\n",
    "driver.get(website)\n",
    "# maximize windows\n",
    "driver.maximize_window()\n"
   ]
  },
  {
   "cell_type": "markdown",
   "id": "e3fda16e",
   "metadata": {},
   "source": [
    "## Searching desired Object"
   ]
  },
  {
   "cell_type": "code",
   "execution_count": 3,
   "id": "0cc67f3e",
   "metadata": {},
   "outputs": [],
   "source": [
    "search = driver.find_element(By.XPATH,'//*[@id=\"q\"]')\n",
    "\n",
    "search.click()\n",
    "time.sleep(2)\n",
    "search.send_keys('furniture')\n",
    "\n",
    "search.send_keys(Keys.ENTER)"
   ]
  },
  {
   "cell_type": "code",
   "execution_count": null,
   "id": "a9007fcf",
   "metadata": {},
   "outputs": [],
   "source": []
  },
  {
   "cell_type": "markdown",
   "id": "33d35804",
   "metadata": {},
   "source": [
    "## Scraping Prices"
   ]
  },
  {
   "cell_type": "code",
   "execution_count": 4,
   "id": "404f3181",
   "metadata": {},
   "outputs": [],
   "source": [
    "xpath_prices = '//*[@id=\"root\"]/div/div[2]/div/div/div[1]/div[2]/div/div/div/div[2]/div[3]/span'\n",
    "prices =  driver.find_elements(By.XPATH,xpath_prices)"
   ]
  },
  {
   "cell_type": "code",
   "execution_count": 5,
   "id": "234820f0",
   "metadata": {},
   "outputs": [
    {
     "data": {
      "text/plain": [
       "40"
      ]
     },
     "execution_count": 5,
     "metadata": {},
     "output_type": "execute_result"
    }
   ],
   "source": [
    "len(prices)"
   ]
  },
  {
   "cell_type": "code",
   "execution_count": 6,
   "id": "9448c486",
   "metadata": {},
   "outputs": [],
   "source": [
    "prices_list = []\n",
    "for i in prices:\n",
    "    prices_list.append(i.text)"
   ]
  },
  {
   "cell_type": "code",
   "execution_count": 7,
   "id": "471445bf",
   "metadata": {},
   "outputs": [
    {
     "data": {
      "text/plain": [
       "['Rs. 39,999',\n",
       " 'Rs. 47,999',\n",
       " 'Rs. 19,950',\n",
       " 'Rs. 14,999',\n",
       " 'Rs. 5,890',\n",
       " 'Rs. 22,999',\n",
       " 'Rs. 14,999',\n",
       " 'Rs. 96,999',\n",
       " 'Rs. 5,975',\n",
       " 'Rs. 53,999',\n",
       " 'Rs. 12,500',\n",
       " 'Rs. 67,041',\n",
       " 'Rs. 22,000',\n",
       " 'Rs. 76,279',\n",
       " 'Rs. 68,499',\n",
       " 'Rs. 14,900',\n",
       " 'Rs. 20,950',\n",
       " 'Rs. 31,499',\n",
       " 'Rs. 15,999',\n",
       " 'Rs. 31,499',\n",
       " 'Rs. 68,099',\n",
       " 'Rs. 15,000',\n",
       " 'Rs. 58,000',\n",
       " 'Rs. 28,999',\n",
       " 'Rs. 28,999',\n",
       " 'Rs. 32,999',\n",
       " 'Rs. 46,539',\n",
       " 'Rs. 205,500',\n",
       " 'Rs. 14,999',\n",
       " 'Rs. 68,499',\n",
       " 'Rs. 55,088',\n",
       " 'Rs. 21,000',\n",
       " 'Rs. 44,999',\n",
       " 'Rs. 5,790',\n",
       " 'Rs. 86,999',\n",
       " 'Rs. 88,999',\n",
       " 'Rs. 50,668',\n",
       " 'Rs. 52,085',\n",
       " 'Rs. 37,999',\n",
       " 'Rs. 31,999']"
      ]
     },
     "execution_count": 7,
     "metadata": {},
     "output_type": "execute_result"
    }
   ],
   "source": [
    "prices_list"
   ]
  },
  {
   "cell_type": "markdown",
   "id": "8a878e1f",
   "metadata": {},
   "source": [
    "## Scraping Names"
   ]
  },
  {
   "cell_type": "code",
   "execution_count": 8,
   "id": "73ad41e3",
   "metadata": {},
   "outputs": [],
   "source": [
    "xpath_names = '//*[@id=\"root\"]/div/div[2]/div/div/div[1]/div[2]/div/div/div/div[2]/div[2]/a'\n",
    "\n",
    "names =  driver.find_elements(By.XPATH,xpath_names)"
   ]
  },
  {
   "cell_type": "code",
   "execution_count": 9,
   "id": "ab3d9b69",
   "metadata": {},
   "outputs": [],
   "source": [
    "names_list = []\n",
    "for i in names:\n",
    "    names_list.append(i.text)"
   ]
  },
  {
   "cell_type": "code",
   "execution_count": 10,
   "id": "87b2497c",
   "metadata": {},
   "outputs": [
    {
     "data": {
      "text/plain": [
       "['Silver Grill Bed, Iron Bed , Mughal Star Steel Furniture',\n",
       " 'Super Bunk Bed, Iron Bed , Mughal Star Steel Furniture',\n",
       " 'Galaxy Black Sofa Cum bed fabric imported Black Jute length 6 ft and height 18 inches from ground',\n",
       " 'Galaxy 4 Seater Puffy Sets Fabric Blue Valvid (Size 2 unit single seat 22x22 inches and 1 unit large 2 seater 44x22 complete set height 17 inches)',\n",
       " 'Fixed Bed - Grey(Iron Charpai)',\n",
       " 'Galaxy Gloria Sofa Cum Bed Imported Velvet Fabric, Diamond Supreme Foam 12 Years warranty with Arms Compact Living Spaces, Dorms, Guest Rooms, Apartments, Offices,',\n",
       " 'Dream Bed Single/Single Bed/ Iron Bed/ Mughal Star Steel Furniture',\n",
       " 'ELECTRIC RECLINER SOFA WITH HEATING AND VIBRATION FUNCTION',\n",
       " 'Folding Bed - Blue & Red(Folding Charpoy),(Folding Charpai)',\n",
       " 'Galaxy Sydnor Rose Velvet Black and White 04 Cushioned Chairs Dining Table Velvet Fabric with Marble Touch Dining Top heavy dining stand with powder coated',\n",
       " 'Multipurpose Fold-A Table: Space Saving Table - Adjustable Table- Dining Table - Office Table',\n",
       " 'Interwood TRYSIL BED - KING - Secure delivery + Free Installation',\n",
       " 'Galaxy Brand New Modern Design Sofa Cum Bed Imported Velvet Fabric , Diamond Supreme Foam 12 Years warranty , Guest Rooms, Apartments, Offices,',\n",
       " 'Interwood SYDNEY BED - KING (LIGHT OAK) - Secure delivery + Free Installation',\n",
       " '7 Seater Modern Chesterfield Sofa Set In Order 3+2+1+1 With Free Matching Cushions',\n",
       " 'Galaxy 4 Seater Puffy Set Fabric Maroon Valvid (Size 2 unit single seat 22x22 inches and 1 unit large 2 seater 44x22 complete set height 17 inches)',\n",
       " 'Galaxy Sofa Cum Bed Imported Jute Fabric Grey Colour Armless Compact Living Spaces, Dorms, Guest Rooms, Apartments, Offices,',\n",
       " 'Unique Bed , Wrought iron , Mughal Star Steel Furniture',\n",
       " 'Clever-Space saving folding dining table-TWDT8-white and cemel',\n",
       " 'Galaxy Bed, Iron Bed, Mughal Star Steel Furniture',\n",
       " 'Tufted Royal 5 Seated Sofa Set 3+1+1 In Order Velvet Fabric + Printed Seats Tufted Back',\n",
       " 'Galaxy 4 seater puffy Set Brown Shaded Rexine',\n",
       " 'Galaxy Imported Green Square style Sofa 5 Seater Diamond Supreme 12 years warranty foam imported velvet fabric with matching pillows imported tempered spring used in seats 3+1+1 seats',\n",
       " 'Comfort bed , Iron bed , Metal bed',\n",
       " 'Iron Wood Bed /Iron bed / Metal Bed / Mughal Star Steel Furniture',\n",
       " 'Galaxy Bed with Poshish /Wrought Iron Bed/Double bed/King Size',\n",
       " 'Interwood ARC SOFA KOTO - Secure delivery + Free Installation',\n",
       " 'Bedroom Set Wishy Solid Oak',\n",
       " 'Galaxy 04 Seater Valvid Puffy Sets bench size 22x22 small seat large 41x22 inches height 17 inches from ground',\n",
       " '7 Seater Modern Chesterfield Sofa Set Velvet Furnished Without Table Free Cushions',\n",
       " 'Luxury Chesterfield Modern Sofa 5 Seated 3+1+1 With Free Cushions Sofa Set',\n",
       " 'Galaxy Sofa Cum bed Brown',\n",
       " \"Sultan's furniture Stylish design 6 seater L shape Corner sofa for Living rooms with free cushions\",\n",
       " 'Folding Bed - Blue & Red(Baby Size),Folding Chapai',\n",
       " 'IMPORTED MANUAL/ELECTRIC RECLINER SOFA WITH HEATING PAD AND VIBRATION FUNCTION',\n",
       " 'ELECTRIC RECLINER SOFA WITH HEATING & VIBRATION MASSAGE AND SIDE ARM STORAGE',\n",
       " 'Interwood Hester Sofa - Secure delivery + Free Installation',\n",
       " 'Interwood SOFA SERO (DARK BROWN) - Secure delivery + Free Installation',\n",
       " 'King Chinuti Bed, Iron Bed , Mughal Star Steel Furniture',\n",
       " 'Bunk Bed/ Iron Bed/ Tow Story Bed/ Mughal Star Steel Furniture']"
      ]
     },
     "execution_count": 10,
     "metadata": {},
     "output_type": "execute_result"
    }
   ],
   "source": [
    "names_list"
   ]
  },
  {
   "cell_type": "markdown",
   "id": "cdb163d2",
   "metadata": {},
   "source": [
    "## Scraping Reviews"
   ]
  },
  {
   "cell_type": "code",
   "execution_count": 13,
   "id": "0fc8c871",
   "metadata": {},
   "outputs": [],
   "source": [
    "xpath_reviews = '//*[@id=\"root\"]/div/div[2]/div/div/div[1]/div[2]/div/div/div/div[2]/div[5]/div'\n",
    "reviews =  driver.find_elements(By.XPATH,xpath_reviews)"
   ]
  },
  {
   "cell_type": "code",
   "execution_count": 14,
   "id": "221a7de0",
   "metadata": {},
   "outputs": [
    {
     "data": {
      "text/plain": [
       "40"
      ]
     },
     "execution_count": 14,
     "metadata": {},
     "output_type": "execute_result"
    }
   ],
   "source": [
    "len(reviews)"
   ]
  },
  {
   "cell_type": "code",
   "execution_count": null,
   "id": "7884bfc0",
   "metadata": {},
   "outputs": [],
   "source": []
  },
  {
   "cell_type": "code",
   "execution_count": 15,
   "id": "f06661d3",
   "metadata": {},
   "outputs": [
    {
     "name": "stdout",
     "output_type": "stream",
     "text": [
      "(13)\n",
      "(55)\n",
      "(15)\n",
      "(75)\n",
      "(35)\n",
      "(38)\n",
      "(12)\n",
      "(89)\n",
      "(187)\n",
      "(11)\n",
      "(80)\n",
      "(14)\n",
      "(10)\n",
      "(12)\n",
      "(12)\n",
      "(13)\n",
      "(296)\n",
      "(17)\n",
      "(13)\n",
      "(18)\n",
      "(17)\n",
      "(18)\n",
      "(24)\n",
      "(22)\n",
      "(11)\n",
      "(55)\n",
      "(20)\n",
      "(14)\n",
      "(20)\n",
      "(26)\n",
      "(31)\n",
      "(20)\n",
      "(46)\n",
      "(17)\n",
      "(20)\n",
      "(13)\n",
      "(12)\n",
      "(21)\n",
      "(12)\n",
      "(21)\n"
     ]
    }
   ],
   "source": [
    "for i in reviews:\n",
    "    print(i.text)"
   ]
  },
  {
   "cell_type": "markdown",
   "id": "02ff7919",
   "metadata": {},
   "source": [
    "### but what we there is no review present in any box such as the promotion boxes have no reviews"
   ]
  },
  {
   "cell_type": "markdown",
   "id": "07366db7",
   "metadata": {},
   "source": [
    "### For that we will use the try and catch and put that in a list"
   ]
  },
  {
   "cell_type": "code",
   "execution_count": null,
   "id": "6bb9e4d4",
   "metadata": {},
   "outputs": [],
   "source": [
    "# product_box = 'class name'\n",
    "# no_of_reviews = driver.find_elements(By.CLASS_NAME,product_box)\n",
    "\n",
    "# no_of_reviews_list = []\n",
    "# for i in no_of_reviews:\n",
    "#     try:\n",
    "#         n_o_r = i.find_element(By.CLASS_NAME,'class Name')\n",
    "#         no_of_reviews_list.append(n_o_r.text)\n",
    "#         except:\n",
    "#             no_of_reviews_list.append('Not available')"
   ]
  },
  {
   "cell_type": "code",
   "execution_count": null,
   "id": "8bc35473",
   "metadata": {},
   "outputs": [],
   "source": []
  },
  {
   "cell_type": "code",
   "execution_count": null,
   "id": "8102aad9",
   "metadata": {},
   "outputs": [],
   "source": []
  },
  {
   "cell_type": "markdown",
   "id": "b8832660",
   "metadata": {},
   "source": [
    "# shipping status"
   ]
  },
  {
   "cell_type": "code",
   "execution_count": 16,
   "id": "3cb9f74e",
   "metadata": {},
   "outputs": [],
   "source": [
    "free_shipping_xpath = '//*[@id=\"root\"]/div/div[2]/div/div/div[1]/div[2]/div/div/div/div[2]/div[5]/span'\n",
    "free_shipping = driver.find_elements(By.XPATH,free_shipping_xpath)"
   ]
  },
  {
   "cell_type": "code",
   "execution_count": 18,
   "id": "2e4f1eee",
   "metadata": {},
   "outputs": [
    {
     "data": {
      "text/plain": [
       "40"
      ]
     },
     "execution_count": 18,
     "metadata": {},
     "output_type": "execute_result"
    }
   ],
   "source": [
    "len(free_shipping)"
   ]
  },
  {
   "cell_type": "code",
   "execution_count": 19,
   "id": "5b81893a",
   "metadata": {},
   "outputs": [],
   "source": [
    "free_shipping_list = []\n",
    "for i in free_shipping:\n",
    "    if i.text == 'Free Shipping':\n",
    "        free_shipping_list.append('Free')\n",
    "    else:\n",
    "        free_shipping_list.append('Paid')"
   ]
  },
  {
   "cell_type": "code",
   "execution_count": 20,
   "id": "12b124d5",
   "metadata": {},
   "outputs": [
    {
     "data": {
      "text/plain": [
       "['Paid',\n",
       " 'Paid',\n",
       " 'Paid',\n",
       " 'Paid',\n",
       " 'Paid',\n",
       " 'Paid',\n",
       " 'Paid',\n",
       " 'Paid',\n",
       " 'Paid',\n",
       " 'Paid',\n",
       " 'Paid',\n",
       " 'Paid',\n",
       " 'Paid',\n",
       " 'Paid',\n",
       " 'Free',\n",
       " 'Paid',\n",
       " 'Free',\n",
       " 'Paid',\n",
       " 'Paid',\n",
       " 'Paid',\n",
       " 'Free',\n",
       " 'Paid',\n",
       " 'Paid',\n",
       " 'Paid',\n",
       " 'Paid',\n",
       " 'Paid',\n",
       " 'Paid',\n",
       " 'Paid',\n",
       " 'Paid',\n",
       " 'Free',\n",
       " 'Free',\n",
       " 'Paid',\n",
       " 'Free',\n",
       " 'Paid',\n",
       " 'Paid',\n",
       " 'Free',\n",
       " 'Paid',\n",
       " 'Paid',\n",
       " 'Paid',\n",
       " 'Paid']"
      ]
     },
     "execution_count": 20,
     "metadata": {},
     "output_type": "execute_result"
    }
   ],
   "source": [
    "free_shipping_list"
   ]
  },
  {
   "cell_type": "code",
   "execution_count": null,
   "id": "cf274875",
   "metadata": {},
   "outputs": [],
   "source": []
  }
 ],
 "metadata": {
  "kernelspec": {
   "display_name": "Python 3 (ipykernel)",
   "language": "python",
   "name": "python3"
  },
  "language_info": {
   "codemirror_mode": {
    "name": "ipython",
    "version": 3
   },
   "file_extension": ".py",
   "mimetype": "text/x-python",
   "name": "python",
   "nbconvert_exporter": "python",
   "pygments_lexer": "ipython3",
   "version": "3.11.2"
  }
 },
 "nbformat": 4,
 "nbformat_minor": 5
}

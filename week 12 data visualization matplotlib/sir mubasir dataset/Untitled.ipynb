{
 "cells": [
  {
   "cell_type": "code",
   "execution_count": 1,
   "id": "c4436ed9",
   "metadata": {},
   "outputs": [],
   "source": [
    "import pandas as pd"
   ]
  },
  {
   "cell_type": "code",
   "execution_count": 2,
   "id": "61f789a1",
   "metadata": {},
   "outputs": [],
   "source": [
    "df = pd.read_csv('traffic.csv')"
   ]
  },
  {
   "cell_type": "code",
   "execution_count": 3,
   "id": "36eba5e8",
   "metadata": {},
   "outputs": [
    {
     "data": {
      "text/html": [
       "<div>\n",
       "<style scoped>\n",
       "    .dataframe tbody tr th:only-of-type {\n",
       "        vertical-align: middle;\n",
       "    }\n",
       "\n",
       "    .dataframe tbody tr th {\n",
       "        vertical-align: top;\n",
       "    }\n",
       "\n",
       "    .dataframe thead th {\n",
       "        text-align: right;\n",
       "    }\n",
       "</style>\n",
       "<table border=\"1\" class=\"dataframe\">\n",
       "  <thead>\n",
       "    <tr style=\"text-align: right;\">\n",
       "      <th></th>\n",
       "      <th>Hour (Coded);Immobilized bus;Broken Truck;Vehicle excess;Accident victim;Running over;Fire vehicles;Occurrence involving freight;Incident involving dangerous freight;Lack of electricity;Fire;Point of flooding;Manifestations;Defect in the network of trolleybuses;Tree on the road;Semaphore off;Intermittent Semaphore;Slowness in traffic (%)</th>\n",
       "    </tr>\n",
       "  </thead>\n",
       "  <tbody>\n",
       "    <tr>\n",
       "      <th>1;0;0;0;0;0;0;0;0;0;0;0;0;0;0;0;0;4</th>\n",
       "      <td>1.0</td>\n",
       "    </tr>\n",
       "    <tr>\n",
       "      <th>2;0;0;0;0;0;0;0;0;0;0;0;0;0;0;0;0;6</th>\n",
       "      <td>6.0</td>\n",
       "    </tr>\n",
       "    <tr>\n",
       "      <th>3;0;0;0;0;0;0;0;0;0;0;0;0;0;0;0;0;8</th>\n",
       "      <td>7.0</td>\n",
       "    </tr>\n",
       "    <tr>\n",
       "      <th>4;0;0;0;0;0;0;0;0;0;0;0;0;0;0;0;0;9</th>\n",
       "      <td>2.0</td>\n",
       "    </tr>\n",
       "    <tr>\n",
       "      <th>5;0;0;0;0;0;0;0;0;0;0;0;0;0;0;0;0;11</th>\n",
       "      <td>1.0</td>\n",
       "    </tr>\n",
       "    <tr>\n",
       "      <th>...</th>\n",
       "      <td>...</td>\n",
       "    </tr>\n",
       "    <tr>\n",
       "      <th>23;1;0;0;0;1;0;0;0;0;0;0;0;1;0;0;0;17</th>\n",
       "      <td>8.0</td>\n",
       "    </tr>\n",
       "    <tr>\n",
       "      <th>24;0;0;0;2;0;0;0;0;0;0;0;0;0;0;0;0;18</th>\n",
       "      <td>1.0</td>\n",
       "    </tr>\n",
       "    <tr>\n",
       "      <th>25;1;0;0;2;0;0;0;0;0;0;0;0;0;0;0;0;17</th>\n",
       "      <td>7.0</td>\n",
       "    </tr>\n",
       "    <tr>\n",
       "      <th>26;0;4;0;0;0;0;0;0;0;0;0;1;0;0;1;0;17</th>\n",
       "      <td>4.0</td>\n",
       "    </tr>\n",
       "    <tr>\n",
       "      <th>27;0;0;0;0;0;0;0;0;0;0;0;0;0;0;0;0;12</th>\n",
       "      <td>1.0</td>\n",
       "    </tr>\n",
       "  </tbody>\n",
       "</table>\n",
       "<p>135 rows × 1 columns</p>\n",
       "</div>"
      ],
      "text/plain": [
       "                                       Hour (Coded);Immobilized bus;Broken Truck;Vehicle excess;Accident victim;Running over;Fire vehicles;Occurrence involving freight;Incident involving dangerous freight;Lack of electricity;Fire;Point of flooding;Manifestations;Defect in the network of trolleybuses;Tree on the road;Semaphore off;Intermittent Semaphore;Slowness in traffic (%)\n",
       "1;0;0;0;0;0;0;0;0;0;0;0;0;0;0;0;0;4                                                  1.0                                                                                                                                                                                                                                                                                                  \n",
       "2;0;0;0;0;0;0;0;0;0;0;0;0;0;0;0;0;6                                                  6.0                                                                                                                                                                                                                                                                                                  \n",
       "3;0;0;0;0;0;0;0;0;0;0;0;0;0;0;0;0;8                                                  7.0                                                                                                                                                                                                                                                                                                  \n",
       "4;0;0;0;0;0;0;0;0;0;0;0;0;0;0;0;0;9                                                  2.0                                                                                                                                                                                                                                                                                                  \n",
       "5;0;0;0;0;0;0;0;0;0;0;0;0;0;0;0;0;11                                                 1.0                                                                                                                                                                                                                                                                                                  \n",
       "...                                                                                  ...                                                                                                                                                                                                                                                                                                  \n",
       "23;1;0;0;0;1;0;0;0;0;0;0;0;1;0;0;0;17                                                8.0                                                                                                                                                                                                                                                                                                  \n",
       "24;0;0;0;2;0;0;0;0;0;0;0;0;0;0;0;0;18                                                1.0                                                                                                                                                                                                                                                                                                  \n",
       "25;1;0;0;2;0;0;0;0;0;0;0;0;0;0;0;0;17                                                7.0                                                                                                                                                                                                                                                                                                  \n",
       "26;0;4;0;0;0;0;0;0;0;0;0;1;0;0;1;0;17                                                4.0                                                                                                                                                                                                                                                                                                  \n",
       "27;0;0;0;0;0;0;0;0;0;0;0;0;0;0;0;0;12                                                1.0                                                                                                                                                                                                                                                                                                  \n",
       "\n",
       "[135 rows x 1 columns]"
      ]
     },
     "execution_count": 3,
     "metadata": {},
     "output_type": "execute_result"
    }
   ],
   "source": [
    "df"
   ]
  },
  {
   "cell_type": "code",
   "execution_count": null,
   "id": "b8416f82",
   "metadata": {},
   "outputs": [],
   "source": []
  }
 ],
 "metadata": {
  "kernelspec": {
   "display_name": "Python 3 (ipykernel)",
   "language": "python",
   "name": "python3"
  },
  "language_info": {
   "codemirror_mode": {
    "name": "ipython",
    "version": 3
   },
   "file_extension": ".py",
   "mimetype": "text/x-python",
   "name": "python",
   "nbconvert_exporter": "python",
   "pygments_lexer": "ipython3",
   "version": "3.9.12"
  }
 },
 "nbformat": 4,
 "nbformat_minor": 5
}

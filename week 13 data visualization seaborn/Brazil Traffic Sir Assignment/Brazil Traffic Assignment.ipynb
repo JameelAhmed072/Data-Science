{
 "cells": [
  {
   "cell_type": "markdown",
   "id": "e0250b2c",
   "metadata": {},
   "source": [
    "# Assignment"
   ]
  },
  {
   "cell_type": "raw",
   "id": "d8ec9027",
   "metadata": {},
   "source": [
    "1) Hour Codes Nikalo 7:00 , 7:30 , 8:00  etc\n",
    "\n",
    "2) Ek Column Banao Day Ka Day Name Ajaye Monday , Tuesday etc\n",
    "\n",
    "3) Ek Dictionary banao e.g :\n",
    "\n",
    "tarffic_wrt_days = { \"Monday\" :  monday wala df ,\n",
    "                     \"Tuesday\" : tuesday wala df }\n",
    "                     \n",
    "tarffic_wrt_days[\"Monday\"] pora monday ka df ajaye\n",
    "\n",
    "4) Plot Line graphs\n",
    "\n",
    "x axis = Day for example Monday , Tuesday , Wednesday\n",
    "y axis = Slowness In Traffic\n",
    "\n",
    "Pehle har din ka alag alag graph\n",
    "Second ek hi graph pr saray\n",
    "\n",
    "with proper title , labeling , legend etc"
   ]
  },
  {
   "cell_type": "code",
   "execution_count": 1,
   "id": "fc3dcd4e",
   "metadata": {},
   "outputs": [],
   "source": [
    "import pandas as pd\n",
    "import matplotlib.pyplot as plt"
   ]
  },
  {
   "cell_type": "code",
   "execution_count": 2,
   "id": "56a3f930",
   "metadata": {},
   "outputs": [],
   "source": [
    "traffic = pd.read_csv(\"traffic.csv\", sep=\";\")"
   ]
  },
  {
   "cell_type": "code",
   "execution_count": 3,
   "id": "bad71d4a",
   "metadata": {},
   "outputs": [],
   "source": [
    "traffic[\"Slowness in traffic (%)\"] = \\\n",
    "traffic[\"Slowness in traffic (%)\"].str.replace(\",\",\".\").astype(float)"
   ]
  },
  {
   "cell_type": "markdown",
   "id": "6c11072f",
   "metadata": {},
   "source": [
    "# 1"
   ]
  },
  {
   "cell_type": "code",
   "execution_count": 4,
   "id": "c91a2322",
   "metadata": {},
   "outputs": [],
   "source": [
    "hour_code = range(1,28)"
   ]
  },
  {
   "cell_type": "code",
   "execution_count": 5,
   "id": "5392cb01",
   "metadata": {},
   "outputs": [
    {
     "name": "stdout",
     "output_type": "stream",
     "text": [
      "7:00\n",
      "8:30\n",
      "8:00\n",
      "9:30\n",
      "9:00\n",
      "10:30\n",
      "10:00\n",
      "11:30\n",
      "11:00\n",
      "12:30\n",
      "12:00\n",
      "13:30\n",
      "13:00\n",
      "14:30\n",
      "14:00\n",
      "15:30\n",
      "15:00\n",
      "16:30\n",
      "16:00\n",
      "17:30\n",
      "17:00\n",
      "18:30\n",
      "18:00\n",
      "19:30\n",
      "19:00\n",
      "20:30\n",
      "20:00\n"
     ]
    }
   ],
   "source": [
    "time = 7\n",
    "\n",
    "for i in hour_code:\n",
    "    \n",
    "    if i%2 != 0:\n",
    "        print(str(time) + \":00\")\n",
    "        time += 1\n",
    "    \n",
    "    else:\n",
    "        print(str(time) + \":30\")"
   ]
  },
  {
   "cell_type": "markdown",
   "id": "767e6f54",
   "metadata": {},
   "source": [
    "# 2 "
   ]
  },
  {
   "cell_type": "code",
   "execution_count": 6,
   "id": "3029a081",
   "metadata": {},
   "outputs": [
    {
     "data": {
      "text/plain": [
       "['Monday',\n",
       " 'Monday',\n",
       " 'Monday',\n",
       " 'Monday',\n",
       " 'Monday',\n",
       " 'Monday',\n",
       " 'Monday',\n",
       " 'Monday',\n",
       " 'Monday',\n",
       " 'Monday',\n",
       " 'Monday',\n",
       " 'Monday',\n",
       " 'Monday',\n",
       " 'Monday',\n",
       " 'Monday',\n",
       " 'Monday',\n",
       " 'Monday',\n",
       " 'Monday',\n",
       " 'Monday',\n",
       " 'Monday',\n",
       " 'Monday',\n",
       " 'Monday',\n",
       " 'Monday',\n",
       " 'Monday',\n",
       " 'Monday',\n",
       " 'Monday',\n",
       " 'Monday',\n",
       " 'Tuesday',\n",
       " 'Tuesday',\n",
       " 'Tuesday',\n",
       " 'Tuesday',\n",
       " 'Tuesday',\n",
       " 'Tuesday',\n",
       " 'Tuesday',\n",
       " 'Tuesday',\n",
       " 'Tuesday',\n",
       " 'Tuesday',\n",
       " 'Tuesday',\n",
       " 'Tuesday',\n",
       " 'Tuesday',\n",
       " 'Tuesday',\n",
       " 'Tuesday',\n",
       " 'Tuesday',\n",
       " 'Tuesday',\n",
       " 'Tuesday',\n",
       " 'Tuesday',\n",
       " 'Tuesday',\n",
       " 'Tuesday',\n",
       " 'Tuesday',\n",
       " 'Tuesday',\n",
       " 'Tuesday',\n",
       " 'Tuesday',\n",
       " 'Tuesday',\n",
       " 'Tuesday',\n",
       " 'Wednesday',\n",
       " 'Wednesday',\n",
       " 'Wednesday',\n",
       " 'Wednesday',\n",
       " 'Wednesday',\n",
       " 'Wednesday',\n",
       " 'Wednesday',\n",
       " 'Wednesday',\n",
       " 'Wednesday',\n",
       " 'Wednesday',\n",
       " 'Wednesday',\n",
       " 'Wednesday',\n",
       " 'Wednesday',\n",
       " 'Wednesday',\n",
       " 'Wednesday',\n",
       " 'Wednesday',\n",
       " 'Wednesday',\n",
       " 'Wednesday',\n",
       " 'Wednesday',\n",
       " 'Wednesday',\n",
       " 'Wednesday',\n",
       " 'Wednesday',\n",
       " 'Wednesday',\n",
       " 'Wednesday',\n",
       " 'Wednesday',\n",
       " 'Wednesday',\n",
       " 'Wednesday',\n",
       " 'Thursday',\n",
       " 'Thursday',\n",
       " 'Thursday',\n",
       " 'Thursday',\n",
       " 'Thursday',\n",
       " 'Thursday',\n",
       " 'Thursday',\n",
       " 'Thursday',\n",
       " 'Thursday',\n",
       " 'Thursday',\n",
       " 'Thursday',\n",
       " 'Thursday',\n",
       " 'Thursday',\n",
       " 'Thursday',\n",
       " 'Thursday',\n",
       " 'Thursday',\n",
       " 'Thursday',\n",
       " 'Thursday',\n",
       " 'Thursday',\n",
       " 'Thursday',\n",
       " 'Thursday',\n",
       " 'Thursday',\n",
       " 'Thursday',\n",
       " 'Thursday',\n",
       " 'Thursday',\n",
       " 'Thursday',\n",
       " 'Thursday',\n",
       " 'Friday',\n",
       " 'Friday',\n",
       " 'Friday',\n",
       " 'Friday',\n",
       " 'Friday',\n",
       " 'Friday',\n",
       " 'Friday',\n",
       " 'Friday',\n",
       " 'Friday',\n",
       " 'Friday',\n",
       " 'Friday',\n",
       " 'Friday',\n",
       " 'Friday',\n",
       " 'Friday',\n",
       " 'Friday',\n",
       " 'Friday',\n",
       " 'Friday',\n",
       " 'Friday',\n",
       " 'Friday',\n",
       " 'Friday',\n",
       " 'Friday',\n",
       " 'Friday',\n",
       " 'Friday',\n",
       " 'Friday',\n",
       " 'Friday',\n",
       " 'Friday',\n",
       " 'Friday']"
      ]
     },
     "execution_count": 6,
     "metadata": {},
     "output_type": "execute_result"
    }
   ],
   "source": [
    "new_col = []\n",
    "\n",
    "for i in [\"Monday\" , \"Tuesday\" , \"Wednesday\" , \"Thursday\" , \"Friday\"]:\n",
    "    \n",
    "    for j in range(1,28):\n",
    "        new_col.append(i)\n",
    "        \n",
    "new_col"
   ]
  },
  {
   "cell_type": "code",
   "execution_count": 7,
   "id": "890f5b3a",
   "metadata": {},
   "outputs": [
    {
     "data": {
      "text/plain": [
       "135"
      ]
     },
     "execution_count": 7,
     "metadata": {},
     "output_type": "execute_result"
    }
   ],
   "source": [
    "len(new_col)"
   ]
  },
  {
   "cell_type": "code",
   "execution_count": 8,
   "id": "0cdde69c",
   "metadata": {},
   "outputs": [],
   "source": [
    "new_col = pd.Series(new_col)"
   ]
  },
  {
   "cell_type": "code",
   "execution_count": 9,
   "id": "503baace",
   "metadata": {},
   "outputs": [
    {
     "data": {
      "text/plain": [
       "0      Monday\n",
       "1      Monday\n",
       "2      Monday\n",
       "3      Monday\n",
       "4      Monday\n",
       "        ...  \n",
       "130    Friday\n",
       "131    Friday\n",
       "132    Friday\n",
       "133    Friday\n",
       "134    Friday\n",
       "Length: 135, dtype: object"
      ]
     },
     "execution_count": 9,
     "metadata": {},
     "output_type": "execute_result"
    }
   ],
   "source": [
    "new_col"
   ]
  },
  {
   "cell_type": "markdown",
   "id": "b1ad1b73",
   "metadata": {},
   "source": [
    "# 3"
   ]
  },
  {
   "cell_type": "code",
   "execution_count": 10,
   "id": "7f7cea7f",
   "metadata": {},
   "outputs": [
    {
     "data": {
      "text/plain": [
       "(135, 18)"
      ]
     },
     "execution_count": 10,
     "metadata": {},
     "output_type": "execute_result"
    }
   ],
   "source": [
    "traffic.shape\n",
    "\n",
    "# output means 135 rows and 18 columns"
   ]
  },
  {
   "cell_type": "code",
   "execution_count": 11,
   "id": "e9ec7e75",
   "metadata": {},
   "outputs": [
    {
     "name": "stdout",
     "output_type": "stream",
     "text": [
      "0\n",
      "27\n",
      "54\n",
      "81\n",
      "108\n"
     ]
    }
   ],
   "source": [
    "for i in range(0,135,27):\n",
    "    print(i)"
   ]
  },
  {
   "cell_type": "code",
   "execution_count": 12,
   "id": "5454d619",
   "metadata": {},
   "outputs": [
    {
     "name": "stdout",
     "output_type": "stream",
     "text": [
      "0 27\n",
      "27 54\n",
      "54 81\n",
      "81 108\n",
      "108 135\n"
     ]
    }
   ],
   "source": [
    "for i in range(0,135,27):\n",
    "    print(i, i+27)"
   ]
  },
  {
   "cell_type": "code",
   "execution_count": 13,
   "id": "2a6d847f",
   "metadata": {},
   "outputs": [
    {
     "name": "stdout",
     "output_type": "stream",
     "text": [
      "Monday  ----->  0  to  27\n",
      "Tuesday  ----->  27  to  54\n",
      "Wednesday  ----->  54  to  81\n",
      "Thursday  ----->  81  to  108\n",
      "Friday  ----->  108  to  135\n"
     ]
    }
   ],
   "source": [
    "days = [\"Monday\",\"Tuesday\",\"Wednesday\",\"Thursday\",\"Friday\"]\n",
    "\n",
    "for i, day in zip(range(0,135,27), days):\n",
    "    print(day, \" -----> \" , i , \" to \" , i+27)"
   ]
  },
  {
   "cell_type": "code",
   "execution_count": 14,
   "id": "b8852e92",
   "metadata": {},
   "outputs": [],
   "source": [
    "days = [\"Monday\",\"Tuesday\",\"Wednesday\",\"Thursday\",\"Friday\"]\n",
    "traffic_per_day = {}\n",
    "\n",
    "for i, day in zip(range(0,135,27), days):\n",
    "    traffic_per_day[day] = traffic.iloc[i:i+27]\n",
    "#     print(day, i, i+27)"
   ]
  },
  {
   "cell_type": "code",
   "execution_count": 20,
   "id": "98431322",
   "metadata": {},
   "outputs": [],
   "source": [
    "# traffic.iloc[1:28]"
   ]
  },
  {
   "cell_type": "code",
   "execution_count": 15,
   "id": "8604c357",
   "metadata": {},
   "outputs": [
    {
     "data": {
      "text/html": [
       "<div>\n",
       "<style scoped>\n",
       "    .dataframe tbody tr th:only-of-type {\n",
       "        vertical-align: middle;\n",
       "    }\n",
       "\n",
       "    .dataframe tbody tr th {\n",
       "        vertical-align: top;\n",
       "    }\n",
       "\n",
       "    .dataframe thead th {\n",
       "        text-align: right;\n",
       "    }\n",
       "</style>\n",
       "<table border=\"1\" class=\"dataframe\">\n",
       "  <thead>\n",
       "    <tr style=\"text-align: right;\">\n",
       "      <th></th>\n",
       "      <th>Hour (Coded)</th>\n",
       "      <th>Immobilized bus</th>\n",
       "      <th>Broken Truck</th>\n",
       "      <th>Vehicle excess</th>\n",
       "      <th>Accident victim</th>\n",
       "      <th>Running over</th>\n",
       "      <th>Fire vehicles</th>\n",
       "      <th>Occurrence involving freight</th>\n",
       "      <th>Incident involving dangerous freight</th>\n",
       "      <th>Lack of electricity</th>\n",
       "      <th>Fire</th>\n",
       "      <th>Point of flooding</th>\n",
       "      <th>Manifestations</th>\n",
       "      <th>Defect in the network of trolleybuses</th>\n",
       "      <th>Tree on the road</th>\n",
       "      <th>Semaphore off</th>\n",
       "      <th>Intermittent Semaphore</th>\n",
       "      <th>Slowness in traffic (%)</th>\n",
       "    </tr>\n",
       "  </thead>\n",
       "  <tbody>\n",
       "    <tr>\n",
       "      <th>108</th>\n",
       "      <td>1</td>\n",
       "      <td>0</td>\n",
       "      <td>0</td>\n",
       "      <td>0</td>\n",
       "      <td>1</td>\n",
       "      <td>0</td>\n",
       "      <td>0</td>\n",
       "      <td>0</td>\n",
       "      <td>0</td>\n",
       "      <td>0</td>\n",
       "      <td>0</td>\n",
       "      <td>0</td>\n",
       "      <td>0</td>\n",
       "      <td>8</td>\n",
       "      <td>0</td>\n",
       "      <td>1</td>\n",
       "      <td>0</td>\n",
       "      <td>3.4</td>\n",
       "    </tr>\n",
       "    <tr>\n",
       "      <th>109</th>\n",
       "      <td>2</td>\n",
       "      <td>0</td>\n",
       "      <td>0</td>\n",
       "      <td>0</td>\n",
       "      <td>0</td>\n",
       "      <td>0</td>\n",
       "      <td>0</td>\n",
       "      <td>0</td>\n",
       "      <td>0</td>\n",
       "      <td>0</td>\n",
       "      <td>0</td>\n",
       "      <td>0</td>\n",
       "      <td>0</td>\n",
       "      <td>1</td>\n",
       "      <td>0</td>\n",
       "      <td>0</td>\n",
       "      <td>0</td>\n",
       "      <td>5.0</td>\n",
       "    </tr>\n",
       "    <tr>\n",
       "      <th>110</th>\n",
       "      <td>3</td>\n",
       "      <td>0</td>\n",
       "      <td>1</td>\n",
       "      <td>0</td>\n",
       "      <td>0</td>\n",
       "      <td>0</td>\n",
       "      <td>0</td>\n",
       "      <td>0</td>\n",
       "      <td>0</td>\n",
       "      <td>0</td>\n",
       "      <td>0</td>\n",
       "      <td>0</td>\n",
       "      <td>0</td>\n",
       "      <td>0</td>\n",
       "      <td>0</td>\n",
       "      <td>0</td>\n",
       "      <td>0</td>\n",
       "      <td>5.5</td>\n",
       "    </tr>\n",
       "    <tr>\n",
       "      <th>111</th>\n",
       "      <td>4</td>\n",
       "      <td>1</td>\n",
       "      <td>1</td>\n",
       "      <td>0</td>\n",
       "      <td>1</td>\n",
       "      <td>1</td>\n",
       "      <td>0</td>\n",
       "      <td>0</td>\n",
       "      <td>0</td>\n",
       "      <td>0</td>\n",
       "      <td>0</td>\n",
       "      <td>0</td>\n",
       "      <td>0</td>\n",
       "      <td>1</td>\n",
       "      <td>0</td>\n",
       "      <td>0</td>\n",
       "      <td>0</td>\n",
       "      <td>6.4</td>\n",
       "    </tr>\n",
       "    <tr>\n",
       "      <th>112</th>\n",
       "      <td>5</td>\n",
       "      <td>0</td>\n",
       "      <td>2</td>\n",
       "      <td>0</td>\n",
       "      <td>0</td>\n",
       "      <td>0</td>\n",
       "      <td>0</td>\n",
       "      <td>0</td>\n",
       "      <td>0</td>\n",
       "      <td>0</td>\n",
       "      <td>0</td>\n",
       "      <td>0</td>\n",
       "      <td>0</td>\n",
       "      <td>2</td>\n",
       "      <td>1</td>\n",
       "      <td>0</td>\n",
       "      <td>0</td>\n",
       "      <td>8.2</td>\n",
       "    </tr>\n",
       "  </tbody>\n",
       "</table>\n",
       "</div>"
      ],
      "text/plain": [
       "     Hour (Coded)  Immobilized bus  Broken Truck  Vehicle excess  \\\n",
       "108             1                0             0               0   \n",
       "109             2                0             0               0   \n",
       "110             3                0             1               0   \n",
       "111             4                1             1               0   \n",
       "112             5                0             2               0   \n",
       "\n",
       "     Accident victim  Running over  Fire vehicles  \\\n",
       "108                1             0              0   \n",
       "109                0             0              0   \n",
       "110                0             0              0   \n",
       "111                1             1              0   \n",
       "112                0             0              0   \n",
       "\n",
       "     Occurrence involving freight  Incident involving dangerous freight  \\\n",
       "108                             0                                     0   \n",
       "109                             0                                     0   \n",
       "110                             0                                     0   \n",
       "111                             0                                     0   \n",
       "112                             0                                     0   \n",
       "\n",
       "     Lack of electricity  Fire  Point of flooding  Manifestations  \\\n",
       "108                    0     0                  0               0   \n",
       "109                    0     0                  0               0   \n",
       "110                    0     0                  0               0   \n",
       "111                    0     0                  0               0   \n",
       "112                    0     0                  0               0   \n",
       "\n",
       "     Defect in the network of trolleybuses  Tree on the road  Semaphore off  \\\n",
       "108                                      8                 0              1   \n",
       "109                                      1                 0              0   \n",
       "110                                      0                 0              0   \n",
       "111                                      1                 0              0   \n",
       "112                                      2                 1              0   \n",
       "\n",
       "     Intermittent Semaphore  Slowness in traffic (%)  \n",
       "108                       0                      3.4  \n",
       "109                       0                      5.0  \n",
       "110                       0                      5.5  \n",
       "111                       0                      6.4  \n",
       "112                       0                      8.2  "
      ]
     },
     "execution_count": 15,
     "metadata": {},
     "output_type": "execute_result"
    }
   ],
   "source": [
    "traffic_per_day[\"Friday\"].head()"
   ]
  },
  {
   "cell_type": "markdown",
   "id": "99e7aa63",
   "metadata": {},
   "source": [
    "# 4"
   ]
  },
  {
   "cell_type": "code",
   "execution_count": 21,
   "id": "7a5dd494",
   "metadata": {},
   "outputs": [
    {
     "data": {
      "image/png": "[encoded data removed]",
      "text/plain": [
       "<Figure size 432x288 with 1 Axes>"
      ]
     },
     "metadata": {
      "needs_background": "light"
     },
     "output_type": "display_data"
    }
   ],
   "source": [
    "for day in days:\n",
    "    plt.plot(traffic_per_day[day][\"Hour (Coded)\"],traffic_per_day[day][\"Slowness in traffic (%)\"],\\\n",
    "            label = day)\n",
    "    \n",
    "plt.legend()\n",
    "plt.show()"
   ]
  },
  {
   "cell_type": "code",
   "execution_count": 17,
   "id": "40b923d8",
   "metadata": {},
   "outputs": [
    {
     "data": {
      "image/png": "[encoded data removed]",
      "text/plain": [
       "<Figure size 720x864 with 6 Axes>"
      ]
     },
     "metadata": {
      "needs_background": "light"
     },
     "output_type": "display_data"
    }
   ],
   "source": [
    "plt.figure(figsize=(10,12))\n",
    "\n",
    "for i, day in zip(range(1,6), days):\n",
    "    plt.subplot(3,2,i)\n",
    "    plt.plot(traffic_per_day[day][\"Hour (Coded)\"],traffic_per_day[day][\"Slowness in traffic (%)\"])\n",
    "    plt.ylim([0,25])\n",
    "    plt.title(day)\n",
    "\n",
    "plt.subplot(3,2,6)\n",
    "\n",
    "for day in days:\n",
    "    plt.plot(traffic_per_day[day][\"Hour (Coded)\"],traffic_per_day[day][\"Slowness in traffic (%)\"],\\\n",
    "            label = day)\n",
    "    plt.title(\"Multiple Ploting\")\n",
    "\n",
    "plt.legend()\n",
    "plt.show()"
   ]
  },
  {
   "cell_type": "code",
   "execution_count": null,
   "id": "2a795422",
   "metadata": {},
   "outputs": [],
   "source": []
  },
  {
   "cell_type": "code",
   "execution_count": null,
   "id": "683560b1",
   "metadata": {},
   "outputs": [],
   "source": []
  }
 ],
 "metadata": {
  "kernelspec": {
   "display_name": "Python 3 (ipykernel)",
   "language": "python",
   "name": "python3"
  },
  "language_info": {
   "codemirror_mode": {
    "name": "ipython",
    "version": 3
   },
   "file_extension": ".py",
   "mimetype": "text/x-python",
   "name": "python",
   "nbconvert_exporter": "python",
   "pygments_lexer": "ipython3",
   "version": "3.9.12"
  }
 },
 "nbformat": 4,
 "nbformat_minor": 5
}

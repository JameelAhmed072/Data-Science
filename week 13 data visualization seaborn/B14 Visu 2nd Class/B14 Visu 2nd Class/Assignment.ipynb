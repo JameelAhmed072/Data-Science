{
 "cells": [
  {
   "cell_type": "markdown",
   "id": "53322440",
   "metadata": {},
   "source": [
    "Assignment:\n",
    "\n",
    " 1) Hour Codes Nikalo 7:00 , 7:30 , 8:00  etc\n",
    "\n",
    "2) Ek Column Banao Day Ka Day Name Ajaye Monday , Tuesday etc\n",
    "\n",
    "3) Ek Dictionary banao e.g :\n",
    "\n",
    "tarffic_wrt_days = { \"Monday\" :  monday wala df ,\n",
    "                     \"Tuesday\" : tuesday wala df }\n",
    "                     \n",
    "tarffic_wrt_days[\"Monday\"] pora monday ka df ajaye\n",
    "\n",
    "4) Plot Line graphs\n",
    "\n",
    "x axis = Day for example Monday , Tuesday , Wednesday\n",
    "y axis = Slowness In Traffic\n",
    "\n",
    "Pehle har din ka alag alag graph\n",
    "Second ek hi graph pr saray\n",
    "\n",
    "with proper title , labeling , legend etc\n",
    "\n",
    "5) find reason for high occurence of slowness in traffic\n",
    "\n",
    "6) Outliers"
   ]
  },
  {
   "cell_type": "markdown",
   "id": "4337e122",
   "metadata": {},
   "source": [
    "# 1"
   ]
  },
  {
   "cell_type": "code",
   "execution_count": 1,
   "id": "cf09bef4",
   "metadata": {},
   "outputs": [
    {
     "name": "stdout",
     "output_type": "stream",
     "text": [
      "[1, 2, 3, 4, 5, 6, 7, 8, 9, 10, 11, 12, 13, 14, 15, 16, 17, 18, 19, 20, 21, 22, 23, 24, 25, 26, 27]\n"
     ]
    }
   ],
   "source": [
    "lst = range(1,28)\n",
    "\n",
    "print(list(lst))"
   ]
  },
  {
   "cell_type": "markdown",
   "id": "627460b2",
   "metadata": {},
   "source": [
    "# 3"
   ]
  },
  {
   "cell_type": "code",
   "execution_count": null,
   "id": "1cb81b40",
   "metadata": {},
   "outputs": [],
   "source": [
    "week_wise = {\"Monday\" : monday_df,\n",
    "            \"Tuesday\" : tuesday_df} "
   ]
  },
  {
   "cell_type": "code",
   "execution_count": null,
   "id": "4304bce3",
   "metadata": {},
   "outputs": [],
   "source": [
    "week_wise[\"Monday\"]"
   ]
  },
  {
   "cell_type": "code",
   "execution_count": null,
   "id": "df755789",
   "metadata": {},
   "outputs": [],
   "source": [
    "week_wise.keys()"
   ]
  }
 ],
 "metadata": {
  "kernelspec": {
   "display_name": "Python 3 (ipykernel)",
   "language": "python",
   "name": "python3"
  },
  "language_info": {
   "codemirror_mode": {
    "name": "ipython",
    "version": 3
   },
   "file_extension": ".py",
   "mimetype": "text/x-python",
   "name": "python",
   "nbconvert_exporter": "python",
   "pygments_lexer": "ipython3",
   "version": "3.9.12"
  }
 },
 "nbformat": 4,
 "nbformat_minor": 5
}

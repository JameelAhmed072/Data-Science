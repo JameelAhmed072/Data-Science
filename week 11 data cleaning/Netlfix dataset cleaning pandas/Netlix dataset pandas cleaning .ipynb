{
 "cells": [
  {
   "cell_type": "code",
   "execution_count": 1,
   "id": "a00ec10c",
   "metadata": {},
   "outputs": [],
   "source": [
    "import pandas as pd"
   ]
  },
  {
   "cell_type": "code",
   "execution_count": 2,
   "id": "44f17eb2",
   "metadata": {},
   "outputs": [],
   "source": [
    "df = pd.read_csv('Netflix.csv')"
   ]
  },
  {
   "cell_type": "code",
   "execution_count": 3,
   "id": "7c5de589",
   "metadata": {},
   "outputs": [
    {
     "data": {
      "text/html": [
       "<div>\n",
       "<style scoped>\n",
       "    .dataframe tbody tr th:only-of-type {\n",
       "        vertical-align: middle;\n",
       "    }\n",
       "\n",
       "    .dataframe tbody tr th {\n",
       "        vertical-align: top;\n",
       "    }\n",
       "\n",
       "    .dataframe thead th {\n",
       "        text-align: right;\n",
       "    }\n",
       "</style>\n",
       "<table border=\"1\" class=\"dataframe\">\n",
       "  <thead>\n",
       "    <tr style=\"text-align: right;\">\n",
       "      <th></th>\n",
       "      <th>type</th>\n",
       "      <th>title</th>\n",
       "      <th>date_added</th>\n",
       "      <th>release_year</th>\n",
       "      <th>rating</th>\n",
       "      <th>listed_in</th>\n",
       "    </tr>\n",
       "  </thead>\n",
       "  <tbody>\n",
       "    <tr>\n",
       "      <th>0</th>\n",
       "      <td>Movie</td>\n",
       "      <td>**Dick Johnson Is Dead**</td>\n",
       "      <td>9/25/2021</td>\n",
       "      <td>2020)</td>\n",
       "      <td>,?PG-13</td>\n",
       "      <td>Documentaries</td>\n",
       "    </tr>\n",
       "    <tr>\n",
       "      <th>1</th>\n",
       "      <td>TV Show</td>\n",
       "      <td>**Ganglands**</td>\n",
       "      <td>9/24/2021</td>\n",
       "      <td>2021C</td>\n",
       "      <td>,?TV-MA</td>\n",
       "      <td>Crime TV Shows, International TV Shows, TV Act...</td>\n",
       "    </tr>\n",
       "    <tr>\n",
       "      <th>2</th>\n",
       "      <td>TV Show</td>\n",
       "      <td>**Midnight Mass**</td>\n",
       "      <td>9/24/2021</td>\n",
       "      <td>2021c</td>\n",
       "      <td>,?TV-MA</td>\n",
       "      <td>TV Dramas, TV Horror, TV Mysteries</td>\n",
       "    </tr>\n",
       "    <tr>\n",
       "      <th>3</th>\n",
       "      <td>Movie</td>\n",
       "      <td>**Confessions of an Invisible Girl**</td>\n",
       "      <td>9/22/2021</td>\n",
       "      <td>2021</td>\n",
       "      <td>,?TV-PG</td>\n",
       "      <td>Children &amp; Family Movies, Comedies</td>\n",
       "    </tr>\n",
       "    <tr>\n",
       "      <th>4</th>\n",
       "      <td>Movie</td>\n",
       "      <td>**Sankofa**</td>\n",
       "      <td>9/24/2021</td>\n",
       "      <td>1993S</td>\n",
       "      <td>,?TV-MA</td>\n",
       "      <td>Dramas, Independent Movies, International Movies</td>\n",
       "    </tr>\n",
       "    <tr>\n",
       "      <th>...</th>\n",
       "      <td>...</td>\n",
       "      <td>...</td>\n",
       "      <td>...</td>\n",
       "      <td>...</td>\n",
       "      <td>...</td>\n",
       "      <td>...</td>\n",
       "    </tr>\n",
       "    <tr>\n",
       "      <th>3996</th>\n",
       "      <td>Movie</td>\n",
       "      <td>**One 2 Ka 4**</td>\n",
       "      <td>3/15/2017</td>\n",
       "      <td>2001S</td>\n",
       "      <td>,?TV-14</td>\n",
       "      <td>Action &amp; Adventure, Comedies, Dramas</td>\n",
       "    </tr>\n",
       "    <tr>\n",
       "      <th>3997</th>\n",
       "      <td>Movie</td>\n",
       "      <td>**Jim Norton: Mouthful of Shame**</td>\n",
       "      <td>3/14/2017</td>\n",
       "      <td>2017</td>\n",
       "      <td>,?TV-MA</td>\n",
       "      <td>Stand-Up Comedy</td>\n",
       "    </tr>\n",
       "    <tr>\n",
       "      <th>3998</th>\n",
       "      <td>Movie</td>\n",
       "      <td>**100 Meters**</td>\n",
       "      <td>03/10/2017</td>\n",
       "      <td>2016s</td>\n",
       "      <td>,?TV-MA</td>\n",
       "      <td>Dramas, International Movies, Sports Movies</td>\n",
       "    </tr>\n",
       "    <tr>\n",
       "      <th>3999</th>\n",
       "      <td>Movie</td>\n",
       "      <td>**Burning Sands**</td>\n",
       "      <td>03/10/2017</td>\n",
       "      <td>2017s</td>\n",
       "      <td>,?TV-MA</td>\n",
       "      <td>Dramas, Independent Movies</td>\n",
       "    </tr>\n",
       "    <tr>\n",
       "      <th>4000</th>\n",
       "      <td>Movie</td>\n",
       "      <td>**The Butterfly's Dream**</td>\n",
       "      <td>03/10/2017</td>\n",
       "      <td>2013</td>\n",
       "      <td>,?TV-PG</td>\n",
       "      <td>Dramas, International Movies, Romantic Movies</td>\n",
       "    </tr>\n",
       "  </tbody>\n",
       "</table>\n",
       "<p>4001 rows × 6 columns</p>\n",
       "</div>"
      ],
      "text/plain": [
       "         type                                 title  date_added release_year  \\\n",
       "0       Movie              **Dick Johnson Is Dead**   9/25/2021        2020)   \n",
       "1     TV Show                         **Ganglands**   9/24/2021        2021C   \n",
       "2     TV Show                     **Midnight Mass**   9/24/2021        2021c   \n",
       "3       Movie  **Confessions of an Invisible Girl**   9/22/2021         2021   \n",
       "4       Movie                           **Sankofa**   9/24/2021        1993S   \n",
       "...       ...                                   ...         ...          ...   \n",
       "3996    Movie                        **One 2 Ka 4**   3/15/2017        2001S   \n",
       "3997    Movie     **Jim Norton: Mouthful of Shame**   3/14/2017         2017   \n",
       "3998    Movie                        **100 Meters**  03/10/2017        2016s   \n",
       "3999    Movie                     **Burning Sands**  03/10/2017        2017s   \n",
       "4000    Movie             **The Butterfly's Dream**  03/10/2017         2013   \n",
       "\n",
       "       rating                                          listed_in  \n",
       "0     ,?PG-13                                      Documentaries  \n",
       "1     ,?TV-MA  Crime TV Shows, International TV Shows, TV Act...  \n",
       "2     ,?TV-MA                 TV Dramas, TV Horror, TV Mysteries  \n",
       "3     ,?TV-PG                 Children & Family Movies, Comedies  \n",
       "4     ,?TV-MA   Dramas, Independent Movies, International Movies  \n",
       "...       ...                                                ...  \n",
       "3996  ,?TV-14               Action & Adventure, Comedies, Dramas  \n",
       "3997  ,?TV-MA                                    Stand-Up Comedy  \n",
       "3998  ,?TV-MA        Dramas, International Movies, Sports Movies  \n",
       "3999  ,?TV-MA                         Dramas, Independent Movies  \n",
       "4000  ,?TV-PG      Dramas, International Movies, Romantic Movies  \n",
       "\n",
       "[4001 rows x 6 columns]"
      ]
     },
     "execution_count": 3,
     "metadata": {},
     "output_type": "execute_result"
    }
   ],
   "source": [
    "df"
   ]
  },
  {
   "cell_type": "code",
   "execution_count": 4,
   "id": "0e4e6267",
   "metadata": {},
   "outputs": [
    {
     "data": {
      "text/plain": [
       "(4001, 6)"
      ]
     },
     "execution_count": 4,
     "metadata": {},
     "output_type": "execute_result"
    }
   ],
   "source": [
    "df.shape"
   ]
  },
  {
   "cell_type": "code",
   "execution_count": 5,
   "id": "0c3ee842",
   "metadata": {},
   "outputs": [
    {
     "name": "stdout",
     "output_type": "stream",
     "text": [
      "<class 'pandas.core.frame.DataFrame'>\n",
      "RangeIndex: 4001 entries, 0 to 4000\n",
      "Data columns (total 6 columns):\n",
      " #   Column        Non-Null Count  Dtype \n",
      "---  ------        --------------  ----- \n",
      " 0   type          3934 non-null   object\n",
      " 1   title         4001 non-null   object\n",
      " 2   date_added    4001 non-null   object\n",
      " 3   release_year  4001 non-null   object\n",
      " 4   rating        4001 non-null   object\n",
      " 5   listed_in     4001 non-null   object\n",
      "dtypes: object(6)\n",
      "memory usage: 187.7+ KB\n"
     ]
    }
   ],
   "source": [
    "df.info()"
   ]
  },
  {
   "cell_type": "code",
   "execution_count": 6,
   "id": "b269ee19",
   "metadata": {},
   "outputs": [
    {
     "data": {
      "text/plain": [
       "Index(['type', 'title', 'date_added', 'release_year', 'rating', 'listed_in'], dtype='object')"
      ]
     },
     "execution_count": 6,
     "metadata": {},
     "output_type": "execute_result"
    }
   ],
   "source": [
    "df.columns"
   ]
  },
  {
   "cell_type": "code",
   "execution_count": 7,
   "id": "c084bede",
   "metadata": {},
   "outputs": [
    {
     "data": {
      "text/plain": [
       "type            object\n",
       "title           object\n",
       "date_added      object\n",
       "release_year    object\n",
       "rating          object\n",
       "listed_in       object\n",
       "dtype: object"
      ]
     },
     "execution_count": 7,
     "metadata": {},
     "output_type": "execute_result"
    }
   ],
   "source": [
    "df.dtypes\n"
   ]
  },
  {
   "cell_type": "code",
   "execution_count": 8,
   "id": "c22b376c",
   "metadata": {},
   "outputs": [
    {
     "data": {
      "text/plain": [
       "0                 **Dick Johnson Is Dead**\n",
       "1                            **Ganglands**\n",
       "2                        **Midnight Mass**\n",
       "3     **Confessions of an Invisible Girl**\n",
       "4                              **Sankofa**\n",
       "5        **The Great British Baking Show**\n",
       "6                         **The Starling**\n",
       "7      **Motu Patlu in the Game of Zones**\n",
       "8                         **Je Suis Karl**\n",
       "9             **Motu Patlu in Wonderland**\n",
       "10      **Motu Patlu: Deep Sea Adventure**\n",
       "11            **Motu Patlu: Mission Moon**\n",
       "12                    **99 Songs (Tamil)**\n",
       "13         **Bridgerton - The Afterparty**\n",
       "14       **Bling Empire - The Afterparty**\n",
       "15          **Cobra Kai - The Afterparty**\n",
       "16         **The Circle - The Afterparty**\n",
       "17               **Jailbirds New Orleans**\n",
       "18     **Crime Stories: India Detectives**\n",
       "19                 **True: Winter Wishes**\n",
       "Name: title, dtype: object"
      ]
     },
     "execution_count": 8,
     "metadata": {},
     "output_type": "execute_result"
    }
   ],
   "source": [
    "df['title'].head(20)"
   ]
  },
  {
   "cell_type": "code",
   "execution_count": 9,
   "id": "33ddcb5b",
   "metadata": {},
   "outputs": [],
   "source": [
    "# df['title'].str.replace('*','')\n",
    "# ------or--------- \n",
    "df['title'] = df['title'].str.strip('*')"
   ]
  },
  {
   "cell_type": "code",
   "execution_count": 10,
   "id": "2ac65554",
   "metadata": {},
   "outputs": [
    {
     "data": {
      "text/plain": [
       "Index(['type', 'title', 'date_added', 'release_year', 'rating', 'listed_in'], dtype='object')"
      ]
     },
     "execution_count": 10,
     "metadata": {},
     "output_type": "execute_result"
    }
   ],
   "source": [
    "df.columns"
   ]
  },
  {
   "cell_type": "code",
   "execution_count": 11,
   "id": "fdc52eb1",
   "metadata": {},
   "outputs": [
    {
     "data": {
      "text/html": [
       "<div>\n",
       "<style scoped>\n",
       "    .dataframe tbody tr th:only-of-type {\n",
       "        vertical-align: middle;\n",
       "    }\n",
       "\n",
       "    .dataframe tbody tr th {\n",
       "        vertical-align: top;\n",
       "    }\n",
       "\n",
       "    .dataframe thead th {\n",
       "        text-align: right;\n",
       "    }\n",
       "</style>\n",
       "<table border=\"1\" class=\"dataframe\">\n",
       "  <thead>\n",
       "    <tr style=\"text-align: right;\">\n",
       "      <th></th>\n",
       "      <th>type</th>\n",
       "      <th>title</th>\n",
       "      <th>date_added</th>\n",
       "      <th>release_year</th>\n",
       "      <th>rating</th>\n",
       "      <th>listed_in</th>\n",
       "    </tr>\n",
       "  </thead>\n",
       "  <tbody>\n",
       "    <tr>\n",
       "      <th>101</th>\n",
       "      <td>TV Show</td>\n",
       "      <td>Transformers: War for Cybertron: Kingdom</td>\n",
       "      <td>7/29/2021</td>\n",
       "      <td>2021C</td>\n",
       "      <td>,?TV-Y7</td>\n",
       "      <td>Anime Series</td>\n",
       "    </tr>\n",
       "  </tbody>\n",
       "</table>\n",
       "</div>"
      ],
      "text/plain": [
       "        type                                     title date_added  \\\n",
       "101  TV Show  Transformers: War for Cybertron: Kingdom  7/29/2021   \n",
       "\n",
       "    release_year   rating     listed_in  \n",
       "101        2021C  ,?TV-Y7  Anime Series  "
      ]
     },
     "execution_count": 11,
     "metadata": {},
     "output_type": "execute_result"
    }
   ],
   "source": [
    "df.sample()   # This will randomly select a row or a column or both"
   ]
  },
  {
   "cell_type": "code",
   "execution_count": 12,
   "id": "29f68e08",
   "metadata": {},
   "outputs": [
    {
     "name": "stdout",
     "output_type": "stream",
     "text": [
      "<class 'pandas.core.frame.DataFrame'>\n",
      "RangeIndex: 4001 entries, 0 to 4000\n",
      "Data columns (total 6 columns):\n",
      " #   Column        Non-Null Count  Dtype \n",
      "---  ------        --------------  ----- \n",
      " 0   type          3934 non-null   object\n",
      " 1   title         4001 non-null   object\n",
      " 2   date_added    4001 non-null   object\n",
      " 3   release_year  4001 non-null   object\n",
      " 4   rating        4001 non-null   object\n",
      " 5   listed_in     4001 non-null   object\n",
      "dtypes: object(6)\n",
      "memory usage: 187.7+ KB\n"
     ]
    }
   ],
   "source": [
    "df.info()"
   ]
  },
  {
   "cell_type": "code",
   "execution_count": 13,
   "id": "d370e401",
   "metadata": {},
   "outputs": [],
   "source": [
    "df['date_added'] = pd.to_datetime(df['date_added'],  format=\"%m/%d/%Y\")"
   ]
  },
  {
   "cell_type": "code",
   "execution_count": 14,
   "id": "09c1d75a",
   "metadata": {},
   "outputs": [
    {
     "data": {
      "text/plain": [
       "Int64Index([2021, 2021, 2021, 2021, 2021, 2021, 2021, 2021, 2021, 2021,\n",
       "            ...\n",
       "            2017, 2017, 2017, 2017, 2017, 2017, 2017, 2017, 2017, 2017],\n",
       "           dtype='int64', name='date_added', length=4001)"
      ]
     },
     "execution_count": 14,
     "metadata": {},
     "output_type": "execute_result"
    }
   ],
   "source": [
    "pd.DatetimeIndex(df['date_added']).year"
   ]
  },
  {
   "cell_type": "code",
   "execution_count": 15,
   "id": "2d3a0d6c",
   "metadata": {},
   "outputs": [
    {
     "data": {
      "text/plain": [
       "0       2020)\n",
       "1       2021C\n",
       "2       2021c\n",
       "3        2021\n",
       "4       1993S\n",
       "        ...  \n",
       "3996    2001S\n",
       "3997     2017\n",
       "3998    2016s\n",
       "3999    2017s\n",
       "4000     2013\n",
       "Name: release_year, Length: 4001, dtype: object"
      ]
     },
     "execution_count": 15,
     "metadata": {},
     "output_type": "execute_result"
    }
   ],
   "source": [
    "df['release_year']"
   ]
  },
  {
   "cell_type": "code",
   "execution_count": 16,
   "id": "c074ef0d",
   "metadata": {},
   "outputs": [
    {
     "name": "stderr",
     "output_type": "stream",
     "text": [
      "C:\\Users\\jamee\\AppData\\Local\\Temp\\ipykernel_16904\\828760247.py:1: FutureWarning: The default value of regex will change from True to False in a future version. In addition, single character regular expressions will *not* be treated as literal strings when regex=True.\n",
      "  df['release_year'] = df['release_year'].str.replace(\"(\",'').str.replace(')','')\n"
     ]
    }
   ],
   "source": [
    "df['release_year'] = df['release_year'].str.replace(\"(\",'').str.replace(')','')"
   ]
  },
  {
   "cell_type": "code",
   "execution_count": 17,
   "id": "30ba6f1c",
   "metadata": {},
   "outputs": [],
   "source": [
    "df['release_year'] = df['release_year'].str.replace(\"C\",'').str.replace('c','')"
   ]
  },
  {
   "cell_type": "code",
   "execution_count": 18,
   "id": "23f98f40",
   "metadata": {},
   "outputs": [],
   "source": [
    "df['release_year'] = df['release_year'].str.replace(\"S\",'').str.replace('s','')"
   ]
  },
  {
   "cell_type": "code",
   "execution_count": 19,
   "id": "4719913e",
   "metadata": {},
   "outputs": [
    {
     "data": {
      "text/plain": [
       "0       2020\n",
       "1       2021\n",
       "2       2021\n",
       "3       2021\n",
       "4       1993\n",
       "        ... \n",
       "3996    2001\n",
       "3997    2017\n",
       "3998    2016\n",
       "3999    2017\n",
       "4000    2013\n",
       "Name: release_year, Length: 4001, dtype: object"
      ]
     },
     "execution_count": 19,
     "metadata": {},
     "output_type": "execute_result"
    }
   ],
   "source": [
    "df['release_year']"
   ]
  },
  {
   "cell_type": "code",
   "execution_count": 20,
   "id": "fc02296e",
   "metadata": {},
   "outputs": [
    {
     "data": {
      "text/plain": [
       "array(['2020', '2021', '1993', '2019', '2013', '2014', '2018', '1998',\n",
       "       '2010', '2017', '1997', '1996', '1975', '1978', '1983', '1987',\n",
       "       '2012', '2001', '2002', '2003', '2004', '2011', '2008', '2009',\n",
       "       '2007', '2005', '2006', '2016', '1994', '2015', '1982', '1989',\n",
       "       '1990', '1991', '1999', '1986', '1984', '1980', '1961', '2000',\n",
       "       '1995', '1985', '1925', '1992', '1976', '1959', '1988', '1981',\n",
       "       '1972', '1964', '1954', '1979', '1958', '1956', '1963', '1970',\n",
       "       '1973', '1960', '1974', '1966', '1971', '1962', '1969'],\n",
       "      dtype=object)"
      ]
     },
     "execution_count": 20,
     "metadata": {},
     "output_type": "execute_result"
    }
   ],
   "source": [
    "df['release_year'].unique()"
   ]
  },
  {
   "cell_type": "code",
   "execution_count": 21,
   "id": "f95397c0",
   "metadata": {},
   "outputs": [
    {
     "data": {
      "text/plain": [
       "2019    613\n",
       "2018    600\n",
       "2020    581\n",
       "2017    446\n",
       "2021    385\n",
       "       ... \n",
       "1972      1\n",
       "1959      1\n",
       "1925      1\n",
       "1961      1\n",
       "1969      1\n",
       "Name: release_year, Length: 63, dtype: int64"
      ]
     },
     "execution_count": 21,
     "metadata": {},
     "output_type": "execute_result"
    }
   ],
   "source": [
    "df['release_year'].value_counts()"
   ]
  },
  {
   "cell_type": "code",
   "execution_count": 22,
   "id": "4d5650ae",
   "metadata": {},
   "outputs": [
    {
     "data": {
      "text/plain": [
       "Index(['type', 'title', 'date_added', 'release_year', 'rating', 'listed_in'], dtype='object')"
      ]
     },
     "execution_count": 22,
     "metadata": {},
     "output_type": "execute_result"
    }
   ],
   "source": [
    "df.columns"
   ]
  },
  {
   "cell_type": "code",
   "execution_count": 23,
   "id": "f4de9aca",
   "metadata": {},
   "outputs": [
    {
     "name": "stderr",
     "output_type": "stream",
     "text": [
      "C:\\Users\\jamee\\AppData\\Local\\Temp\\ipykernel_16904\\1491857391.py:1: FutureWarning: The default value of regex will change from True to False in a future version. In addition, single character regular expressions will *not* be treated as literal strings when regex=True.\n",
      "  df['rating'] = df['rating'].str.replace(\",\",'').str.replace('?','')\n"
     ]
    }
   ],
   "source": [
    "df['rating'] = df['rating'].str.replace(\",\",'').str.replace('?','')"
   ]
  },
  {
   "cell_type": "code",
   "execution_count": 24,
   "id": "cd874fd3",
   "metadata": {},
   "outputs": [
    {
     "data": {
      "text/plain": [
       "0       PG-13\n",
       "1       TV-MA\n",
       "2       TV-MA\n",
       "3       TV-PG\n",
       "4       TV-MA\n",
       "        ...  \n",
       "3996    TV-14\n",
       "3997    TV-MA\n",
       "3998    TV-MA\n",
       "3999    TV-MA\n",
       "4000    TV-PG\n",
       "Name: rating, Length: 4001, dtype: object"
      ]
     },
     "execution_count": 24,
     "metadata": {},
     "output_type": "execute_result"
    }
   ],
   "source": [
    "df['rating']"
   ]
  },
  {
   "cell_type": "code",
   "execution_count": 25,
   "id": "4bc00715",
   "metadata": {},
   "outputs": [],
   "source": [
    "df.dropna(inplace = True)"
   ]
  },
  {
   "cell_type": "code",
   "execution_count": 26,
   "id": "989c2d6c",
   "metadata": {},
   "outputs": [
    {
     "data": {
      "text/plain": [
       "Movie      3453\n",
       "TV Show     481\n",
       "Name: type, dtype: int64"
      ]
     },
     "execution_count": 26,
     "metadata": {},
     "output_type": "execute_result"
    }
   ],
   "source": [
    "df['type'].value_counts()"
   ]
  },
  {
   "cell_type": "code",
   "execution_count": 27,
   "id": "47cb1112",
   "metadata": {},
   "outputs": [
    {
     "data": {
      "text/plain": [
       "Index(['type', 'title', 'date_added', 'release_year', 'rating', 'listed_in'], dtype='object')"
      ]
     },
     "execution_count": 27,
     "metadata": {},
     "output_type": "execute_result"
    }
   ],
   "source": [
    "df.columns"
   ]
  },
  {
   "cell_type": "code",
   "execution_count": 28,
   "id": "0a70149a",
   "metadata": {},
   "outputs": [
    {
     "data": {
      "text/plain": [
       "Stand-Up Comedy                                                    244\n",
       "Dramas, International Movies                                       223\n",
       "Comedies, Dramas, International Movies                             208\n",
       "Dramas, Independent Movies, International Movies                   148\n",
       "Documentaries                                                      139\n",
       "                                                                  ... \n",
       "Anime Series, International TV Shows, Spanish-Language TV Shows      1\n",
       "British TV Shows, Romantic TV Shows, TV Dramas                       1\n",
       "International TV Shows, Korean TV Shows, TV Comedies                 1\n",
       "Comedies, LGBTQ Movies, Thrillers                                    1\n",
       "Documentaries, Dramas, International Movies                          1\n",
       "Name: listed_in, Length: 321, dtype: int64"
      ]
     },
     "execution_count": 28,
     "metadata": {},
     "output_type": "execute_result"
    }
   ],
   "source": [
    "df['listed_in'].value_counts()"
   ]
  },
  {
   "cell_type": "code",
   "execution_count": 29,
   "id": "49dc361e",
   "metadata": {},
   "outputs": [],
   "source": [
    "month = pd.DatetimeIndex(df['date_added']).month"
   ]
  },
  {
   "cell_type": "code",
   "execution_count": 30,
   "id": "e6b0fd16",
   "metadata": {},
   "outputs": [],
   "source": [
    "year = pd.DatetimeIndex(df['date_added']).year"
   ]
  },
  {
   "cell_type": "code",
   "execution_count": 31,
   "id": "831a9535",
   "metadata": {},
   "outputs": [],
   "source": [
    "day = pd.DatetimeIndex(df['date_added']).day"
   ]
  },
  {
   "cell_type": "code",
   "execution_count": 32,
   "id": "c360fdb8",
   "metadata": {},
   "outputs": [],
   "source": [
    "df.insert(3,'Added_Day',day)"
   ]
  },
  {
   "cell_type": "code",
   "execution_count": 33,
   "id": "617ec23b",
   "metadata": {},
   "outputs": [],
   "source": [
    "df.insert(4,'Added_Month',month)\n"
   ]
  },
  {
   "cell_type": "code",
   "execution_count": 34,
   "id": "ef16256f",
   "metadata": {},
   "outputs": [],
   "source": [
    "df.insert(5,'Added_Year',year)"
   ]
  },
  {
   "cell_type": "code",
   "execution_count": 35,
   "id": "86557b7c",
   "metadata": {},
   "outputs": [
    {
     "data": {
      "text/html": [
       "<div>\n",
       "<style scoped>\n",
       "    .dataframe tbody tr th:only-of-type {\n",
       "        vertical-align: middle;\n",
       "    }\n",
       "\n",
       "    .dataframe tbody tr th {\n",
       "        vertical-align: top;\n",
       "    }\n",
       "\n",
       "    .dataframe thead th {\n",
       "        text-align: right;\n",
       "    }\n",
       "</style>\n",
       "<table border=\"1\" class=\"dataframe\">\n",
       "  <thead>\n",
       "    <tr style=\"text-align: right;\">\n",
       "      <th></th>\n",
       "      <th>type</th>\n",
       "      <th>title</th>\n",
       "      <th>date_added</th>\n",
       "      <th>Added_Day</th>\n",
       "      <th>Added_Month</th>\n",
       "      <th>Added_Year</th>\n",
       "      <th>release_year</th>\n",
       "      <th>rating</th>\n",
       "      <th>listed_in</th>\n",
       "    </tr>\n",
       "  </thead>\n",
       "  <tbody>\n",
       "    <tr>\n",
       "      <th>0</th>\n",
       "      <td>Movie</td>\n",
       "      <td>Dick Johnson Is Dead</td>\n",
       "      <td>2021-09-25</td>\n",
       "      <td>25</td>\n",
       "      <td>9</td>\n",
       "      <td>2021</td>\n",
       "      <td>2020</td>\n",
       "      <td>PG-13</td>\n",
       "      <td>Documentaries</td>\n",
       "    </tr>\n",
       "    <tr>\n",
       "      <th>1</th>\n",
       "      <td>TV Show</td>\n",
       "      <td>Ganglands</td>\n",
       "      <td>2021-09-24</td>\n",
       "      <td>24</td>\n",
       "      <td>9</td>\n",
       "      <td>2021</td>\n",
       "      <td>2021</td>\n",
       "      <td>TV-MA</td>\n",
       "      <td>Crime TV Shows, International TV Shows, TV Act...</td>\n",
       "    </tr>\n",
       "    <tr>\n",
       "      <th>2</th>\n",
       "      <td>TV Show</td>\n",
       "      <td>Midnight Mass</td>\n",
       "      <td>2021-09-24</td>\n",
       "      <td>24</td>\n",
       "      <td>9</td>\n",
       "      <td>2021</td>\n",
       "      <td>2021</td>\n",
       "      <td>TV-MA</td>\n",
       "      <td>TV Dramas, TV Horror, TV Mysteries</td>\n",
       "    </tr>\n",
       "    <tr>\n",
       "      <th>3</th>\n",
       "      <td>Movie</td>\n",
       "      <td>Confessions of an Invisible Girl</td>\n",
       "      <td>2021-09-22</td>\n",
       "      <td>22</td>\n",
       "      <td>9</td>\n",
       "      <td>2021</td>\n",
       "      <td>2021</td>\n",
       "      <td>TV-PG</td>\n",
       "      <td>Children &amp; Family Movies, Comedies</td>\n",
       "    </tr>\n",
       "    <tr>\n",
       "      <th>4</th>\n",
       "      <td>Movie</td>\n",
       "      <td>Sankofa</td>\n",
       "      <td>2021-09-24</td>\n",
       "      <td>24</td>\n",
       "      <td>9</td>\n",
       "      <td>2021</td>\n",
       "      <td>1993</td>\n",
       "      <td>TV-MA</td>\n",
       "      <td>Dramas, Independent Movies, International Movies</td>\n",
       "    </tr>\n",
       "    <tr>\n",
       "      <th>...</th>\n",
       "      <td>...</td>\n",
       "      <td>...</td>\n",
       "      <td>...</td>\n",
       "      <td>...</td>\n",
       "      <td>...</td>\n",
       "      <td>...</td>\n",
       "      <td>...</td>\n",
       "      <td>...</td>\n",
       "      <td>...</td>\n",
       "    </tr>\n",
       "    <tr>\n",
       "      <th>3996</th>\n",
       "      <td>Movie</td>\n",
       "      <td>One 2 Ka 4</td>\n",
       "      <td>2017-03-15</td>\n",
       "      <td>15</td>\n",
       "      <td>3</td>\n",
       "      <td>2017</td>\n",
       "      <td>2001</td>\n",
       "      <td>TV-14</td>\n",
       "      <td>Action &amp; Adventure, Comedies, Dramas</td>\n",
       "    </tr>\n",
       "    <tr>\n",
       "      <th>3997</th>\n",
       "      <td>Movie</td>\n",
       "      <td>Jim Norton: Mouthful of Shame</td>\n",
       "      <td>2017-03-14</td>\n",
       "      <td>14</td>\n",
       "      <td>3</td>\n",
       "      <td>2017</td>\n",
       "      <td>2017</td>\n",
       "      <td>TV-MA</td>\n",
       "      <td>Stand-Up Comedy</td>\n",
       "    </tr>\n",
       "    <tr>\n",
       "      <th>3998</th>\n",
       "      <td>Movie</td>\n",
       "      <td>100 Meters</td>\n",
       "      <td>2017-03-10</td>\n",
       "      <td>10</td>\n",
       "      <td>3</td>\n",
       "      <td>2017</td>\n",
       "      <td>2016</td>\n",
       "      <td>TV-MA</td>\n",
       "      <td>Dramas, International Movies, Sports Movies</td>\n",
       "    </tr>\n",
       "    <tr>\n",
       "      <th>3999</th>\n",
       "      <td>Movie</td>\n",
       "      <td>Burning Sands</td>\n",
       "      <td>2017-03-10</td>\n",
       "      <td>10</td>\n",
       "      <td>3</td>\n",
       "      <td>2017</td>\n",
       "      <td>2017</td>\n",
       "      <td>TV-MA</td>\n",
       "      <td>Dramas, Independent Movies</td>\n",
       "    </tr>\n",
       "    <tr>\n",
       "      <th>4000</th>\n",
       "      <td>Movie</td>\n",
       "      <td>The Butterfly's Dream</td>\n",
       "      <td>2017-03-10</td>\n",
       "      <td>10</td>\n",
       "      <td>3</td>\n",
       "      <td>2017</td>\n",
       "      <td>2013</td>\n",
       "      <td>TV-PG</td>\n",
       "      <td>Dramas, International Movies, Romantic Movies</td>\n",
       "    </tr>\n",
       "  </tbody>\n",
       "</table>\n",
       "<p>3934 rows × 9 columns</p>\n",
       "</div>"
      ],
      "text/plain": [
       "         type                             title date_added  Added_Day  \\\n",
       "0       Movie              Dick Johnson Is Dead 2021-09-25         25   \n",
       "1     TV Show                         Ganglands 2021-09-24         24   \n",
       "2     TV Show                     Midnight Mass 2021-09-24         24   \n",
       "3       Movie  Confessions of an Invisible Girl 2021-09-22         22   \n",
       "4       Movie                           Sankofa 2021-09-24         24   \n",
       "...       ...                               ...        ...        ...   \n",
       "3996    Movie                        One 2 Ka 4 2017-03-15         15   \n",
       "3997    Movie     Jim Norton: Mouthful of Shame 2017-03-14         14   \n",
       "3998    Movie                        100 Meters 2017-03-10         10   \n",
       "3999    Movie                     Burning Sands 2017-03-10         10   \n",
       "4000    Movie             The Butterfly's Dream 2017-03-10         10   \n",
       "\n",
       "      Added_Month  Added_Year release_year rating  \\\n",
       "0               9        2021         2020  PG-13   \n",
       "1               9        2021         2021  TV-MA   \n",
       "2               9        2021         2021  TV-MA   \n",
       "3               9        2021         2021  TV-PG   \n",
       "4               9        2021         1993  TV-MA   \n",
       "...           ...         ...          ...    ...   \n",
       "3996            3        2017         2001  TV-14   \n",
       "3997            3        2017         2017  TV-MA   \n",
       "3998            3        2017         2016  TV-MA   \n",
       "3999            3        2017         2017  TV-MA   \n",
       "4000            3        2017         2013  TV-PG   \n",
       "\n",
       "                                              listed_in  \n",
       "0                                         Documentaries  \n",
       "1     Crime TV Shows, International TV Shows, TV Act...  \n",
       "2                    TV Dramas, TV Horror, TV Mysteries  \n",
       "3                    Children & Family Movies, Comedies  \n",
       "4      Dramas, Independent Movies, International Movies  \n",
       "...                                                 ...  \n",
       "3996               Action & Adventure, Comedies, Dramas  \n",
       "3997                                    Stand-Up Comedy  \n",
       "3998        Dramas, International Movies, Sports Movies  \n",
       "3999                         Dramas, Independent Movies  \n",
       "4000      Dramas, International Movies, Romantic Movies  \n",
       "\n",
       "[3934 rows x 9 columns]"
      ]
     },
     "execution_count": 35,
     "metadata": {},
     "output_type": "execute_result"
    }
   ],
   "source": [
    "df"
   ]
  },
  {
   "cell_type": "code",
   "execution_count": 36,
   "id": "a2f7c28d",
   "metadata": {},
   "outputs": [],
   "source": [
    "Method = df['listed_in'].str.split(\" \",n=2,expand=True)[0]"
   ]
  },
  {
   "cell_type": "code",
   "execution_count": 37,
   "id": "036146cc",
   "metadata": {},
   "outputs": [],
   "source": [
    "df.insert(9,'Method',Method)"
   ]
  },
  {
   "cell_type": "code",
   "execution_count": 38,
   "id": "00518d9e",
   "metadata": {},
   "outputs": [
    {
     "data": {
      "text/html": [
       "<div>\n",
       "<style scoped>\n",
       "    .dataframe tbody tr th:only-of-type {\n",
       "        vertical-align: middle;\n",
       "    }\n",
       "\n",
       "    .dataframe tbody tr th {\n",
       "        vertical-align: top;\n",
       "    }\n",
       "\n",
       "    .dataframe thead th {\n",
       "        text-align: right;\n",
       "    }\n",
       "</style>\n",
       "<table border=\"1\" class=\"dataframe\">\n",
       "  <thead>\n",
       "    <tr style=\"text-align: right;\">\n",
       "      <th></th>\n",
       "      <th>0</th>\n",
       "      <th>1</th>\n",
       "      <th>2</th>\n",
       "      <th>3</th>\n",
       "      <th>4</th>\n",
       "      <th>5</th>\n",
       "      <th>6</th>\n",
       "      <th>7</th>\n",
       "      <th>8</th>\n",
       "      <th>9</th>\n",
       "      <th>10</th>\n",
       "    </tr>\n",
       "  </thead>\n",
       "  <tbody>\n",
       "    <tr>\n",
       "      <th>0</th>\n",
       "      <td>Documentaries</td>\n",
       "      <td>None</td>\n",
       "      <td>None</td>\n",
       "      <td>None</td>\n",
       "      <td>None</td>\n",
       "      <td>None</td>\n",
       "      <td>None</td>\n",
       "      <td>None</td>\n",
       "      <td>None</td>\n",
       "      <td>None</td>\n",
       "      <td>None</td>\n",
       "    </tr>\n",
       "    <tr>\n",
       "      <th>1</th>\n",
       "      <td>Crime</td>\n",
       "      <td>TV</td>\n",
       "      <td>Shows,</td>\n",
       "      <td>International</td>\n",
       "      <td>TV</td>\n",
       "      <td>Shows,</td>\n",
       "      <td>TV</td>\n",
       "      <td>Action</td>\n",
       "      <td>&amp;</td>\n",
       "      <td>Adventure</td>\n",
       "      <td>None</td>\n",
       "    </tr>\n",
       "    <tr>\n",
       "      <th>2</th>\n",
       "      <td>TV</td>\n",
       "      <td>Dramas,</td>\n",
       "      <td>TV</td>\n",
       "      <td>Horror,</td>\n",
       "      <td>TV</td>\n",
       "      <td>Mysteries</td>\n",
       "      <td>None</td>\n",
       "      <td>None</td>\n",
       "      <td>None</td>\n",
       "      <td>None</td>\n",
       "      <td>None</td>\n",
       "    </tr>\n",
       "    <tr>\n",
       "      <th>3</th>\n",
       "      <td>Children</td>\n",
       "      <td>&amp;</td>\n",
       "      <td>Family</td>\n",
       "      <td>Movies,</td>\n",
       "      <td>Comedies</td>\n",
       "      <td>None</td>\n",
       "      <td>None</td>\n",
       "      <td>None</td>\n",
       "      <td>None</td>\n",
       "      <td>None</td>\n",
       "      <td>None</td>\n",
       "    </tr>\n",
       "    <tr>\n",
       "      <th>4</th>\n",
       "      <td>Dramas,</td>\n",
       "      <td>Independent</td>\n",
       "      <td>Movies,</td>\n",
       "      <td>International</td>\n",
       "      <td>Movies</td>\n",
       "      <td>None</td>\n",
       "      <td>None</td>\n",
       "      <td>None</td>\n",
       "      <td>None</td>\n",
       "      <td>None</td>\n",
       "      <td>None</td>\n",
       "    </tr>\n",
       "    <tr>\n",
       "      <th>...</th>\n",
       "      <td>...</td>\n",
       "      <td>...</td>\n",
       "      <td>...</td>\n",
       "      <td>...</td>\n",
       "      <td>...</td>\n",
       "      <td>...</td>\n",
       "      <td>...</td>\n",
       "      <td>...</td>\n",
       "      <td>...</td>\n",
       "      <td>...</td>\n",
       "      <td>...</td>\n",
       "    </tr>\n",
       "    <tr>\n",
       "      <th>3996</th>\n",
       "      <td>Action</td>\n",
       "      <td>&amp;</td>\n",
       "      <td>Adventure,</td>\n",
       "      <td>Comedies,</td>\n",
       "      <td>Dramas</td>\n",
       "      <td>None</td>\n",
       "      <td>None</td>\n",
       "      <td>None</td>\n",
       "      <td>None</td>\n",
       "      <td>None</td>\n",
       "      <td>None</td>\n",
       "    </tr>\n",
       "    <tr>\n",
       "      <th>3997</th>\n",
       "      <td>Stand-Up</td>\n",
       "      <td>Comedy</td>\n",
       "      <td>None</td>\n",
       "      <td>None</td>\n",
       "      <td>None</td>\n",
       "      <td>None</td>\n",
       "      <td>None</td>\n",
       "      <td>None</td>\n",
       "      <td>None</td>\n",
       "      <td>None</td>\n",
       "      <td>None</td>\n",
       "    </tr>\n",
       "    <tr>\n",
       "      <th>3998</th>\n",
       "      <td>Dramas,</td>\n",
       "      <td>International</td>\n",
       "      <td>Movies,</td>\n",
       "      <td>Sports</td>\n",
       "      <td>Movies</td>\n",
       "      <td>None</td>\n",
       "      <td>None</td>\n",
       "      <td>None</td>\n",
       "      <td>None</td>\n",
       "      <td>None</td>\n",
       "      <td>None</td>\n",
       "    </tr>\n",
       "    <tr>\n",
       "      <th>3999</th>\n",
       "      <td>Dramas,</td>\n",
       "      <td>Independent</td>\n",
       "      <td>Movies</td>\n",
       "      <td>None</td>\n",
       "      <td>None</td>\n",
       "      <td>None</td>\n",
       "      <td>None</td>\n",
       "      <td>None</td>\n",
       "      <td>None</td>\n",
       "      <td>None</td>\n",
       "      <td>None</td>\n",
       "    </tr>\n",
       "    <tr>\n",
       "      <th>4000</th>\n",
       "      <td>Dramas,</td>\n",
       "      <td>International</td>\n",
       "      <td>Movies,</td>\n",
       "      <td>Romantic</td>\n",
       "      <td>Movies</td>\n",
       "      <td>None</td>\n",
       "      <td>None</td>\n",
       "      <td>None</td>\n",
       "      <td>None</td>\n",
       "      <td>None</td>\n",
       "      <td>None</td>\n",
       "    </tr>\n",
       "  </tbody>\n",
       "</table>\n",
       "<p>3934 rows × 11 columns</p>\n",
       "</div>"
      ],
      "text/plain": [
       "                 0              1           2              3         4   \\\n",
       "0     Documentaries           None        None           None      None   \n",
       "1             Crime             TV      Shows,  International        TV   \n",
       "2                TV        Dramas,          TV        Horror,        TV   \n",
       "3          Children              &      Family        Movies,  Comedies   \n",
       "4           Dramas,    Independent     Movies,  International    Movies   \n",
       "...             ...            ...         ...            ...       ...   \n",
       "3996         Action              &  Adventure,      Comedies,    Dramas   \n",
       "3997       Stand-Up         Comedy        None           None      None   \n",
       "3998        Dramas,  International     Movies,         Sports    Movies   \n",
       "3999        Dramas,    Independent      Movies           None      None   \n",
       "4000        Dramas,  International     Movies,       Romantic    Movies   \n",
       "\n",
       "             5     6       7     8          9     10  \n",
       "0          None  None    None  None       None  None  \n",
       "1        Shows,    TV  Action     &  Adventure  None  \n",
       "2     Mysteries  None    None  None       None  None  \n",
       "3          None  None    None  None       None  None  \n",
       "4          None  None    None  None       None  None  \n",
       "...         ...   ...     ...   ...        ...   ...  \n",
       "3996       None  None    None  None       None  None  \n",
       "3997       None  None    None  None       None  None  \n",
       "3998       None  None    None  None       None  None  \n",
       "3999       None  None    None  None       None  None  \n",
       "4000       None  None    None  None       None  None  \n",
       "\n",
       "[3934 rows x 11 columns]"
      ]
     },
     "execution_count": 38,
     "metadata": {},
     "output_type": "execute_result"
    }
   ],
   "source": [
    "df['listed_in'].str.split(\" \",expand=True)"
   ]
  },
  {
   "cell_type": "code",
   "execution_count": 39,
   "id": "e657baf8",
   "metadata": {},
   "outputs": [
    {
     "data": {
      "text/html": [
       "<div>\n",
       "<style scoped>\n",
       "    .dataframe tbody tr th:only-of-type {\n",
       "        vertical-align: middle;\n",
       "    }\n",
       "\n",
       "    .dataframe tbody tr th {\n",
       "        vertical-align: top;\n",
       "    }\n",
       "\n",
       "    .dataframe thead th {\n",
       "        text-align: right;\n",
       "    }\n",
       "</style>\n",
       "<table border=\"1\" class=\"dataframe\">\n",
       "  <thead>\n",
       "    <tr style=\"text-align: right;\">\n",
       "      <th></th>\n",
       "      <th>type</th>\n",
       "      <th>title</th>\n",
       "      <th>date_added</th>\n",
       "      <th>Added_Day</th>\n",
       "      <th>Added_Month</th>\n",
       "      <th>Added_Year</th>\n",
       "      <th>release_year</th>\n",
       "      <th>rating</th>\n",
       "      <th>listed_in</th>\n",
       "      <th>Method</th>\n",
       "    </tr>\n",
       "  </thead>\n",
       "  <tbody>\n",
       "    <tr>\n",
       "      <th>0</th>\n",
       "      <td>Movie</td>\n",
       "      <td>Dick Johnson Is Dead</td>\n",
       "      <td>2021-09-25</td>\n",
       "      <td>25</td>\n",
       "      <td>9</td>\n",
       "      <td>2021</td>\n",
       "      <td>2020</td>\n",
       "      <td>PG-13</td>\n",
       "      <td>Documentaries</td>\n",
       "      <td>Documentaries</td>\n",
       "    </tr>\n",
       "    <tr>\n",
       "      <th>1</th>\n",
       "      <td>TV Show</td>\n",
       "      <td>Ganglands</td>\n",
       "      <td>2021-09-24</td>\n",
       "      <td>24</td>\n",
       "      <td>9</td>\n",
       "      <td>2021</td>\n",
       "      <td>2021</td>\n",
       "      <td>TV-MA</td>\n",
       "      <td>Crime TV Shows, International TV Shows, TV Act...</td>\n",
       "      <td>Crime</td>\n",
       "    </tr>\n",
       "    <tr>\n",
       "      <th>2</th>\n",
       "      <td>TV Show</td>\n",
       "      <td>Midnight Mass</td>\n",
       "      <td>2021-09-24</td>\n",
       "      <td>24</td>\n",
       "      <td>9</td>\n",
       "      <td>2021</td>\n",
       "      <td>2021</td>\n",
       "      <td>TV-MA</td>\n",
       "      <td>TV Dramas, TV Horror, TV Mysteries</td>\n",
       "      <td>TV</td>\n",
       "    </tr>\n",
       "    <tr>\n",
       "      <th>3</th>\n",
       "      <td>Movie</td>\n",
       "      <td>Confessions of an Invisible Girl</td>\n",
       "      <td>2021-09-22</td>\n",
       "      <td>22</td>\n",
       "      <td>9</td>\n",
       "      <td>2021</td>\n",
       "      <td>2021</td>\n",
       "      <td>TV-PG</td>\n",
       "      <td>Children &amp; Family Movies, Comedies</td>\n",
       "      <td>Children</td>\n",
       "    </tr>\n",
       "    <tr>\n",
       "      <th>4</th>\n",
       "      <td>Movie</td>\n",
       "      <td>Sankofa</td>\n",
       "      <td>2021-09-24</td>\n",
       "      <td>24</td>\n",
       "      <td>9</td>\n",
       "      <td>2021</td>\n",
       "      <td>1993</td>\n",
       "      <td>TV-MA</td>\n",
       "      <td>Dramas, Independent Movies, International Movies</td>\n",
       "      <td>Dramas,</td>\n",
       "    </tr>\n",
       "    <tr>\n",
       "      <th>...</th>\n",
       "      <td>...</td>\n",
       "      <td>...</td>\n",
       "      <td>...</td>\n",
       "      <td>...</td>\n",
       "      <td>...</td>\n",
       "      <td>...</td>\n",
       "      <td>...</td>\n",
       "      <td>...</td>\n",
       "      <td>...</td>\n",
       "      <td>...</td>\n",
       "    </tr>\n",
       "    <tr>\n",
       "      <th>3996</th>\n",
       "      <td>Movie</td>\n",
       "      <td>One 2 Ka 4</td>\n",
       "      <td>2017-03-15</td>\n",
       "      <td>15</td>\n",
       "      <td>3</td>\n",
       "      <td>2017</td>\n",
       "      <td>2001</td>\n",
       "      <td>TV-14</td>\n",
       "      <td>Action &amp; Adventure, Comedies, Dramas</td>\n",
       "      <td>Action</td>\n",
       "    </tr>\n",
       "    <tr>\n",
       "      <th>3997</th>\n",
       "      <td>Movie</td>\n",
       "      <td>Jim Norton: Mouthful of Shame</td>\n",
       "      <td>2017-03-14</td>\n",
       "      <td>14</td>\n",
       "      <td>3</td>\n",
       "      <td>2017</td>\n",
       "      <td>2017</td>\n",
       "      <td>TV-MA</td>\n",
       "      <td>Stand-Up Comedy</td>\n",
       "      <td>Stand-Up</td>\n",
       "    </tr>\n",
       "    <tr>\n",
       "      <th>3998</th>\n",
       "      <td>Movie</td>\n",
       "      <td>100 Meters</td>\n",
       "      <td>2017-03-10</td>\n",
       "      <td>10</td>\n",
       "      <td>3</td>\n",
       "      <td>2017</td>\n",
       "      <td>2016</td>\n",
       "      <td>TV-MA</td>\n",
       "      <td>Dramas, International Movies, Sports Movies</td>\n",
       "      <td>Dramas,</td>\n",
       "    </tr>\n",
       "    <tr>\n",
       "      <th>3999</th>\n",
       "      <td>Movie</td>\n",
       "      <td>Burning Sands</td>\n",
       "      <td>2017-03-10</td>\n",
       "      <td>10</td>\n",
       "      <td>3</td>\n",
       "      <td>2017</td>\n",
       "      <td>2017</td>\n",
       "      <td>TV-MA</td>\n",
       "      <td>Dramas, Independent Movies</td>\n",
       "      <td>Dramas,</td>\n",
       "    </tr>\n",
       "    <tr>\n",
       "      <th>4000</th>\n",
       "      <td>Movie</td>\n",
       "      <td>The Butterfly's Dream</td>\n",
       "      <td>2017-03-10</td>\n",
       "      <td>10</td>\n",
       "      <td>3</td>\n",
       "      <td>2017</td>\n",
       "      <td>2013</td>\n",
       "      <td>TV-PG</td>\n",
       "      <td>Dramas, International Movies, Romantic Movies</td>\n",
       "      <td>Dramas,</td>\n",
       "    </tr>\n",
       "  </tbody>\n",
       "</table>\n",
       "<p>3934 rows × 10 columns</p>\n",
       "</div>"
      ],
      "text/plain": [
       "         type                             title date_added  Added_Day  \\\n",
       "0       Movie              Dick Johnson Is Dead 2021-09-25         25   \n",
       "1     TV Show                         Ganglands 2021-09-24         24   \n",
       "2     TV Show                     Midnight Mass 2021-09-24         24   \n",
       "3       Movie  Confessions of an Invisible Girl 2021-09-22         22   \n",
       "4       Movie                           Sankofa 2021-09-24         24   \n",
       "...       ...                               ...        ...        ...   \n",
       "3996    Movie                        One 2 Ka 4 2017-03-15         15   \n",
       "3997    Movie     Jim Norton: Mouthful of Shame 2017-03-14         14   \n",
       "3998    Movie                        100 Meters 2017-03-10         10   \n",
       "3999    Movie                     Burning Sands 2017-03-10         10   \n",
       "4000    Movie             The Butterfly's Dream 2017-03-10         10   \n",
       "\n",
       "      Added_Month  Added_Year release_year rating  \\\n",
       "0               9        2021         2020  PG-13   \n",
       "1               9        2021         2021  TV-MA   \n",
       "2               9        2021         2021  TV-MA   \n",
       "3               9        2021         2021  TV-PG   \n",
       "4               9        2021         1993  TV-MA   \n",
       "...           ...         ...          ...    ...   \n",
       "3996            3        2017         2001  TV-14   \n",
       "3997            3        2017         2017  TV-MA   \n",
       "3998            3        2017         2016  TV-MA   \n",
       "3999            3        2017         2017  TV-MA   \n",
       "4000            3        2017         2013  TV-PG   \n",
       "\n",
       "                                              listed_in         Method  \n",
       "0                                         Documentaries  Documentaries  \n",
       "1     Crime TV Shows, International TV Shows, TV Act...          Crime  \n",
       "2                    TV Dramas, TV Horror, TV Mysteries             TV  \n",
       "3                    Children & Family Movies, Comedies       Children  \n",
       "4      Dramas, Independent Movies, International Movies        Dramas,  \n",
       "...                                                 ...            ...  \n",
       "3996               Action & Adventure, Comedies, Dramas         Action  \n",
       "3997                                    Stand-Up Comedy       Stand-Up  \n",
       "3998        Dramas, International Movies, Sports Movies        Dramas,  \n",
       "3999                         Dramas, Independent Movies        Dramas,  \n",
       "4000      Dramas, International Movies, Romantic Movies        Dramas,  \n",
       "\n",
       "[3934 rows x 10 columns]"
      ]
     },
     "execution_count": 39,
     "metadata": {},
     "output_type": "execute_result"
    }
   ],
   "source": [
    "df"
   ]
  },
  {
   "cell_type": "code",
   "execution_count": 40,
   "id": "c1a4388c",
   "metadata": {},
   "outputs": [],
   "source": [
    "final_result  = df"
   ]
  },
  {
   "cell_type": "code",
   "execution_count": 41,
   "id": "5eb1a4ba",
   "metadata": {},
   "outputs": [
    {
     "data": {
      "text/html": [
       "<div>\n",
       "<style scoped>\n",
       "    .dataframe tbody tr th:only-of-type {\n",
       "        vertical-align: middle;\n",
       "    }\n",
       "\n",
       "    .dataframe tbody tr th {\n",
       "        vertical-align: top;\n",
       "    }\n",
       "\n",
       "    .dataframe thead th {\n",
       "        text-align: right;\n",
       "    }\n",
       "</style>\n",
       "<table border=\"1\" class=\"dataframe\">\n",
       "  <thead>\n",
       "    <tr style=\"text-align: right;\">\n",
       "      <th></th>\n",
       "      <th>type</th>\n",
       "      <th>title</th>\n",
       "      <th>date_added</th>\n",
       "      <th>Added_Day</th>\n",
       "      <th>Added_Month</th>\n",
       "      <th>Added_Year</th>\n",
       "      <th>release_year</th>\n",
       "      <th>rating</th>\n",
       "      <th>listed_in</th>\n",
       "      <th>Method</th>\n",
       "    </tr>\n",
       "  </thead>\n",
       "  <tbody>\n",
       "    <tr>\n",
       "      <th>0</th>\n",
       "      <td>Movie</td>\n",
       "      <td>Dick Johnson Is Dead</td>\n",
       "      <td>2021-09-25</td>\n",
       "      <td>25</td>\n",
       "      <td>9</td>\n",
       "      <td>2021</td>\n",
       "      <td>2020</td>\n",
       "      <td>PG-13</td>\n",
       "      <td>Documentaries</td>\n",
       "      <td>Documentaries</td>\n",
       "    </tr>\n",
       "    <tr>\n",
       "      <th>1</th>\n",
       "      <td>TV Show</td>\n",
       "      <td>Ganglands</td>\n",
       "      <td>2021-09-24</td>\n",
       "      <td>24</td>\n",
       "      <td>9</td>\n",
       "      <td>2021</td>\n",
       "      <td>2021</td>\n",
       "      <td>TV-MA</td>\n",
       "      <td>Crime TV Shows, International TV Shows, TV Act...</td>\n",
       "      <td>Crime</td>\n",
       "    </tr>\n",
       "    <tr>\n",
       "      <th>2</th>\n",
       "      <td>TV Show</td>\n",
       "      <td>Midnight Mass</td>\n",
       "      <td>2021-09-24</td>\n",
       "      <td>24</td>\n",
       "      <td>9</td>\n",
       "      <td>2021</td>\n",
       "      <td>2021</td>\n",
       "      <td>TV-MA</td>\n",
       "      <td>TV Dramas, TV Horror, TV Mysteries</td>\n",
       "      <td>TV</td>\n",
       "    </tr>\n",
       "    <tr>\n",
       "      <th>3</th>\n",
       "      <td>Movie</td>\n",
       "      <td>Confessions of an Invisible Girl</td>\n",
       "      <td>2021-09-22</td>\n",
       "      <td>22</td>\n",
       "      <td>9</td>\n",
       "      <td>2021</td>\n",
       "      <td>2021</td>\n",
       "      <td>TV-PG</td>\n",
       "      <td>Children &amp; Family Movies, Comedies</td>\n",
       "      <td>Children</td>\n",
       "    </tr>\n",
       "    <tr>\n",
       "      <th>4</th>\n",
       "      <td>Movie</td>\n",
       "      <td>Sankofa</td>\n",
       "      <td>2021-09-24</td>\n",
       "      <td>24</td>\n",
       "      <td>9</td>\n",
       "      <td>2021</td>\n",
       "      <td>1993</td>\n",
       "      <td>TV-MA</td>\n",
       "      <td>Dramas, Independent Movies, International Movies</td>\n",
       "      <td>Dramas,</td>\n",
       "    </tr>\n",
       "    <tr>\n",
       "      <th>...</th>\n",
       "      <td>...</td>\n",
       "      <td>...</td>\n",
       "      <td>...</td>\n",
       "      <td>...</td>\n",
       "      <td>...</td>\n",
       "      <td>...</td>\n",
       "      <td>...</td>\n",
       "      <td>...</td>\n",
       "      <td>...</td>\n",
       "      <td>...</td>\n",
       "    </tr>\n",
       "    <tr>\n",
       "      <th>3996</th>\n",
       "      <td>Movie</td>\n",
       "      <td>One 2 Ka 4</td>\n",
       "      <td>2017-03-15</td>\n",
       "      <td>15</td>\n",
       "      <td>3</td>\n",
       "      <td>2017</td>\n",
       "      <td>2001</td>\n",
       "      <td>TV-14</td>\n",
       "      <td>Action &amp; Adventure, Comedies, Dramas</td>\n",
       "      <td>Action</td>\n",
       "    </tr>\n",
       "    <tr>\n",
       "      <th>3997</th>\n",
       "      <td>Movie</td>\n",
       "      <td>Jim Norton: Mouthful of Shame</td>\n",
       "      <td>2017-03-14</td>\n",
       "      <td>14</td>\n",
       "      <td>3</td>\n",
       "      <td>2017</td>\n",
       "      <td>2017</td>\n",
       "      <td>TV-MA</td>\n",
       "      <td>Stand-Up Comedy</td>\n",
       "      <td>Stand-Up</td>\n",
       "    </tr>\n",
       "    <tr>\n",
       "      <th>3998</th>\n",
       "      <td>Movie</td>\n",
       "      <td>100 Meters</td>\n",
       "      <td>2017-03-10</td>\n",
       "      <td>10</td>\n",
       "      <td>3</td>\n",
       "      <td>2017</td>\n",
       "      <td>2016</td>\n",
       "      <td>TV-MA</td>\n",
       "      <td>Dramas, International Movies, Sports Movies</td>\n",
       "      <td>Dramas,</td>\n",
       "    </tr>\n",
       "    <tr>\n",
       "      <th>3999</th>\n",
       "      <td>Movie</td>\n",
       "      <td>Burning Sands</td>\n",
       "      <td>2017-03-10</td>\n",
       "      <td>10</td>\n",
       "      <td>3</td>\n",
       "      <td>2017</td>\n",
       "      <td>2017</td>\n",
       "      <td>TV-MA</td>\n",
       "      <td>Dramas, Independent Movies</td>\n",
       "      <td>Dramas,</td>\n",
       "    </tr>\n",
       "    <tr>\n",
       "      <th>4000</th>\n",
       "      <td>Movie</td>\n",
       "      <td>The Butterfly's Dream</td>\n",
       "      <td>2017-03-10</td>\n",
       "      <td>10</td>\n",
       "      <td>3</td>\n",
       "      <td>2017</td>\n",
       "      <td>2013</td>\n",
       "      <td>TV-PG</td>\n",
       "      <td>Dramas, International Movies, Romantic Movies</td>\n",
       "      <td>Dramas,</td>\n",
       "    </tr>\n",
       "  </tbody>\n",
       "</table>\n",
       "<p>3934 rows × 10 columns</p>\n",
       "</div>"
      ],
      "text/plain": [
       "         type                             title date_added  Added_Day  \\\n",
       "0       Movie              Dick Johnson Is Dead 2021-09-25         25   \n",
       "1     TV Show                         Ganglands 2021-09-24         24   \n",
       "2     TV Show                     Midnight Mass 2021-09-24         24   \n",
       "3       Movie  Confessions of an Invisible Girl 2021-09-22         22   \n",
       "4       Movie                           Sankofa 2021-09-24         24   \n",
       "...       ...                               ...        ...        ...   \n",
       "3996    Movie                        One 2 Ka 4 2017-03-15         15   \n",
       "3997    Movie     Jim Norton: Mouthful of Shame 2017-03-14         14   \n",
       "3998    Movie                        100 Meters 2017-03-10         10   \n",
       "3999    Movie                     Burning Sands 2017-03-10         10   \n",
       "4000    Movie             The Butterfly's Dream 2017-03-10         10   \n",
       "\n",
       "      Added_Month  Added_Year release_year rating  \\\n",
       "0               9        2021         2020  PG-13   \n",
       "1               9        2021         2021  TV-MA   \n",
       "2               9        2021         2021  TV-MA   \n",
       "3               9        2021         2021  TV-PG   \n",
       "4               9        2021         1993  TV-MA   \n",
       "...           ...         ...          ...    ...   \n",
       "3996            3        2017         2001  TV-14   \n",
       "3997            3        2017         2017  TV-MA   \n",
       "3998            3        2017         2016  TV-MA   \n",
       "3999            3        2017         2017  TV-MA   \n",
       "4000            3        2017         2013  TV-PG   \n",
       "\n",
       "                                              listed_in         Method  \n",
       "0                                         Documentaries  Documentaries  \n",
       "1     Crime TV Shows, International TV Shows, TV Act...          Crime  \n",
       "2                    TV Dramas, TV Horror, TV Mysteries             TV  \n",
       "3                    Children & Family Movies, Comedies       Children  \n",
       "4      Dramas, Independent Movies, International Movies        Dramas,  \n",
       "...                                                 ...            ...  \n",
       "3996               Action & Adventure, Comedies, Dramas         Action  \n",
       "3997                                    Stand-Up Comedy       Stand-Up  \n",
       "3998        Dramas, International Movies, Sports Movies        Dramas,  \n",
       "3999                         Dramas, Independent Movies        Dramas,  \n",
       "4000      Dramas, International Movies, Romantic Movies        Dramas,  \n",
       "\n",
       "[3934 rows x 10 columns]"
      ]
     },
     "execution_count": 41,
     "metadata": {},
     "output_type": "execute_result"
    }
   ],
   "source": [
    "final_result"
   ]
  },
  {
   "cell_type": "code",
   "execution_count": 42,
   "id": "771cf217",
   "metadata": {},
   "outputs": [],
   "source": [
    "final_result.to_csv('Cleaned_Netflix_data.csv')"
   ]
  },
  {
   "cell_type": "code",
   "execution_count": null,
   "id": "8892e88d",
   "metadata": {},
   "outputs": [],
   "source": []
  }
 ],
 "metadata": {
  "kernelspec": {
   "display_name": "Python 3 (ipykernel)",
   "language": "python",
   "name": "python3"
  },
  "language_info": {
   "codemirror_mode": {
    "name": "ipython",
    "version": 3
   },
   "file_extension": ".py",
   "mimetype": "text/x-python",
   "name": "python",
   "nbconvert_exporter": "python",
   "pygments_lexer": "ipython3",
   "version": "3.11.2"
  }
 },
 "nbformat": 4,
 "nbformat_minor": 5
}

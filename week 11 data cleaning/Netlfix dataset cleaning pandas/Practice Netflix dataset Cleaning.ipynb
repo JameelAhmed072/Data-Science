{
 "cells": [
  {
   "cell_type": "code",
   "execution_count": 1,
   "id": "bf22b39a",
   "metadata": {},
   "outputs": [],
   "source": [
    "import pandas as pd "
   ]
  },
  {
   "cell_type": "code",
   "execution_count": 2,
   "id": "2dcacef8",
   "metadata": {},
   "outputs": [],
   "source": [
    "df = pd.read_csv('Netflix.csv')"
   ]
  },
  {
   "cell_type": "code",
   "execution_count": 3,
   "id": "92b6b368",
   "metadata": {},
   "outputs": [
    {
     "data": {
      "text/plain": [
       "Index(['type', 'title', 'date_added', 'release_year', 'rating', 'listed_in'], dtype='object')"
      ]
     },
     "execution_count": 3,
     "metadata": {},
     "output_type": "execute_result"
    }
   ],
   "source": [
    "df.columns"
   ]
  },
  {
   "cell_type": "code",
   "execution_count": 4,
   "id": "3005e8be",
   "metadata": {},
   "outputs": [
    {
     "name": "stdout",
     "output_type": "stream",
     "text": [
      "<class 'pandas.core.frame.DataFrame'>\n",
      "RangeIndex: 4001 entries, 0 to 4000\n",
      "Data columns (total 6 columns):\n",
      " #   Column        Non-Null Count  Dtype \n",
      "---  ------        --------------  ----- \n",
      " 0   type          3934 non-null   object\n",
      " 1   title         4001 non-null   object\n",
      " 2   date_added    4001 non-null   object\n",
      " 3   release_year  4001 non-null   object\n",
      " 4   rating        4001 non-null   object\n",
      " 5   listed_in     4001 non-null   object\n",
      "dtypes: object(6)\n",
      "memory usage: 187.7+ KB\n"
     ]
    }
   ],
   "source": [
    "df.info()"
   ]
  },
  {
   "cell_type": "code",
   "execution_count": 5,
   "id": "34c4d61c",
   "metadata": {},
   "outputs": [
    {
     "data": {
      "text/html": [
       "<div>\n",
       "<style scoped>\n",
       "    .dataframe tbody tr th:only-of-type {\n",
       "        vertical-align: middle;\n",
       "    }\n",
       "\n",
       "    .dataframe tbody tr th {\n",
       "        vertical-align: top;\n",
       "    }\n",
       "\n",
       "    .dataframe thead th {\n",
       "        text-align: right;\n",
       "    }\n",
       "</style>\n",
       "<table border=\"1\" class=\"dataframe\">\n",
       "  <thead>\n",
       "    <tr style=\"text-align: right;\">\n",
       "      <th></th>\n",
       "      <th>type</th>\n",
       "      <th>title</th>\n",
       "      <th>date_added</th>\n",
       "      <th>release_year</th>\n",
       "      <th>rating</th>\n",
       "      <th>listed_in</th>\n",
       "    </tr>\n",
       "  </thead>\n",
       "  <tbody>\n",
       "    <tr>\n",
       "      <th>0</th>\n",
       "      <td>Movie</td>\n",
       "      <td>**Dick Johnson Is Dead**</td>\n",
       "      <td>9/25/2021</td>\n",
       "      <td>2020)</td>\n",
       "      <td>,?PG-13</td>\n",
       "      <td>Documentaries</td>\n",
       "    </tr>\n",
       "    <tr>\n",
       "      <th>1</th>\n",
       "      <td>TV Show</td>\n",
       "      <td>**Ganglands**</td>\n",
       "      <td>9/24/2021</td>\n",
       "      <td>2021C</td>\n",
       "      <td>,?TV-MA</td>\n",
       "      <td>Crime TV Shows, International TV Shows, TV Act...</td>\n",
       "    </tr>\n",
       "    <tr>\n",
       "      <th>2</th>\n",
       "      <td>TV Show</td>\n",
       "      <td>**Midnight Mass**</td>\n",
       "      <td>9/24/2021</td>\n",
       "      <td>2021c</td>\n",
       "      <td>,?TV-MA</td>\n",
       "      <td>TV Dramas, TV Horror, TV Mysteries</td>\n",
       "    </tr>\n",
       "    <tr>\n",
       "      <th>3</th>\n",
       "      <td>Movie</td>\n",
       "      <td>**Confessions of an Invisible Girl**</td>\n",
       "      <td>9/22/2021</td>\n",
       "      <td>2021</td>\n",
       "      <td>,?TV-PG</td>\n",
       "      <td>Children &amp; Family Movies, Comedies</td>\n",
       "    </tr>\n",
       "    <tr>\n",
       "      <th>4</th>\n",
       "      <td>Movie</td>\n",
       "      <td>**Sankofa**</td>\n",
       "      <td>9/24/2021</td>\n",
       "      <td>1993S</td>\n",
       "      <td>,?TV-MA</td>\n",
       "      <td>Dramas, Independent Movies, International Movies</td>\n",
       "    </tr>\n",
       "  </tbody>\n",
       "</table>\n",
       "</div>"
      ],
      "text/plain": [
       "      type                                 title date_added release_year  \\\n",
       "0    Movie              **Dick Johnson Is Dead**  9/25/2021        2020)   \n",
       "1  TV Show                         **Ganglands**  9/24/2021        2021C   \n",
       "2  TV Show                     **Midnight Mass**  9/24/2021        2021c   \n",
       "3    Movie  **Confessions of an Invisible Girl**  9/22/2021         2021   \n",
       "4    Movie                           **Sankofa**  9/24/2021        1993S   \n",
       "\n",
       "    rating                                          listed_in  \n",
       "0  ,?PG-13                                      Documentaries  \n",
       "1  ,?TV-MA  Crime TV Shows, International TV Shows, TV Act...  \n",
       "2  ,?TV-MA                 TV Dramas, TV Horror, TV Mysteries  \n",
       "3  ,?TV-PG                 Children & Family Movies, Comedies  \n",
       "4  ,?TV-MA   Dramas, Independent Movies, International Movies  "
      ]
     },
     "execution_count": 5,
     "metadata": {},
     "output_type": "execute_result"
    }
   ],
   "source": [
    "df.head()"
   ]
  },
  {
   "cell_type": "code",
   "execution_count": 6,
   "id": "304b9456",
   "metadata": {},
   "outputs": [],
   "source": [
    "df['title'] = df['title'].str.strip('**')"
   ]
  },
  {
   "cell_type": "code",
   "execution_count": 7,
   "id": "3249b2f7",
   "metadata": {},
   "outputs": [],
   "source": [
    "# df.tail(50)"
   ]
  },
  {
   "cell_type": "code",
   "execution_count": 8,
   "id": "5a783a04",
   "metadata": {},
   "outputs": [],
   "source": [
    "df['type'] = df['type'].fillna('Not Mentioned')   #  Filling the null value of type column by using fillna method "
   ]
  },
  {
   "cell_type": "code",
   "execution_count": 9,
   "id": "bd4dcc9d",
   "metadata": {},
   "outputs": [
    {
     "data": {
      "text/plain": [
       "0"
      ]
     },
     "execution_count": 9,
     "metadata": {},
     "output_type": "execute_result"
    }
   ],
   "source": [
    "df['type'].isnull().sum()"
   ]
  },
  {
   "cell_type": "code",
   "execution_count": 10,
   "id": "0a0ed997",
   "metadata": {},
   "outputs": [
    {
     "data": {
      "text/plain": [
       "Index(['type', 'title', 'date_added', 'release_year', 'rating', 'listed_in'], dtype='object')"
      ]
     },
     "execution_count": 10,
     "metadata": {},
     "output_type": "execute_result"
    }
   ],
   "source": [
    "df.columns"
   ]
  },
  {
   "cell_type": "code",
   "execution_count": 11,
   "id": "ceb62635",
   "metadata": {},
   "outputs": [],
   "source": [
    "# df['title'].head(50)    # This columns looks fine"
   ]
  },
  {
   "cell_type": "code",
   "execution_count": 12,
   "id": "81fb39f6",
   "metadata": {},
   "outputs": [],
   "source": [
    "# df['date_added']  "
   ]
  },
  {
   "cell_type": "code",
   "execution_count": 13,
   "id": "8a8731c2",
   "metadata": {},
   "outputs": [
    {
     "name": "stdout",
     "output_type": "stream",
     "text": [
      "<class 'pandas.core.frame.DataFrame'>\n",
      "RangeIndex: 4001 entries, 0 to 4000\n",
      "Data columns (total 6 columns):\n",
      " #   Column        Non-Null Count  Dtype \n",
      "---  ------        --------------  ----- \n",
      " 0   type          4001 non-null   object\n",
      " 1   title         4001 non-null   object\n",
      " 2   date_added    4001 non-null   object\n",
      " 3   release_year  4001 non-null   object\n",
      " 4   rating        4001 non-null   object\n",
      " 5   listed_in     4001 non-null   object\n",
      "dtypes: object(6)\n",
      "memory usage: 187.7+ KB\n"
     ]
    }
   ],
   "source": [
    "df.info()"
   ]
  },
  {
   "cell_type": "code",
   "execution_count": 14,
   "id": "8e82c993",
   "metadata": {},
   "outputs": [],
   "source": [
    "# Now let's convert the data type of date_added column into datetime "
   ]
  },
  {
   "cell_type": "code",
   "execution_count": 15,
   "id": "d0c34115",
   "metadata": {},
   "outputs": [
    {
     "data": {
      "text/plain": [
       "0        9/25/2021\n",
       "1        9/24/2021\n",
       "2        9/24/2021\n",
       "3        9/22/2021\n",
       "4        9/24/2021\n",
       "           ...    \n",
       "3996     3/15/2017\n",
       "3997     3/14/2017\n",
       "3998    03/10/2017\n",
       "3999    03/10/2017\n",
       "4000    03/10/2017\n",
       "Name: date_added, Length: 4001, dtype: object"
      ]
     },
     "execution_count": 15,
     "metadata": {},
     "output_type": "execute_result"
    }
   ],
   "source": [
    "df.date_added"
   ]
  },
  {
   "cell_type": "code",
   "execution_count": 16,
   "id": "3617a670",
   "metadata": {},
   "outputs": [],
   "source": [
    "df['date_added'] = pd.to_datetime(df['date_added'],format = '%m/%d/%Y')"
   ]
  },
  {
   "cell_type": "code",
   "execution_count": 17,
   "id": "fae27747",
   "metadata": {},
   "outputs": [
    {
     "name": "stdout",
     "output_type": "stream",
     "text": [
      "<class 'pandas.core.frame.DataFrame'>\n",
      "RangeIndex: 4001 entries, 0 to 4000\n",
      "Data columns (total 6 columns):\n",
      " #   Column        Non-Null Count  Dtype         \n",
      "---  ------        --------------  -----         \n",
      " 0   type          4001 non-null   object        \n",
      " 1   title         4001 non-null   object        \n",
      " 2   date_added    4001 non-null   datetime64[ns]\n",
      " 3   release_year  4001 non-null   object        \n",
      " 4   rating        4001 non-null   object        \n",
      " 5   listed_in     4001 non-null   object        \n",
      "dtypes: datetime64[ns](1), object(5)\n",
      "memory usage: 187.7+ KB\n"
     ]
    }
   ],
   "source": [
    "df.info()"
   ]
  },
  {
   "cell_type": "code",
   "execution_count": 18,
   "id": "2f46b065",
   "metadata": {},
   "outputs": [
    {
     "data": {
      "text/plain": [
       "0     2020)\n",
       "1     2021C\n",
       "2     2021c\n",
       "3      2021\n",
       "4     1993S\n",
       "5     2021s\n",
       "6     2021)\n",
       "7     2019C\n",
       "8     2021S\n",
       "9      2013\n",
       "10    2014s\n",
       "11    2013c\n",
       "12     2021\n",
       "13     2021\n",
       "14    2021)\n",
       "15    2021(\n",
       "16     2021\n",
       "17    2021)\n",
       "18    2021)\n",
       "19    2019C\n",
       "20     2018\n",
       "21    2018)\n",
       "22    2018C\n",
       "23    2021S\n",
       "24     2021\n",
       "25     2020\n",
       "26    2018s\n",
       "27    2021)\n",
       "28    2021S\n",
       "29    1998(\n",
       "30     2010\n",
       "31    2013(\n",
       "32    2013(\n",
       "33    2021(\n",
       "34    2021c\n",
       "35    2021S\n",
       "36    2020)\n",
       "37    2021(\n",
       "38    2021(\n",
       "39    2021s\n",
       "40    2019(\n",
       "41    2017(\n",
       "42    2019C\n",
       "43    2019)\n",
       "44    2021s\n",
       "45    2021c\n",
       "46    2019s\n",
       "47    2020S\n",
       "48    2021S\n",
       "49     2021\n",
       "Name: release_year, dtype: object"
      ]
     },
     "execution_count": 18,
     "metadata": {},
     "output_type": "execute_result"
    }
   ],
   "source": [
    "df['release_year'].head(50)   # Now let's clean this column"
   ]
  },
  {
   "cell_type": "code",
   "execution_count": 19,
   "id": "cc9409b0",
   "metadata": {},
   "outputs": [
    {
     "name": "stderr",
     "output_type": "stream",
     "text": [
      "C:\\Users\\jamee\\AppData\\Local\\Temp\\ipykernel_20840\\3320403008.py:1: FutureWarning: The default value of regex will change from True to False in a future version. In addition, single character regular expressions will *not* be treated as literal strings when regex=True.\n",
      "  df['release_year'] = df['release_year'].str.replace('(','').str.replace(')','').str.replace('c','').str.replace('C','').str.replace('S','')\n"
     ]
    }
   ],
   "source": [
    "df['release_year'] = df['release_year'].str.replace('(','').str.replace(')','').str.replace('c','').str.replace('C','').str.replace('S','')\n"
   ]
  },
  {
   "cell_type": "code",
   "execution_count": 20,
   "id": "cc86601f",
   "metadata": {},
   "outputs": [],
   "source": [
    "df['release_year'] = df['release_year'].str.replace('s','')\n"
   ]
  },
  {
   "cell_type": "code",
   "execution_count": 21,
   "id": "fd6b2805",
   "metadata": {},
   "outputs": [
    {
     "data": {
      "text/plain": [
       "0       2020\n",
       "1       2021\n",
       "2       2021\n",
       "3       2021\n",
       "4       1993\n",
       "        ... \n",
       "3996    2001\n",
       "3997    2017\n",
       "3998    2016\n",
       "3999    2017\n",
       "4000    2013\n",
       "Name: release_year, Length: 4001, dtype: object"
      ]
     },
     "execution_count": 21,
     "metadata": {},
     "output_type": "execute_result"
    }
   ],
   "source": [
    "df['release_year']  # Now this column is finally cleaned "
   ]
  },
  {
   "cell_type": "code",
   "execution_count": 22,
   "id": "d0ab239c",
   "metadata": {},
   "outputs": [
    {
     "data": {
      "text/plain": [
       "Index(['type', 'title', 'date_added', 'release_year', 'rating', 'listed_in'], dtype='object')"
      ]
     },
     "execution_count": 22,
     "metadata": {},
     "output_type": "execute_result"
    }
   ],
   "source": [
    "df.columns"
   ]
  },
  {
   "cell_type": "code",
   "execution_count": 23,
   "id": "0b9fe118",
   "metadata": {},
   "outputs": [
    {
     "data": {
      "text/plain": [
       "0       ,?PG-13\n",
       "1       ,?TV-MA\n",
       "2       ,?TV-MA\n",
       "3       ,?TV-PG\n",
       "4       ,?TV-MA\n",
       "         ...   \n",
       "3996    ,?TV-14\n",
       "3997    ,?TV-MA\n",
       "3998    ,?TV-MA\n",
       "3999    ,?TV-MA\n",
       "4000    ,?TV-PG\n",
       "Name: rating, Length: 4001, dtype: object"
      ]
     },
     "execution_count": 23,
     "metadata": {},
     "output_type": "execute_result"
    }
   ],
   "source": [
    "df['rating']    # Now let's clean this column"
   ]
  },
  {
   "cell_type": "code",
   "execution_count": 24,
   "id": "51f3493d",
   "metadata": {},
   "outputs": [
    {
     "name": "stderr",
     "output_type": "stream",
     "text": [
      "C:\\Users\\jamee\\AppData\\Local\\Temp\\ipykernel_20840\\2815540519.py:1: FutureWarning: The default value of regex will change from True to False in a future version. In addition, single character regular expressions will *not* be treated as literal strings when regex=True.\n",
      "  df['rating'] = df['rating'].str.replace(',','').str.replace('?','')\n"
     ]
    }
   ],
   "source": [
    "df['rating'] = df['rating'].str.replace(',','').str.replace('?','')\n"
   ]
  },
  {
   "cell_type": "code",
   "execution_count": 25,
   "id": "c325ec17",
   "metadata": {},
   "outputs": [],
   "source": [
    "# df['rating'].head(50)"
   ]
  },
  {
   "cell_type": "code",
   "execution_count": 26,
   "id": "d20fd5ca",
   "metadata": {},
   "outputs": [],
   "source": [
    "# df['rating'].tail(50)"
   ]
  },
  {
   "cell_type": "code",
   "execution_count": 27,
   "id": "2e7a5e78",
   "metadata": {},
   "outputs": [
    {
     "data": {
      "text/plain": [
       "Index(['type', 'title', 'date_added', 'release_year', 'rating', 'listed_in'], dtype='object')"
      ]
     },
     "execution_count": 27,
     "metadata": {},
     "output_type": "execute_result"
    }
   ],
   "source": [
    "df.columns"
   ]
  },
  {
   "cell_type": "code",
   "execution_count": 28,
   "id": "bfa1556b",
   "metadata": {},
   "outputs": [
    {
     "data": {
      "text/html": [
       "<div>\n",
       "<style scoped>\n",
       "    .dataframe tbody tr th:only-of-type {\n",
       "        vertical-align: middle;\n",
       "    }\n",
       "\n",
       "    .dataframe tbody tr th {\n",
       "        vertical-align: top;\n",
       "    }\n",
       "\n",
       "    .dataframe thead th {\n",
       "        text-align: right;\n",
       "    }\n",
       "</style>\n",
       "<table border=\"1\" class=\"dataframe\">\n",
       "  <thead>\n",
       "    <tr style=\"text-align: right;\">\n",
       "      <th></th>\n",
       "      <th>type</th>\n",
       "      <th>title</th>\n",
       "      <th>date_added</th>\n",
       "      <th>release_year</th>\n",
       "      <th>rating</th>\n",
       "      <th>listed_in</th>\n",
       "    </tr>\n",
       "  </thead>\n",
       "  <tbody>\n",
       "    <tr>\n",
       "      <th>0</th>\n",
       "      <td>Movie</td>\n",
       "      <td>Dick Johnson Is Dead</td>\n",
       "      <td>2021-09-25</td>\n",
       "      <td>2020</td>\n",
       "      <td>PG-13</td>\n",
       "      <td>Documentaries</td>\n",
       "    </tr>\n",
       "    <tr>\n",
       "      <th>1</th>\n",
       "      <td>TV Show</td>\n",
       "      <td>Ganglands</td>\n",
       "      <td>2021-09-24</td>\n",
       "      <td>2021</td>\n",
       "      <td>TV-MA</td>\n",
       "      <td>Crime TV Shows, International TV Shows, TV Act...</td>\n",
       "    </tr>\n",
       "    <tr>\n",
       "      <th>2</th>\n",
       "      <td>TV Show</td>\n",
       "      <td>Midnight Mass</td>\n",
       "      <td>2021-09-24</td>\n",
       "      <td>2021</td>\n",
       "      <td>TV-MA</td>\n",
       "      <td>TV Dramas, TV Horror, TV Mysteries</td>\n",
       "    </tr>\n",
       "    <tr>\n",
       "      <th>3</th>\n",
       "      <td>Movie</td>\n",
       "      <td>Confessions of an Invisible Girl</td>\n",
       "      <td>2021-09-22</td>\n",
       "      <td>2021</td>\n",
       "      <td>TV-PG</td>\n",
       "      <td>Children &amp; Family Movies, Comedies</td>\n",
       "    </tr>\n",
       "    <tr>\n",
       "      <th>4</th>\n",
       "      <td>Movie</td>\n",
       "      <td>Sankofa</td>\n",
       "      <td>2021-09-24</td>\n",
       "      <td>1993</td>\n",
       "      <td>TV-MA</td>\n",
       "      <td>Dramas, Independent Movies, International Movies</td>\n",
       "    </tr>\n",
       "  </tbody>\n",
       "</table>\n",
       "</div>"
      ],
      "text/plain": [
       "      type                             title date_added release_year rating  \\\n",
       "0    Movie              Dick Johnson Is Dead 2021-09-25         2020  PG-13   \n",
       "1  TV Show                         Ganglands 2021-09-24         2021  TV-MA   \n",
       "2  TV Show                     Midnight Mass 2021-09-24         2021  TV-MA   \n",
       "3    Movie  Confessions of an Invisible Girl 2021-09-22         2021  TV-PG   \n",
       "4    Movie                           Sankofa 2021-09-24         1993  TV-MA   \n",
       "\n",
       "                                           listed_in  \n",
       "0                                      Documentaries  \n",
       "1  Crime TV Shows, International TV Shows, TV Act...  \n",
       "2                 TV Dramas, TV Horror, TV Mysteries  \n",
       "3                 Children & Family Movies, Comedies  \n",
       "4   Dramas, Independent Movies, International Movies  "
      ]
     },
     "execution_count": 28,
     "metadata": {},
     "output_type": "execute_result"
    }
   ],
   "source": [
    "df.head()"
   ]
  },
  {
   "cell_type": "code",
   "execution_count": 29,
   "id": "05c212d4",
   "metadata": {},
   "outputs": [],
   "source": [
    "method = df['listed_in'].str.split(' ',expand = True)[0]"
   ]
  },
  {
   "cell_type": "code",
   "execution_count": 30,
   "id": "30dbad0f",
   "metadata": {},
   "outputs": [],
   "source": [
    "df.insert(6,'Method',method)"
   ]
  },
  {
   "cell_type": "code",
   "execution_count": 31,
   "id": "928c2e3e",
   "metadata": {},
   "outputs": [
    {
     "data": {
      "text/html": [
       "<div>\n",
       "<style scoped>\n",
       "    .dataframe tbody tr th:only-of-type {\n",
       "        vertical-align: middle;\n",
       "    }\n",
       "\n",
       "    .dataframe tbody tr th {\n",
       "        vertical-align: top;\n",
       "    }\n",
       "\n",
       "    .dataframe thead th {\n",
       "        text-align: right;\n",
       "    }\n",
       "</style>\n",
       "<table border=\"1\" class=\"dataframe\">\n",
       "  <thead>\n",
       "    <tr style=\"text-align: right;\">\n",
       "      <th></th>\n",
       "      <th>type</th>\n",
       "      <th>title</th>\n",
       "      <th>date_added</th>\n",
       "      <th>release_year</th>\n",
       "      <th>rating</th>\n",
       "      <th>listed_in</th>\n",
       "      <th>Method</th>\n",
       "    </tr>\n",
       "  </thead>\n",
       "  <tbody>\n",
       "    <tr>\n",
       "      <th>0</th>\n",
       "      <td>Movie</td>\n",
       "      <td>Dick Johnson Is Dead</td>\n",
       "      <td>2021-09-25</td>\n",
       "      <td>2020</td>\n",
       "      <td>PG-13</td>\n",
       "      <td>Documentaries</td>\n",
       "      <td>Documentaries</td>\n",
       "    </tr>\n",
       "    <tr>\n",
       "      <th>1</th>\n",
       "      <td>TV Show</td>\n",
       "      <td>Ganglands</td>\n",
       "      <td>2021-09-24</td>\n",
       "      <td>2021</td>\n",
       "      <td>TV-MA</td>\n",
       "      <td>Crime TV Shows, International TV Shows, TV Act...</td>\n",
       "      <td>Crime</td>\n",
       "    </tr>\n",
       "    <tr>\n",
       "      <th>2</th>\n",
       "      <td>TV Show</td>\n",
       "      <td>Midnight Mass</td>\n",
       "      <td>2021-09-24</td>\n",
       "      <td>2021</td>\n",
       "      <td>TV-MA</td>\n",
       "      <td>TV Dramas, TV Horror, TV Mysteries</td>\n",
       "      <td>TV</td>\n",
       "    </tr>\n",
       "    <tr>\n",
       "      <th>3</th>\n",
       "      <td>Movie</td>\n",
       "      <td>Confessions of an Invisible Girl</td>\n",
       "      <td>2021-09-22</td>\n",
       "      <td>2021</td>\n",
       "      <td>TV-PG</td>\n",
       "      <td>Children &amp; Family Movies, Comedies</td>\n",
       "      <td>Children</td>\n",
       "    </tr>\n",
       "    <tr>\n",
       "      <th>4</th>\n",
       "      <td>Movie</td>\n",
       "      <td>Sankofa</td>\n",
       "      <td>2021-09-24</td>\n",
       "      <td>1993</td>\n",
       "      <td>TV-MA</td>\n",
       "      <td>Dramas, Independent Movies, International Movies</td>\n",
       "      <td>Dramas,</td>\n",
       "    </tr>\n",
       "  </tbody>\n",
       "</table>\n",
       "</div>"
      ],
      "text/plain": [
       "      type                             title date_added release_year rating  \\\n",
       "0    Movie              Dick Johnson Is Dead 2021-09-25         2020  PG-13   \n",
       "1  TV Show                         Ganglands 2021-09-24         2021  TV-MA   \n",
       "2  TV Show                     Midnight Mass 2021-09-24         2021  TV-MA   \n",
       "3    Movie  Confessions of an Invisible Girl 2021-09-22         2021  TV-PG   \n",
       "4    Movie                           Sankofa 2021-09-24         1993  TV-MA   \n",
       "\n",
       "                                           listed_in         Method  \n",
       "0                                      Documentaries  Documentaries  \n",
       "1  Crime TV Shows, International TV Shows, TV Act...          Crime  \n",
       "2                 TV Dramas, TV Horror, TV Mysteries             TV  \n",
       "3                 Children & Family Movies, Comedies       Children  \n",
       "4   Dramas, Independent Movies, International Movies        Dramas,  "
      ]
     },
     "execution_count": 31,
     "metadata": {},
     "output_type": "execute_result"
    }
   ],
   "source": [
    "df.head()"
   ]
  },
  {
   "cell_type": "code",
   "execution_count": 32,
   "id": "330ba3df",
   "metadata": {},
   "outputs": [],
   "source": [
    "# Now let's seperate day, month and year and put it in seperate columns"
   ]
  },
  {
   "cell_type": "code",
   "execution_count": 36,
   "id": "6abaec77",
   "metadata": {},
   "outputs": [],
   "source": [
    "year = pd.DatetimeIndex(df['date_added']).year\n",
    "month = pd.DatetimeIndex(df['date_added']).month\n",
    "day = pd.DatetimeIndex(df['date_added']).day"
   ]
  },
  {
   "cell_type": "code",
   "execution_count": 37,
   "id": "1b98231d",
   "metadata": {},
   "outputs": [],
   "source": [
    "df.insert(4,'Year',year)\n",
    "df.insert(5,'Month',month)\n",
    "df.insert(6,'Day',day)\n"
   ]
  },
  {
   "cell_type": "code",
   "execution_count": 38,
   "id": "5da70b2b",
   "metadata": {},
   "outputs": [
    {
     "data": {
      "text/html": [
       "<div>\n",
       "<style scoped>\n",
       "    .dataframe tbody tr th:only-of-type {\n",
       "        vertical-align: middle;\n",
       "    }\n",
       "\n",
       "    .dataframe tbody tr th {\n",
       "        vertical-align: top;\n",
       "    }\n",
       "\n",
       "    .dataframe thead th {\n",
       "        text-align: right;\n",
       "    }\n",
       "</style>\n",
       "<table border=\"1\" class=\"dataframe\">\n",
       "  <thead>\n",
       "    <tr style=\"text-align: right;\">\n",
       "      <th></th>\n",
       "      <th>type</th>\n",
       "      <th>title</th>\n",
       "      <th>date_added</th>\n",
       "      <th>release_year</th>\n",
       "      <th>Year</th>\n",
       "      <th>Month</th>\n",
       "      <th>Day</th>\n",
       "      <th>rating</th>\n",
       "      <th>listed_in</th>\n",
       "      <th>Method</th>\n",
       "    </tr>\n",
       "  </thead>\n",
       "  <tbody>\n",
       "    <tr>\n",
       "      <th>0</th>\n",
       "      <td>Movie</td>\n",
       "      <td>Dick Johnson Is Dead</td>\n",
       "      <td>2021-09-25</td>\n",
       "      <td>2020</td>\n",
       "      <td>2021</td>\n",
       "      <td>9</td>\n",
       "      <td>25</td>\n",
       "      <td>PG-13</td>\n",
       "      <td>Documentaries</td>\n",
       "      <td>Documentaries</td>\n",
       "    </tr>\n",
       "    <tr>\n",
       "      <th>1</th>\n",
       "      <td>TV Show</td>\n",
       "      <td>Ganglands</td>\n",
       "      <td>2021-09-24</td>\n",
       "      <td>2021</td>\n",
       "      <td>2021</td>\n",
       "      <td>9</td>\n",
       "      <td>24</td>\n",
       "      <td>TV-MA</td>\n",
       "      <td>Crime TV Shows, International TV Shows, TV Act...</td>\n",
       "      <td>Crime</td>\n",
       "    </tr>\n",
       "    <tr>\n",
       "      <th>2</th>\n",
       "      <td>TV Show</td>\n",
       "      <td>Midnight Mass</td>\n",
       "      <td>2021-09-24</td>\n",
       "      <td>2021</td>\n",
       "      <td>2021</td>\n",
       "      <td>9</td>\n",
       "      <td>24</td>\n",
       "      <td>TV-MA</td>\n",
       "      <td>TV Dramas, TV Horror, TV Mysteries</td>\n",
       "      <td>TV</td>\n",
       "    </tr>\n",
       "    <tr>\n",
       "      <th>3</th>\n",
       "      <td>Movie</td>\n",
       "      <td>Confessions of an Invisible Girl</td>\n",
       "      <td>2021-09-22</td>\n",
       "      <td>2021</td>\n",
       "      <td>2021</td>\n",
       "      <td>9</td>\n",
       "      <td>22</td>\n",
       "      <td>TV-PG</td>\n",
       "      <td>Children &amp; Family Movies, Comedies</td>\n",
       "      <td>Children</td>\n",
       "    </tr>\n",
       "    <tr>\n",
       "      <th>4</th>\n",
       "      <td>Movie</td>\n",
       "      <td>Sankofa</td>\n",
       "      <td>2021-09-24</td>\n",
       "      <td>1993</td>\n",
       "      <td>2021</td>\n",
       "      <td>9</td>\n",
       "      <td>24</td>\n",
       "      <td>TV-MA</td>\n",
       "      <td>Dramas, Independent Movies, International Movies</td>\n",
       "      <td>Dramas,</td>\n",
       "    </tr>\n",
       "    <tr>\n",
       "      <th>...</th>\n",
       "      <td>...</td>\n",
       "      <td>...</td>\n",
       "      <td>...</td>\n",
       "      <td>...</td>\n",
       "      <td>...</td>\n",
       "      <td>...</td>\n",
       "      <td>...</td>\n",
       "      <td>...</td>\n",
       "      <td>...</td>\n",
       "      <td>...</td>\n",
       "    </tr>\n",
       "    <tr>\n",
       "      <th>3996</th>\n",
       "      <td>Movie</td>\n",
       "      <td>One 2 Ka 4</td>\n",
       "      <td>2017-03-15</td>\n",
       "      <td>2001</td>\n",
       "      <td>2017</td>\n",
       "      <td>3</td>\n",
       "      <td>15</td>\n",
       "      <td>TV-14</td>\n",
       "      <td>Action &amp; Adventure, Comedies, Dramas</td>\n",
       "      <td>Action</td>\n",
       "    </tr>\n",
       "    <tr>\n",
       "      <th>3997</th>\n",
       "      <td>Movie</td>\n",
       "      <td>Jim Norton: Mouthful of Shame</td>\n",
       "      <td>2017-03-14</td>\n",
       "      <td>2017</td>\n",
       "      <td>2017</td>\n",
       "      <td>3</td>\n",
       "      <td>14</td>\n",
       "      <td>TV-MA</td>\n",
       "      <td>Stand-Up Comedy</td>\n",
       "      <td>Stand-Up</td>\n",
       "    </tr>\n",
       "    <tr>\n",
       "      <th>3998</th>\n",
       "      <td>Movie</td>\n",
       "      <td>100 Meters</td>\n",
       "      <td>2017-03-10</td>\n",
       "      <td>2016</td>\n",
       "      <td>2017</td>\n",
       "      <td>3</td>\n",
       "      <td>10</td>\n",
       "      <td>TV-MA</td>\n",
       "      <td>Dramas, International Movies, Sports Movies</td>\n",
       "      <td>Dramas,</td>\n",
       "    </tr>\n",
       "    <tr>\n",
       "      <th>3999</th>\n",
       "      <td>Movie</td>\n",
       "      <td>Burning Sands</td>\n",
       "      <td>2017-03-10</td>\n",
       "      <td>2017</td>\n",
       "      <td>2017</td>\n",
       "      <td>3</td>\n",
       "      <td>10</td>\n",
       "      <td>TV-MA</td>\n",
       "      <td>Dramas, Independent Movies</td>\n",
       "      <td>Dramas,</td>\n",
       "    </tr>\n",
       "    <tr>\n",
       "      <th>4000</th>\n",
       "      <td>Movie</td>\n",
       "      <td>The Butterfly's Dream</td>\n",
       "      <td>2017-03-10</td>\n",
       "      <td>2013</td>\n",
       "      <td>2017</td>\n",
       "      <td>3</td>\n",
       "      <td>10</td>\n",
       "      <td>TV-PG</td>\n",
       "      <td>Dramas, International Movies, Romantic Movies</td>\n",
       "      <td>Dramas,</td>\n",
       "    </tr>\n",
       "  </tbody>\n",
       "</table>\n",
       "<p>4001 rows × 10 columns</p>\n",
       "</div>"
      ],
      "text/plain": [
       "         type                             title date_added release_year  Year  \\\n",
       "0       Movie              Dick Johnson Is Dead 2021-09-25         2020  2021   \n",
       "1     TV Show                         Ganglands 2021-09-24         2021  2021   \n",
       "2     TV Show                     Midnight Mass 2021-09-24         2021  2021   \n",
       "3       Movie  Confessions of an Invisible Girl 2021-09-22         2021  2021   \n",
       "4       Movie                           Sankofa 2021-09-24         1993  2021   \n",
       "...       ...                               ...        ...          ...   ...   \n",
       "3996    Movie                        One 2 Ka 4 2017-03-15         2001  2017   \n",
       "3997    Movie     Jim Norton: Mouthful of Shame 2017-03-14         2017  2017   \n",
       "3998    Movie                        100 Meters 2017-03-10         2016  2017   \n",
       "3999    Movie                     Burning Sands 2017-03-10         2017  2017   \n",
       "4000    Movie             The Butterfly's Dream 2017-03-10         2013  2017   \n",
       "\n",
       "      Month  Day rating                                          listed_in  \\\n",
       "0         9   25  PG-13                                      Documentaries   \n",
       "1         9   24  TV-MA  Crime TV Shows, International TV Shows, TV Act...   \n",
       "2         9   24  TV-MA                 TV Dramas, TV Horror, TV Mysteries   \n",
       "3         9   22  TV-PG                 Children & Family Movies, Comedies   \n",
       "4         9   24  TV-MA   Dramas, Independent Movies, International Movies   \n",
       "...     ...  ...    ...                                                ...   \n",
       "3996      3   15  TV-14               Action & Adventure, Comedies, Dramas   \n",
       "3997      3   14  TV-MA                                    Stand-Up Comedy   \n",
       "3998      3   10  TV-MA        Dramas, International Movies, Sports Movies   \n",
       "3999      3   10  TV-MA                         Dramas, Independent Movies   \n",
       "4000      3   10  TV-PG      Dramas, International Movies, Romantic Movies   \n",
       "\n",
       "             Method  \n",
       "0     Documentaries  \n",
       "1             Crime  \n",
       "2                TV  \n",
       "3          Children  \n",
       "4           Dramas,  \n",
       "...             ...  \n",
       "3996         Action  \n",
       "3997       Stand-Up  \n",
       "3998        Dramas,  \n",
       "3999        Dramas,  \n",
       "4000        Dramas,  \n",
       "\n",
       "[4001 rows x 10 columns]"
      ]
     },
     "execution_count": 38,
     "metadata": {},
     "output_type": "execute_result"
    }
   ],
   "source": [
    "df"
   ]
  },
  {
   "cell_type": "code",
   "execution_count": 39,
   "id": "d4ca119c",
   "metadata": {},
   "outputs": [],
   "source": [
    "final_result = df"
   ]
  },
  {
   "cell_type": "code",
   "execution_count": null,
   "id": "1ffbe771",
   "metadata": {},
   "outputs": [],
   "source": [
    "final_resu"
   ]
  }
 ],
 "metadata": {
  "kernelspec": {
   "display_name": "Python 3 (ipykernel)",
   "language": "python",
   "name": "python3"
  },
  "language_info": {
   "codemirror_mode": {
    "name": "ipython",
    "version": 3
   },
   "file_extension": ".py",
   "mimetype": "text/x-python",
   "name": "python",
   "nbconvert_exporter": "python",
   "pygments_lexer": "ipython3",
   "version": "3.11.2"
  }
 },
 "nbformat": 4,
 "nbformat_minor": 5
}

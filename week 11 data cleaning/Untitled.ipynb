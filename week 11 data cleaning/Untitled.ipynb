{
 "cells": [
  {
   "cell_type": "code",
   "execution_count": 3,
   "id": "704ad736",
   "metadata": {},
   "outputs": [
    {
     "name": "stdout",
     "output_type": "stream",
     "text": [
      "Question 1. Who won the 2018 FIFA world cup:?\n",
      "f\n",
      "Sorry, the correct answer is France.\n",
      "Question 2. Which country did not qualify for the 2018 FIFA World Cup:?\n",
      "h\n",
      "Sorry, the correct answer is Italy.\n",
      "Question 3. Where was the 2018 FIFA World Cup held:?\n",
      "j\n",
      "Sorry, the correct answer is Russia.\n",
      "Question 4. Who is the best player:?\n",
      "a\n",
      "Sorry, the correct answer is CR7.\n",
      "Question 5. Fifa WorldCup 2022 is scheduled at : ?\n",
      "f\n",
      "Sorry, the correct answer is Qatar.\n"
     ]
    }
   ],
   "source": [
    "class Question:\n",
    "\n",
    "  def __init__(self, questionText, answer):\n",
    "\n",
    "    self.questionText = questionText\n",
    "    self.answer = answer\n",
    "\n",
    "#   def _repr_(self):\n",
    "\n",
    "\n",
    "#     return '{'+ self.questionText +', '+ self.answer +'}'\n",
    "\n",
    "quizQuestions = [\n",
    "Question(\"Question 1. Who won the 2018 FIFA world cup:\", \"France\"),\n",
    "Question(\"Question 2. Which country did not qualify for the 2018 FIFA World Cup:\", \"Italy\"),\n",
    "Question(\"Question 3. Where was the 2018 FIFA World Cup held:\", \"Russia\"),\n",
    "Question(\"Question 4. Who is the best player:\", \"CR7\" or \"Lionel Messi\"),\n",
    "Question(\"Question 5. Fifa WorldCup 2022 is scheduled at : \", \"Qatar\")\n",
    "\n",
    "]\n",
    "\n",
    "for question in quizQuestions:\n",
    "\n",
    "\n",
    "  print(f\"{question.questionText}?\")\n",
    "  userInput = input()\n",
    "  if (userInput.lower() == question.answer.lower()):\n",
    "    print(\"Ture!\")\n",
    "  else:\n",
    "    print(f\"Sorry, the correct answer is {question.answer}.\")"
   ]
  },
  {
   "cell_type": "markdown",
   "id": "bf0f6cf0",
   "metadata": {},
   "source": []
  },
  {
   "cell_type": "code",
   "execution_count": 2,
   "id": "54b0aafb",
   "metadata": {},
   "outputs": [
    {
     "name": "stdout",
     "output_type": "stream",
     "text": [
      "Jameel\n"
     ]
    }
   ],
   "source": [
    "print('Jameel')"
   ]
  },
  {
   "cell_type": "code",
   "execution_count": null,
   "id": "b9ce49c4",
   "metadata": {},
   "outputs": [],
   "source": []
  }
 ],
 "metadata": {
  "kernelspec": {
   "display_name": "Python 3 (ipykernel)",
   "language": "python",
   "name": "python3"
  },
  "language_info": {
   "codemirror_mode": {
    "name": "ipython",
    "version": 3
   },
   "file_extension": ".py",
   "mimetype": "text/x-python",
   "name": "python",
   "nbconvert_exporter": "python",
   "pygments_lexer": "ipython3",
   "version": "3.9.12"
  }
 },
 "nbformat": 4,
 "nbformat_minor": 5
}

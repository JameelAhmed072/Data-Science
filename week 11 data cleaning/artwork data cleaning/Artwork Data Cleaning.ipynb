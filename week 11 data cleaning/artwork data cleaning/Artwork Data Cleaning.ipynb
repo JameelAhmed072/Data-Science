{
 "cells": [
  {
   "cell_type": "code",
   "execution_count": 1,
   "id": "15e3add5",
   "metadata": {},
   "outputs": [],
   "source": [
    "import pandas as pd"
   ]
  },
  {
   "cell_type": "code",
   "execution_count": 2,
   "id": "0978d2c1",
   "metadata": {},
   "outputs": [],
   "source": [
    "df=pd.read_csv('artworks.csv')"
   ]
  },
  {
   "cell_type": "code",
   "execution_count": 3,
   "id": "a25df867",
   "metadata": {},
   "outputs": [
    {
     "data": {
      "text/html": [
       "<div>\n",
       "<style scoped>\n",
       "    .dataframe tbody tr th:only-of-type {\n",
       "        vertical-align: middle;\n",
       "    }\n",
       "\n",
       "    .dataframe tbody tr th {\n",
       "        vertical-align: top;\n",
       "    }\n",
       "\n",
       "    .dataframe thead th {\n",
       "        text-align: right;\n",
       "    }\n",
       "</style>\n",
       "<table border=\"1\" class=\"dataframe\">\n",
       "  <thead>\n",
       "    <tr style=\"text-align: right;\">\n",
       "      <th></th>\n",
       "      <th>Title</th>\n",
       "      <th>Artist</th>\n",
       "      <th>Nationality</th>\n",
       "      <th>BeginDate</th>\n",
       "      <th>EndDate</th>\n",
       "      <th>Gender</th>\n",
       "      <th>Date</th>\n",
       "      <th>Department</th>\n",
       "    </tr>\n",
       "  </thead>\n",
       "  <tbody>\n",
       "    <tr>\n",
       "      <th>0</th>\n",
       "      <td>Dress MacLeod from Tartan Sets</td>\n",
       "      <td>Sarah Charlesworth</td>\n",
       "      <td>(American)</td>\n",
       "      <td>(1947)</td>\n",
       "      <td>(2013)</td>\n",
       "      <td>(Female)</td>\n",
       "      <td>1986</td>\n",
       "      <td>Prints &amp; Illustrated Books</td>\n",
       "    </tr>\n",
       "    <tr>\n",
       "      <th>1</th>\n",
       "      <td>Duplicate of plate from folio 11 verso (supple...</td>\n",
       "      <td>Pablo Palazuelo</td>\n",
       "      <td>(Spanish)</td>\n",
       "      <td>(1916)</td>\n",
       "      <td>(2007)</td>\n",
       "      <td>(Male)</td>\n",
       "      <td>1978</td>\n",
       "      <td>Prints &amp; Illustrated Books</td>\n",
       "    </tr>\n",
       "    <tr>\n",
       "      <th>2</th>\n",
       "      <td>Tailpiece (page 55) from SAGESSE</td>\n",
       "      <td>Maurice Denis</td>\n",
       "      <td>(French)</td>\n",
       "      <td>(1870)</td>\n",
       "      <td>(1943)</td>\n",
       "      <td>(Male)</td>\n",
       "      <td>1889-1911</td>\n",
       "      <td>Prints &amp; Illustrated Books</td>\n",
       "    </tr>\n",
       "    <tr>\n",
       "      <th>3</th>\n",
       "      <td>Headpiece (page 129) from LIVRET DE FOLASTRIES...</td>\n",
       "      <td>Aristide Maillol</td>\n",
       "      <td>(French)</td>\n",
       "      <td>(1861)</td>\n",
       "      <td>(1944)</td>\n",
       "      <td>(Male)</td>\n",
       "      <td>1927-1940</td>\n",
       "      <td>Prints &amp; Illustrated Books</td>\n",
       "    </tr>\n",
       "    <tr>\n",
       "      <th>4</th>\n",
       "      <td>97 rue du Bac</td>\n",
       "      <td>Eugène Atget</td>\n",
       "      <td>(French)</td>\n",
       "      <td>(1857)</td>\n",
       "      <td>(1927)</td>\n",
       "      <td>(Male)</td>\n",
       "      <td>1903</td>\n",
       "      <td>Photography</td>\n",
       "    </tr>\n",
       "    <tr>\n",
       "      <th>...</th>\n",
       "      <td>...</td>\n",
       "      <td>...</td>\n",
       "      <td>...</td>\n",
       "      <td>...</td>\n",
       "      <td>...</td>\n",
       "      <td>...</td>\n",
       "      <td>...</td>\n",
       "      <td>...</td>\n",
       "    </tr>\n",
       "    <tr>\n",
       "      <th>16724</th>\n",
       "      <td>Oval with Points</td>\n",
       "      <td>Henry Moore</td>\n",
       "      <td>(British)</td>\n",
       "      <td>(1898)</td>\n",
       "      <td>(1986)</td>\n",
       "      <td>(Male)</td>\n",
       "      <td>1968-1969</td>\n",
       "      <td>Painting &amp; Sculpture</td>\n",
       "    </tr>\n",
       "    <tr>\n",
       "      <th>16725</th>\n",
       "      <td>Cementerio de la Ciudad Abierta, Ritoque, Chile</td>\n",
       "      <td>Juan Baixas</td>\n",
       "      <td>(Chilean)</td>\n",
       "      <td>(1942)</td>\n",
       "      <td>NaN</td>\n",
       "      <td>(Male)</td>\n",
       "      <td>1975</td>\n",
       "      <td>Architecture &amp; Design</td>\n",
       "    </tr>\n",
       "    <tr>\n",
       "      <th>16726</th>\n",
       "      <td>The Catboat</td>\n",
       "      <td>Edward Hopper</td>\n",
       "      <td>(American)</td>\n",
       "      <td>(1882)</td>\n",
       "      <td>(1967)</td>\n",
       "      <td>(Male)</td>\n",
       "      <td>1922</td>\n",
       "      <td>Prints &amp; Illustrated Books</td>\n",
       "    </tr>\n",
       "    <tr>\n",
       "      <th>16727</th>\n",
       "      <td>Dognat' i peregnat' v tekhniko-ekonomicheskom ...</td>\n",
       "      <td>Unknown</td>\n",
       "      <td>()</td>\n",
       "      <td>NaN</td>\n",
       "      <td>NaN</td>\n",
       "      <td>()</td>\n",
       "      <td>1931</td>\n",
       "      <td>Prints &amp; Illustrated Books</td>\n",
       "    </tr>\n",
       "    <tr>\n",
       "      <th>16728</th>\n",
       "      <td>Plate (page 11) from The Dive</td>\n",
       "      <td>Alex Katz</td>\n",
       "      <td>(American)</td>\n",
       "      <td>(1927)</td>\n",
       "      <td>NaN</td>\n",
       "      <td>(Male)</td>\n",
       "      <td>2011</td>\n",
       "      <td>Prints &amp; Illustrated Books</td>\n",
       "    </tr>\n",
       "  </tbody>\n",
       "</table>\n",
       "<p>16729 rows × 8 columns</p>\n",
       "</div>"
      ],
      "text/plain": [
       "                                                   Title              Artist  \\\n",
       "0                         Dress MacLeod from Tartan Sets  Sarah Charlesworth   \n",
       "1      Duplicate of plate from folio 11 verso (supple...     Pablo Palazuelo   \n",
       "2                       Tailpiece (page 55) from SAGESSE       Maurice Denis   \n",
       "3      Headpiece (page 129) from LIVRET DE FOLASTRIES...    Aristide Maillol   \n",
       "4                                          97 rue du Bac        Eugène Atget   \n",
       "...                                                  ...                 ...   \n",
       "16724                                   Oval with Points         Henry Moore   \n",
       "16725    Cementerio de la Ciudad Abierta, Ritoque, Chile         Juan Baixas   \n",
       "16726                                        The Catboat       Edward Hopper   \n",
       "16727  Dognat' i peregnat' v tekhniko-ekonomicheskom ...             Unknown   \n",
       "16728                      Plate (page 11) from The Dive           Alex Katz   \n",
       "\n",
       "      Nationality BeginDate EndDate    Gender       Date  \\\n",
       "0      (American)    (1947)  (2013)  (Female)       1986   \n",
       "1       (Spanish)    (1916)  (2007)    (Male)       1978   \n",
       "2        (French)    (1870)  (1943)    (Male)  1889-1911   \n",
       "3        (French)    (1861)  (1944)    (Male)  1927-1940   \n",
       "4        (French)    (1857)  (1927)    (Male)       1903   \n",
       "...           ...       ...     ...       ...        ...   \n",
       "16724   (British)    (1898)  (1986)    (Male)  1968-1969   \n",
       "16725   (Chilean)    (1942)     NaN    (Male)       1975   \n",
       "16726  (American)    (1882)  (1967)    (Male)       1922   \n",
       "16727          ()       NaN     NaN        ()       1931   \n",
       "16728  (American)    (1927)     NaN    (Male)       2011   \n",
       "\n",
       "                       Department  \n",
       "0      Prints & Illustrated Books  \n",
       "1      Prints & Illustrated Books  \n",
       "2      Prints & Illustrated Books  \n",
       "3      Prints & Illustrated Books  \n",
       "4                     Photography  \n",
       "...                           ...  \n",
       "16724        Painting & Sculpture  \n",
       "16725       Architecture & Design  \n",
       "16726  Prints & Illustrated Books  \n",
       "16727  Prints & Illustrated Books  \n",
       "16728  Prints & Illustrated Books  \n",
       "\n",
       "[16729 rows x 8 columns]"
      ]
     },
     "execution_count": 3,
     "metadata": {},
     "output_type": "execute_result"
    }
   ],
   "source": [
    "df"
   ]
  },
  {
   "cell_type": "code",
   "execution_count": 4,
   "id": "faa9a9d8",
   "metadata": {},
   "outputs": [
    {
     "data": {
      "text/plain": [
       "Index(['Title', 'Artist', 'Nationality', 'BeginDate', 'EndDate', 'Gender',\n",
       "       'Date', 'Department'],\n",
       "      dtype='object')"
      ]
     },
     "execution_count": 4,
     "metadata": {},
     "output_type": "execute_result"
    }
   ],
   "source": [
    "df.columns"
   ]
  },
  {
   "cell_type": "code",
   "execution_count": 5,
   "id": "b16c7ae2",
   "metadata": {},
   "outputs": [],
   "source": [
    "df.rename({'BeginDate':'Begin_Date'},axis=1,inplace=True)"
   ]
  },
  {
   "cell_type": "code",
   "execution_count": 6,
   "id": "26b4ab95",
   "metadata": {},
   "outputs": [],
   "source": [
    "df.rename({'EndDate':'End_Date'},axis=1,inplace=True)"
   ]
  },
  {
   "cell_type": "code",
   "execution_count": 7,
   "id": "3afd1fef",
   "metadata": {},
   "outputs": [
    {
     "name": "stderr",
     "output_type": "stream",
     "text": [
      "C:\\Users\\Jameel Ahmed\\AppData\\Local\\Temp\\ipykernel_4520\\769273427.py:1: FutureWarning: The default value of regex will change from True to False in a future version. In addition, single character regular expressions will *not* be treated as literal strings when regex=True.\n",
      "  df['Nationality']=df['Nationality'].str.replace('(','').str.replace(')','')\n"
     ]
    }
   ],
   "source": [
    "df['Nationality']=df['Nationality'].str.replace('(','').str.replace(')','')"
   ]
  },
  {
   "cell_type": "code",
   "execution_count": 8,
   "id": "4ebcea84",
   "metadata": {},
   "outputs": [
    {
     "name": "stderr",
     "output_type": "stream",
     "text": [
      "C:\\Users\\Jameel Ahmed\\AppData\\Local\\Temp\\ipykernel_4520\\494884395.py:1: FutureWarning: The default value of regex will change from True to False in a future version. In addition, single character regular expressions will *not* be treated as literal strings when regex=True.\n",
      "  df['Begin_Date']=df['Begin_Date'].str.replace('(','').str.replace(')','')\n"
     ]
    }
   ],
   "source": [
    "df['Begin_Date']=df['Begin_Date'].str.replace('(','').str.replace(')','')"
   ]
  },
  {
   "cell_type": "code",
   "execution_count": 9,
   "id": "f5aae17a",
   "metadata": {},
   "outputs": [
    {
     "name": "stderr",
     "output_type": "stream",
     "text": [
      "C:\\Users\\Jameel Ahmed\\AppData\\Local\\Temp\\ipykernel_4520\\1747363542.py:1: FutureWarning: The default value of regex will change from True to False in a future version. In addition, single character regular expressions will *not* be treated as literal strings when regex=True.\n",
      "  df['End_Date']=df['End_Date'].str.replace('(','').str.replace(')','')\n"
     ]
    }
   ],
   "source": [
    "df['End_Date']=df['End_Date'].str.replace('(','').str.replace(')','')"
   ]
  },
  {
   "cell_type": "code",
   "execution_count": 10,
   "id": "bf0a350e",
   "metadata": {},
   "outputs": [
    {
     "name": "stderr",
     "output_type": "stream",
     "text": [
      "C:\\Users\\Jameel Ahmed\\AppData\\Local\\Temp\\ipykernel_4520\\1658112910.py:1: FutureWarning: The default value of regex will change from True to False in a future version. In addition, single character regular expressions will *not* be treated as literal strings when regex=True.\n",
      "  df['Gender']=df['Gender'].str.replace('(','').str.replace(')','')\n"
     ]
    }
   ],
   "source": [
    "df['Gender']=df['Gender'].str.replace('(','').str.replace(')','')"
   ]
  },
  {
   "cell_type": "code",
   "execution_count": 11,
   "id": "8e3de11c",
   "metadata": {},
   "outputs": [
    {
     "data": {
      "text/plain": [
       "Title          object\n",
       "Artist         object\n",
       "Nationality    object\n",
       "Begin_Date     object\n",
       "End_Date       object\n",
       "Gender         object\n",
       "Date           object\n",
       "Department     object\n",
       "dtype: object"
      ]
     },
     "execution_count": 11,
     "metadata": {},
     "output_type": "execute_result"
    }
   ],
   "source": [
    "df.dtypes"
   ]
  },
  {
   "cell_type": "code",
   "execution_count": 12,
   "id": "43c523f9",
   "metadata": {},
   "outputs": [
    {
     "data": {
      "text/plain": [
       "array(['1947', '1916', '1870', '1861', '1857', '1919', '1928', '1964',\n",
       "       '1882', '1901', '1935', '1871', '1894', '1955', '1878', '1927',\n",
       "       '1936', '1867', '1932', '1886', '1938', '1926', '1898', '1868',\n",
       "       '1889', nan, '1934', '1929', '1930', '1949', '1753', '1973',\n",
       "       '1902', '1933', '1893', '1887', '1925', '1948', '1931', '1911',\n",
       "       '1943', '1954', '1843', '1966', '1957', '1903', '1909', '1890',\n",
       "       '1883', '1945', '1864', '1904', '1915', '1958', '1877', '1978',\n",
       "       '1963', '1922', '1831', '1967', '1905', '1830', '1924', '1881',\n",
       "       '1910', '1946', '1885', '1917', '1923', '1900', '2005', '1884',\n",
       "       '1913', '1880', '1874', '1941', '1977', '1862', '1852', '1950',\n",
       "       '1896', '1971', '1860', '1969', '1962', '1912', '1921', '1914',\n",
       "       '1895', '1982', '1906', '1937', '1939', '1972', '1959', '1942',\n",
       "       '1961', '1826', '1899', '1944', '1837', '1869', '1951', '1975',\n",
       "       '1908', '1974', '1891', '1940', '1820', '1873', '1892', '1876',\n",
       "       '1960', '1829', '1875', '1879', '1968', '1953', '1866', '1858',\n",
       "       '1833', '1840', '1822', '1918', '1965', '1952', '1802', '1920',\n",
       "       '1865', '1983', '1970', '1907', '1819', '1888', '2012', '1856',\n",
       "       '1897', '1976', '1956', '1816', '1746', '1849', '1801', '1832',\n",
       "       '1844', '1872', '1980', '1988', '1979', '1985', '1841', '1863',\n",
       "       '1823', '1828', '1811', '1997', '1825', '1836', '1848', '1834',\n",
       "       '1815', '1859', '1992', '1787', '1814', '1851', '1842', '1824',\n",
       "       '1813', '1796', '1798', '1981', '1845', '2010', '1808', '1853',\n",
       "       '1996', '1855', '1827', '1839', '1812', '1800', '1984', '1792',\n",
       "       '1797', '1986', '1987', '1850', '1854', '1821'], dtype=object)"
      ]
     },
     "execution_count": 12,
     "metadata": {},
     "output_type": "execute_result"
    }
   ],
   "source": [
    "df['Begin_Date'].unique()"
   ]
  },
  {
   "cell_type": "code",
   "execution_count": 12,
   "id": "043eeccc",
   "metadata": {},
   "outputs": [],
   "source": [
    "df.dropna(inplace=True)"
   ]
  },
  {
   "cell_type": "code",
   "execution_count": 13,
   "id": "29a408a7",
   "metadata": {},
   "outputs": [
    {
     "data": {
      "text/plain": [
       "Male      9050\n",
       "Female    1396\n",
       "            27\n",
       "male         1\n",
       "Name: Gender, dtype: int64"
      ]
     },
     "execution_count": 13,
     "metadata": {},
     "output_type": "execute_result"
    }
   ],
   "source": [
    "df['Gender'].value_counts()"
   ]
  },
  {
   "cell_type": "code",
   "execution_count": 14,
   "id": "08d671a3",
   "metadata": {},
   "outputs": [],
   "source": [
    "df.loc[df['Gender'] == 'male'] = 'Male'"
   ]
  },
  {
   "cell_type": "code",
   "execution_count": 15,
   "id": "20984dd7",
   "metadata": {},
   "outputs": [
    {
     "data": {
      "text/plain": [
       "Male      9051\n",
       "Female    1396\n",
       "            27\n",
       "Name: Gender, dtype: int64"
      ]
     },
     "execution_count": 15,
     "metadata": {},
     "output_type": "execute_result"
    }
   ],
   "source": [
    "df['Gender'].value_counts()"
   ]
  },
  {
   "cell_type": "code",
   "execution_count": 16,
   "id": "024c8c6f",
   "metadata": {},
   "outputs": [],
   "source": [
    "df.loc[df['Gender'] == \"\" ] = \"Unknown\""
   ]
  },
  {
   "cell_type": "code",
   "execution_count": 17,
   "id": "ec440c67",
   "metadata": {},
   "outputs": [
    {
     "data": {
      "text/plain": [
       "Male       9051\n",
       "Female     1396\n",
       "Unknown      27\n",
       "Name: Gender, dtype: int64"
      ]
     },
     "execution_count": 17,
     "metadata": {},
     "output_type": "execute_result"
    }
   ],
   "source": [
    "df['Gender'].value_counts()"
   ]
  },
  {
   "cell_type": "code",
   "execution_count": 18,
   "id": "e2023b62",
   "metadata": {},
   "outputs": [
    {
     "data": {
      "text/plain": [
       "array(['Female', 'Male', 'Unknown'], dtype=object)"
      ]
     },
     "execution_count": 18,
     "metadata": {},
     "output_type": "execute_result"
    }
   ],
   "source": [
    "df['Gender'].unique()"
   ]
  },
  {
   "cell_type": "code",
   "execution_count": 19,
   "id": "9c1706ce",
   "metadata": {},
   "outputs": [
    {
     "data": {
      "text/plain": [
       "Int64Index([  274,  2409,  2636,  2883,  3088,  3821,  3881,  4450,  5234,\n",
       "             5645,  5811,  6410,  6704,  7742,  7930,  8088,  9046,  9052,\n",
       "             9172,  9448, 10463, 11703, 12379, 12998, 13119, 16034, 16392],\n",
       "           dtype='int64')"
      ]
     },
     "execution_count": 19,
     "metadata": {},
     "output_type": "execute_result"
    }
   ],
   "source": [
    "df.loc[df['Gender'] == 'Unknown'].index"
   ]
  },
  {
   "cell_type": "code",
   "execution_count": 20,
   "id": "09418e5b",
   "metadata": {},
   "outputs": [
    {
     "name": "stderr",
     "output_type": "stream",
     "text": [
      "C:\\Users\\Jameel Ahmed\\AppData\\Local\\Temp\\ipykernel_4520\\75049368.py:1: FutureWarning: The default value of regex will change from True to False in a future version. In addition, single character regular expressions will *not* be treated as literal strings when regex=True.\n",
      "  df['Date'] = df['Date'].str.replace('c','').str.replace('s','').str.replace('S','').str.replace('.','')\n"
     ]
    }
   ],
   "source": [
    "df['Date'] = df['Date'].str.replace('c','').str.replace('s','').str.replace('S','').str.replace('.','')"
   ]
  },
  {
   "cell_type": "code",
   "execution_count": 21,
   "id": "85cfdabf",
   "metadata": {},
   "outputs": [
    {
     "name": "stderr",
     "output_type": "stream",
     "text": [
      "C:\\Users\\Jameel Ahmed\\AppData\\Local\\Temp\\ipykernel_4520\\637282021.py:1: FutureWarning: The default value of regex will change from True to False in a future version. In addition, single character regular expressions will *not* be treated as literal strings when regex=True.\n",
      "  df['Date'] = df['Date'].str.replace('(','').str.replace(')','').str.replace(\"'\",'')\n"
     ]
    }
   ],
   "source": [
    "df['Date'] = df['Date'].str.replace('(','').str.replace(')','').str.replace(\"'\",'')"
   ]
  },
  {
   "cell_type": "code",
   "execution_count": 28,
   "id": "cd23d69c",
   "metadata": {},
   "outputs": [],
   "source": [
    "df['Date'] = df['Date'].str.strip(\" \")"
   ]
  },
  {
   "cell_type": "code",
   "execution_count": 29,
   "id": "79256509",
   "metadata": {},
   "outputs": [
    {
     "data": {
      "text/plain": [
       "0             1986\n",
       "1             1978\n",
       "2        1889-1911\n",
       "3        1927-1940\n",
       "4             1903\n",
       "           ...    \n",
       "16721         1947\n",
       "16722         1936\n",
       "16723         1943\n",
       "16724    1968-1969\n",
       "16726         1922\n",
       "Name: Date, Length: 10474, dtype: object"
      ]
     },
     "execution_count": 29,
     "metadata": {},
     "output_type": "execute_result"
    }
   ],
   "source": [
    "df['Date']"
   ]
  },
  {
   "cell_type": "code",
   "execution_count": 30,
   "id": "04e71dbf",
   "metadata": {},
   "outputs": [],
   "source": [
    "temp = df.loc[:,'Date'].str.split('-')"
   ]
  },
  {
   "cell_type": "code",
   "execution_count": 31,
   "id": "844373a2",
   "metadata": {},
   "outputs": [
    {
     "data": {
      "text/plain": [
       "0              [1986]\n",
       "1              [1978]\n",
       "2        [1889, 1911]\n",
       "3        [1927, 1940]\n",
       "4              [1903]\n",
       "             ...     \n",
       "16721          [1947]\n",
       "16722          [1936]\n",
       "16723          [1943]\n",
       "16724    [1968, 1969]\n",
       "16726          [1922]\n",
       "Name: Date, Length: 10474, dtype: object"
      ]
     },
     "execution_count": 31,
     "metadata": {},
     "output_type": "execute_result"
    }
   ],
   "source": [
    "temp"
   ]
  },
  {
   "cell_type": "code",
   "execution_count": 24,
   "id": "4f34a8cd",
   "metadata": {},
   "outputs": [],
   "source": [
    "df['Date'].dropna(inplace=True)"
   ]
  },
  {
   "cell_type": "code",
   "execution_count": 32,
   "id": "f424cb47",
   "metadata": {},
   "outputs": [
    {
     "ename": "ValueError",
     "evalue": "could not convert string to float: 'Unknown'",
     "output_type": "error",
     "traceback": [
      "\u001b[1;31m---------------------------------------------------------------------------\u001b[0m",
      "\u001b[1;31mValueError\u001b[0m                                Traceback (most recent call last)",
      "Input \u001b[1;32mIn [32]\u001b[0m, in \u001b[0;36m<cell line: 2>\u001b[1;34m()\u001b[0m\n\u001b[0;32m      9\u001b[0m     dddd\u001b[38;5;241m.\u001b[39mappend(add)\n\u001b[0;32m     10\u001b[0m \u001b[38;5;28;01melse\u001b[39;00m:\n\u001b[1;32m---> 11\u001b[0m     c \u001b[38;5;241m=\u001b[39m \u001b[38;5;28;43mfloat\u001b[39;49m\u001b[43m(\u001b[49m\u001b[43mi\u001b[49m\u001b[43m[\u001b[49m\u001b[38;5;241;43m0\u001b[39;49m\u001b[43m]\u001b[49m\u001b[43m)\u001b[49m\n\u001b[0;32m     12\u001b[0m     dddd\u001b[38;5;241m.\u001b[39mappend(c)\n",
      "\u001b[1;31mValueError\u001b[0m: could not convert string to float: 'Unknown'"
     ]
    }
   ],
   "source": [
    "dddd = []\n",
    "for i in temp:\n",
    "    \n",
    "    if len(i) == 2:\n",
    "        a = float(i[0])\n",
    "        b = float(i[1])\n",
    "        add = a+b\n",
    "        add = add//2\n",
    "        dddd.append(add)\n",
    "    else:\n",
    "        c = float(i[0])\n",
    "        dddd.append(c)\n",
    "    "
   ]
  },
  {
   "cell_type": "code",
   "execution_count": null,
   "id": "c3fab245",
   "metadata": {},
   "outputs": [],
   "source": [
    "for i in dddd:\n",
    "    print(type(i))"
   ]
  },
  {
   "cell_type": "code",
   "execution_count": null,
   "id": "3195b862",
   "metadata": {},
   "outputs": [],
   "source": [
    "for i in temp:\n",
    "    print(type(i))"
   ]
  },
  {
   "cell_type": "code",
   "execution_count": 27,
   "id": "151bbdf1",
   "metadata": {},
   "outputs": [
    {
     "data": {
      "text/plain": [
       "Index(['Title', 'Artist', 'Nationality', 'Begin_Date', 'End_Date', 'Gender',\n",
       "       'Date', 'Department'],\n",
       "      dtype='object')"
      ]
     },
     "execution_count": 27,
     "metadata": {},
     "output_type": "execute_result"
    }
   ],
   "source": [
    "df.columns"
   ]
  },
  {
   "cell_type": "code",
   "execution_count": 53,
   "id": "afa693b8",
   "metadata": {},
   "outputs": [
    {
     "data": {
      "text/html": [
       "<div>\n",
       "<style scoped>\n",
       "    .dataframe tbody tr th:only-of-type {\n",
       "        vertical-align: middle;\n",
       "    }\n",
       "\n",
       "    .dataframe tbody tr th {\n",
       "        vertical-align: top;\n",
       "    }\n",
       "\n",
       "    .dataframe thead th {\n",
       "        text-align: right;\n",
       "    }\n",
       "</style>\n",
       "<table border=\"1\" class=\"dataframe\">\n",
       "  <thead>\n",
       "    <tr style=\"text-align: right;\">\n",
       "      <th></th>\n",
       "      <th>Title</th>\n",
       "      <th>Artist</th>\n",
       "      <th>Nationality</th>\n",
       "      <th>Begin_Date</th>\n",
       "      <th>End_Date</th>\n",
       "      <th>Gender</th>\n",
       "      <th>Date</th>\n",
       "      <th>Department</th>\n",
       "    </tr>\n",
       "  </thead>\n",
       "  <tbody>\n",
       "    <tr>\n",
       "      <th>0</th>\n",
       "      <td>Dress MacLeod from Tartan Sets</td>\n",
       "      <td>Sarah Charlesworth</td>\n",
       "      <td>American</td>\n",
       "      <td>1947</td>\n",
       "      <td>2013</td>\n",
       "      <td>Female</td>\n",
       "      <td>1986</td>\n",
       "      <td>Prints &amp; Illustrated Books</td>\n",
       "    </tr>\n",
       "    <tr>\n",
       "      <th>1</th>\n",
       "      <td>Duplicate of plate from folio 11 verso (supple...</td>\n",
       "      <td>Pablo Palazuelo</td>\n",
       "      <td>Spanish</td>\n",
       "      <td>1916</td>\n",
       "      <td>2007</td>\n",
       "      <td>Male</td>\n",
       "      <td>1978</td>\n",
       "      <td>Prints &amp; Illustrated Books</td>\n",
       "    </tr>\n",
       "    <tr>\n",
       "      <th>2</th>\n",
       "      <td>Tailpiece (page 55) from SAGESSE</td>\n",
       "      <td>Maurice Denis</td>\n",
       "      <td>French</td>\n",
       "      <td>1870</td>\n",
       "      <td>1943</td>\n",
       "      <td>Male</td>\n",
       "      <td>1889-1911</td>\n",
       "      <td>Prints &amp; Illustrated Books</td>\n",
       "    </tr>\n",
       "    <tr>\n",
       "      <th>3</th>\n",
       "      <td>Headpiece (page 129) from LIVRET DE FOLASTRIES...</td>\n",
       "      <td>Aristide Maillol</td>\n",
       "      <td>French</td>\n",
       "      <td>1861</td>\n",
       "      <td>1944</td>\n",
       "      <td>Male</td>\n",
       "      <td>1927-1940</td>\n",
       "      <td>Prints &amp; Illustrated Books</td>\n",
       "    </tr>\n",
       "    <tr>\n",
       "      <th>4</th>\n",
       "      <td>97 rue du Bac</td>\n",
       "      <td>Eugène Atget</td>\n",
       "      <td>French</td>\n",
       "      <td>1857</td>\n",
       "      <td>1927</td>\n",
       "      <td>Male</td>\n",
       "      <td>1903</td>\n",
       "      <td>Photography</td>\n",
       "    </tr>\n",
       "    <tr>\n",
       "      <th>...</th>\n",
       "      <td>...</td>\n",
       "      <td>...</td>\n",
       "      <td>...</td>\n",
       "      <td>...</td>\n",
       "      <td>...</td>\n",
       "      <td>...</td>\n",
       "      <td>...</td>\n",
       "      <td>...</td>\n",
       "    </tr>\n",
       "    <tr>\n",
       "      <th>16721</th>\n",
       "      <td>Plate (folio 7) from EXPLORATIONS</td>\n",
       "      <td>Henri Goetz</td>\n",
       "      <td>French</td>\n",
       "      <td>1909</td>\n",
       "      <td>1989</td>\n",
       "      <td>Male</td>\n",
       "      <td>1947</td>\n",
       "      <td>Prints &amp; Illustrated Books</td>\n",
       "    </tr>\n",
       "    <tr>\n",
       "      <th>16722</th>\n",
       "      <td>High Peak</td>\n",
       "      <td>Matthew Rackham Barnes</td>\n",
       "      <td>American</td>\n",
       "      <td>1880</td>\n",
       "      <td>1951</td>\n",
       "      <td>Male</td>\n",
       "      <td>1936</td>\n",
       "      <td>Painting &amp; Sculpture</td>\n",
       "    </tr>\n",
       "    <tr>\n",
       "      <th>16723</th>\n",
       "      <td>Picasso Sculpture (paper, skull)</td>\n",
       "      <td>Brassaï (Gyula Halász)</td>\n",
       "      <td>French</td>\n",
       "      <td>1899</td>\n",
       "      <td>1984</td>\n",
       "      <td>Male</td>\n",
       "      <td>1943</td>\n",
       "      <td>Photography</td>\n",
       "    </tr>\n",
       "    <tr>\n",
       "      <th>16724</th>\n",
       "      <td>Oval with Points</td>\n",
       "      <td>Henry Moore</td>\n",
       "      <td>British</td>\n",
       "      <td>1898</td>\n",
       "      <td>1986</td>\n",
       "      <td>Male</td>\n",
       "      <td>1968-1969</td>\n",
       "      <td>Painting &amp; Sculpture</td>\n",
       "    </tr>\n",
       "    <tr>\n",
       "      <th>16726</th>\n",
       "      <td>The Catboat</td>\n",
       "      <td>Edward Hopper</td>\n",
       "      <td>American</td>\n",
       "      <td>1882</td>\n",
       "      <td>1967</td>\n",
       "      <td>Male</td>\n",
       "      <td>1922</td>\n",
       "      <td>Prints &amp; Illustrated Books</td>\n",
       "    </tr>\n",
       "  </tbody>\n",
       "</table>\n",
       "<p>10474 rows × 8 columns</p>\n",
       "</div>"
      ],
      "text/plain": [
       "                                                   Title  \\\n",
       "0                         Dress MacLeod from Tartan Sets   \n",
       "1      Duplicate of plate from folio 11 verso (supple...   \n",
       "2                       Tailpiece (page 55) from SAGESSE   \n",
       "3      Headpiece (page 129) from LIVRET DE FOLASTRIES...   \n",
       "4                                          97 rue du Bac   \n",
       "...                                                  ...   \n",
       "16721                  Plate (folio 7) from EXPLORATIONS   \n",
       "16722                                          High Peak   \n",
       "16723                   Picasso Sculpture (paper, skull)   \n",
       "16724                                   Oval with Points   \n",
       "16726                                        The Catboat   \n",
       "\n",
       "                       Artist Nationality Begin_Date End_Date  Gender  \\\n",
       "0          Sarah Charlesworth    American       1947     2013  Female   \n",
       "1             Pablo Palazuelo     Spanish       1916     2007    Male   \n",
       "2               Maurice Denis      French       1870     1943    Male   \n",
       "3            Aristide Maillol      French       1861     1944    Male   \n",
       "4                Eugène Atget      French       1857     1927    Male   \n",
       "...                       ...         ...        ...      ...     ...   \n",
       "16721             Henri Goetz      French       1909     1989    Male   \n",
       "16722  Matthew Rackham Barnes    American       1880     1951    Male   \n",
       "16723  Brassaï (Gyula Halász)      French       1899     1984    Male   \n",
       "16724             Henry Moore     British       1898     1986    Male   \n",
       "16726           Edward Hopper    American       1882     1967    Male   \n",
       "\n",
       "            Date                  Department  \n",
       "0           1986  Prints & Illustrated Books  \n",
       "1           1978  Prints & Illustrated Books  \n",
       "2      1889-1911  Prints & Illustrated Books  \n",
       "3      1927-1940  Prints & Illustrated Books  \n",
       "4           1903                 Photography  \n",
       "...          ...                         ...  \n",
       "16721       1947  Prints & Illustrated Books  \n",
       "16722       1936        Painting & Sculpture  \n",
       "16723       1943                 Photography  \n",
       "16724  1968-1969        Painting & Sculpture  \n",
       "16726       1922  Prints & Illustrated Books  \n",
       "\n",
       "[10474 rows x 8 columns]"
      ]
     },
     "execution_count": 53,
     "metadata": {},
     "output_type": "execute_result"
    }
   ],
   "source": [
    "df"
   ]
  },
  {
   "cell_type": "code",
   "execution_count": 52,
   "id": "e7d60b9b",
   "metadata": {},
   "outputs": [
    {
     "ename": "ValueError",
     "evalue": "Length of values (180) does not match length of index (10474)",
     "output_type": "error",
     "traceback": [
      "\u001b[1;31m---------------------------------------------------------------------------\u001b[0m",
      "\u001b[1;31mValueError\u001b[0m                                Traceback (most recent call last)",
      "Input \u001b[1;32mIn [52]\u001b[0m, in \u001b[0;36m<cell line: 1>\u001b[1;34m()\u001b[0m\n\u001b[1;32m----> 1\u001b[0m \u001b[43mdf\u001b[49m\u001b[38;5;241;43m.\u001b[39;49m\u001b[43minsert\u001b[49m\u001b[43m(\u001b[49m\u001b[38;5;241;43m7\u001b[39;49m\u001b[43m,\u001b[49m\u001b[38;5;124;43m'\u001b[39;49m\u001b[38;5;124;43mDates\u001b[39;49m\u001b[38;5;124;43m'\u001b[39;49m\u001b[43m,\u001b[49m\u001b[43mddd\u001b[49m\u001b[43m)\u001b[49m\n",
      "File \u001b[1;32mC:\\conddda\\lib\\site-packages\\pandas\\core\\frame.py:4444\u001b[0m, in \u001b[0;36mDataFrame.insert\u001b[1;34m(self, loc, column, value, allow_duplicates)\u001b[0m\n\u001b[0;32m   4441\u001b[0m \u001b[38;5;28;01mif\u001b[39;00m \u001b[38;5;129;01mnot\u001b[39;00m \u001b[38;5;28misinstance\u001b[39m(loc, \u001b[38;5;28mint\u001b[39m):\n\u001b[0;32m   4442\u001b[0m     \u001b[38;5;28;01mraise\u001b[39;00m \u001b[38;5;167;01mTypeError\u001b[39;00m(\u001b[38;5;124m\"\u001b[39m\u001b[38;5;124mloc must be int\u001b[39m\u001b[38;5;124m\"\u001b[39m)\n\u001b[1;32m-> 4444\u001b[0m value \u001b[38;5;241m=\u001b[39m \u001b[38;5;28;43mself\u001b[39;49m\u001b[38;5;241;43m.\u001b[39;49m\u001b[43m_sanitize_column\u001b[49m\u001b[43m(\u001b[49m\u001b[43mvalue\u001b[49m\u001b[43m)\u001b[49m\n\u001b[0;32m   4445\u001b[0m \u001b[38;5;28mself\u001b[39m\u001b[38;5;241m.\u001b[39m_mgr\u001b[38;5;241m.\u001b[39minsert(loc, column, value)\n",
      "File \u001b[1;32mC:\\conddda\\lib\\site-packages\\pandas\\core\\frame.py:4535\u001b[0m, in \u001b[0;36mDataFrame._sanitize_column\u001b[1;34m(self, value)\u001b[0m\n\u001b[0;32m   4532\u001b[0m     \u001b[38;5;28;01mreturn\u001b[39;00m _reindex_for_setitem(value, \u001b[38;5;28mself\u001b[39m\u001b[38;5;241m.\u001b[39mindex)\n\u001b[0;32m   4534\u001b[0m \u001b[38;5;28;01mif\u001b[39;00m is_list_like(value):\n\u001b[1;32m-> 4535\u001b[0m     \u001b[43mcom\u001b[49m\u001b[38;5;241;43m.\u001b[39;49m\u001b[43mrequire_length_match\u001b[49m\u001b[43m(\u001b[49m\u001b[43mvalue\u001b[49m\u001b[43m,\u001b[49m\u001b[43m \u001b[49m\u001b[38;5;28;43mself\u001b[39;49m\u001b[38;5;241;43m.\u001b[39;49m\u001b[43mindex\u001b[49m\u001b[43m)\u001b[49m\n\u001b[0;32m   4536\u001b[0m \u001b[38;5;28;01mreturn\u001b[39;00m sanitize_array(value, \u001b[38;5;28mself\u001b[39m\u001b[38;5;241m.\u001b[39mindex, copy\u001b[38;5;241m=\u001b[39m\u001b[38;5;28;01mTrue\u001b[39;00m, allow_2d\u001b[38;5;241m=\u001b[39m\u001b[38;5;28;01mTrue\u001b[39;00m)\n",
      "File \u001b[1;32mC:\\conddda\\lib\\site-packages\\pandas\\core\\common.py:557\u001b[0m, in \u001b[0;36mrequire_length_match\u001b[1;34m(data, index)\u001b[0m\n\u001b[0;32m    553\u001b[0m \u001b[38;5;124;03m\"\"\"\u001b[39;00m\n\u001b[0;32m    554\u001b[0m \u001b[38;5;124;03mCheck the length of data matches the length of the index.\u001b[39;00m\n\u001b[0;32m    555\u001b[0m \u001b[38;5;124;03m\"\"\"\u001b[39;00m\n\u001b[0;32m    556\u001b[0m \u001b[38;5;28;01mif\u001b[39;00m \u001b[38;5;28mlen\u001b[39m(data) \u001b[38;5;241m!=\u001b[39m \u001b[38;5;28mlen\u001b[39m(index):\n\u001b[1;32m--> 557\u001b[0m     \u001b[38;5;28;01mraise\u001b[39;00m \u001b[38;5;167;01mValueError\u001b[39;00m(\n\u001b[0;32m    558\u001b[0m         \u001b[38;5;124m\"\u001b[39m\u001b[38;5;124mLength of values \u001b[39m\u001b[38;5;124m\"\u001b[39m\n\u001b[0;32m    559\u001b[0m         \u001b[38;5;124mf\u001b[39m\u001b[38;5;124m\"\u001b[39m\u001b[38;5;124m(\u001b[39m\u001b[38;5;132;01m{\u001b[39;00m\u001b[38;5;28mlen\u001b[39m(data)\u001b[38;5;132;01m}\u001b[39;00m\u001b[38;5;124m) \u001b[39m\u001b[38;5;124m\"\u001b[39m\n\u001b[0;32m    560\u001b[0m         \u001b[38;5;124m\"\u001b[39m\u001b[38;5;124mdoes not match length of index \u001b[39m\u001b[38;5;124m\"\u001b[39m\n\u001b[0;32m    561\u001b[0m         \u001b[38;5;124mf\u001b[39m\u001b[38;5;124m\"\u001b[39m\u001b[38;5;124m(\u001b[39m\u001b[38;5;132;01m{\u001b[39;00m\u001b[38;5;28mlen\u001b[39m(index)\u001b[38;5;132;01m}\u001b[39;00m\u001b[38;5;124m)\u001b[39m\u001b[38;5;124m\"\u001b[39m\n\u001b[0;32m    562\u001b[0m     )\n",
      "\u001b[1;31mValueError\u001b[0m: Length of values (180) does not match length of index (10474)"
     ]
    }
   ],
   "source": [
    "df.insert(7,'Dates',ddd)"
   ]
  },
  {
   "cell_type": "code",
   "execution_count": 47,
   "id": "227f134f",
   "metadata": {},
   "outputs": [],
   "source": [
    "a = 5//2"
   ]
  },
  {
   "cell_type": "code",
   "execution_count": 49,
   "id": "06dade2c",
   "metadata": {},
   "outputs": [
    {
     "name": "stdout",
     "output_type": "stream",
     "text": [
      "2\n"
     ]
    }
   ],
   "source": [
    "print(a)"
   ]
  },
  {
   "cell_type": "code",
   "execution_count": null,
   "id": "3f4862f9",
   "metadata": {},
   "outputs": [],
   "source": []
  }
 ],
 "metadata": {
  "kernelspec": {
   "display_name": "Python 3 (ipykernel)",
   "language": "python",
   "name": "python3"
  },
  "language_info": {
   "codemirror_mode": {
    "name": "ipython",
    "version": 3
   },
   "file_extension": ".py",
   "mimetype": "text/x-python",
   "name": "python",
   "nbconvert_exporter": "python",
   "pygments_lexer": "ipython3",
   "version": "3.9.12"
  }
 },
 "nbformat": 4,
 "nbformat_minor": 5
}
